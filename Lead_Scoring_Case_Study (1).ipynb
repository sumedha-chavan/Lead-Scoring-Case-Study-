{
 "cells": [
  {
   "cell_type": "markdown",
   "metadata": {},
   "source": [
    "# Lead Scoring Case Study #\n",
    " \n",
    "*Problem Statement:*\n",
    " \n",
    " Build a logistic regression model to assign a lead score between 0 and 100 to each of the leads which can be used by the company to target potential leads. A higher score would mean that the lead is hot, i.e. is most likely to convert whereas a lower score would mean that the lead is cold and will mostly not get converted."
   ]
  },
  {
   "cell_type": "markdown",
   "metadata": {},
   "source": [
    "## Reading and Understanding data"
   ]
  },
  {
   "cell_type": "code",
   "execution_count": 19,
   "metadata": {},
   "outputs": [],
   "source": [
    "# libraries import\n",
    "import pandas as pd\n",
    "import numpy as np\n",
    "\n",
    "import matplotlib.pyplot as plt\n",
    "import seaborn as sns\n",
    "\n",
    "# libraries\n",
    "from sklearn.cluster import KMeans\n",
    "from sklearn.model_selection import train_test_split\n",
    "from sklearn.preprocessing import StandardScaler\n",
    "import statsmodels.api as sm\n",
    "from sklearn.linear_model import LogisticRegression\n",
    "from sklearn.feature_selection import RFE\n",
    "from statsmodels.stats.outliers_influence import variance_inflation_factor\n",
    "from sklearn import metrics\n",
    "from statsmodels.stats.outliers_influence import variance_inflation_factor\n",
    "from sklearn.metrics import precision_recall_curve\n",
    "from sklearn.metrics import precision_score, recall_score\n",
    "from sklearn.preprocessing import MinMaxScaler\n",
    "\n",
    "#Increasing the columns views limit\n",
    "pd.options.display.max_columns = None\n",
    "pd.options.display.max_rows = 150\n",
    "pd.options.display.float_format = '{:.2f}'.format"
   ]
  },
  {
   "cell_type": "code",
   "execution_count": 20,
   "metadata": {},
   "outputs": [],
   "source": [
    "import numpy as np\n",
    "import pandas as pd\n",
    "import matplotlib.pyplot as plt\n",
    "import seaborn as sns\n",
    "from sklearn import linear_model\n",
    "from sklearn.linear_model import LinearRegression\n",
    "import warnings\n",
    "warnings.filterwarnings('ignore')"
   ]
  },
  {
   "cell_type": "code",
   "execution_count": 21,
   "metadata": {},
   "outputs": [
    {
     "data": {
      "text/html": [
       "<div>\n",
       "<style scoped>\n",
       "    .dataframe tbody tr th:only-of-type {\n",
       "        vertical-align: middle;\n",
       "    }\n",
       "\n",
       "    .dataframe tbody tr th {\n",
       "        vertical-align: top;\n",
       "    }\n",
       "\n",
       "    .dataframe thead th {\n",
       "        text-align: right;\n",
       "    }\n",
       "</style>\n",
       "<table border=\"1\" class=\"dataframe\">\n",
       "  <thead>\n",
       "    <tr style=\"text-align: right;\">\n",
       "      <th></th>\n",
       "      <th>Prospect ID</th>\n",
       "      <th>Lead Number</th>\n",
       "      <th>Lead Origin</th>\n",
       "      <th>Lead Source</th>\n",
       "      <th>Do Not Email</th>\n",
       "      <th>Do Not Call</th>\n",
       "      <th>Converted</th>\n",
       "      <th>TotalVisits</th>\n",
       "      <th>Total Time Spent on Website</th>\n",
       "      <th>Page Views Per Visit</th>\n",
       "      <th>Last Activity</th>\n",
       "      <th>Country</th>\n",
       "      <th>Specialization</th>\n",
       "      <th>How did you hear about X Education</th>\n",
       "      <th>What is your current occupation</th>\n",
       "      <th>What matters most to you in choosing a course</th>\n",
       "      <th>Search</th>\n",
       "      <th>Magazine</th>\n",
       "      <th>Newspaper Article</th>\n",
       "      <th>X Education Forums</th>\n",
       "      <th>Newspaper</th>\n",
       "      <th>Digital Advertisement</th>\n",
       "      <th>Through Recommendations</th>\n",
       "      <th>Receive More Updates About Our Courses</th>\n",
       "      <th>Tags</th>\n",
       "      <th>Lead Quality</th>\n",
       "      <th>Update me on Supply Chain Content</th>\n",
       "      <th>Get updates on DM Content</th>\n",
       "      <th>Lead Profile</th>\n",
       "      <th>City</th>\n",
       "      <th>Asymmetrique Activity Index</th>\n",
       "      <th>Asymmetrique Profile Index</th>\n",
       "      <th>Asymmetrique Activity Score</th>\n",
       "      <th>Asymmetrique Profile Score</th>\n",
       "      <th>I agree to pay the amount through cheque</th>\n",
       "      <th>A free copy of Mastering The Interview</th>\n",
       "      <th>Last Notable Activity</th>\n",
       "    </tr>\n",
       "  </thead>\n",
       "  <tbody>\n",
       "    <tr>\n",
       "      <th>0</th>\n",
       "      <td>7927b2df-8bba-4d29-b9a2-b6e0beafe620</td>\n",
       "      <td>660737</td>\n",
       "      <td>API</td>\n",
       "      <td>Olark Chat</td>\n",
       "      <td>No</td>\n",
       "      <td>No</td>\n",
       "      <td>0</td>\n",
       "      <td>0.00</td>\n",
       "      <td>0</td>\n",
       "      <td>0.00</td>\n",
       "      <td>Page Visited on Website</td>\n",
       "      <td>NaN</td>\n",
       "      <td>Select</td>\n",
       "      <td>Select</td>\n",
       "      <td>Unemployed</td>\n",
       "      <td>Better Career Prospects</td>\n",
       "      <td>No</td>\n",
       "      <td>No</td>\n",
       "      <td>No</td>\n",
       "      <td>No</td>\n",
       "      <td>No</td>\n",
       "      <td>No</td>\n",
       "      <td>No</td>\n",
       "      <td>No</td>\n",
       "      <td>Interested in other courses</td>\n",
       "      <td>Low in Relevance</td>\n",
       "      <td>No</td>\n",
       "      <td>No</td>\n",
       "      <td>Select</td>\n",
       "      <td>Select</td>\n",
       "      <td>02.Medium</td>\n",
       "      <td>02.Medium</td>\n",
       "      <td>15.00</td>\n",
       "      <td>15.00</td>\n",
       "      <td>No</td>\n",
       "      <td>No</td>\n",
       "      <td>Modified</td>\n",
       "    </tr>\n",
       "    <tr>\n",
       "      <th>1</th>\n",
       "      <td>2a272436-5132-4136-86fa-dcc88c88f482</td>\n",
       "      <td>660728</td>\n",
       "      <td>API</td>\n",
       "      <td>Organic Search</td>\n",
       "      <td>No</td>\n",
       "      <td>No</td>\n",
       "      <td>0</td>\n",
       "      <td>5.00</td>\n",
       "      <td>674</td>\n",
       "      <td>2.50</td>\n",
       "      <td>Email Opened</td>\n",
       "      <td>India</td>\n",
       "      <td>Select</td>\n",
       "      <td>Select</td>\n",
       "      <td>Unemployed</td>\n",
       "      <td>Better Career Prospects</td>\n",
       "      <td>No</td>\n",
       "      <td>No</td>\n",
       "      <td>No</td>\n",
       "      <td>No</td>\n",
       "      <td>No</td>\n",
       "      <td>No</td>\n",
       "      <td>No</td>\n",
       "      <td>No</td>\n",
       "      <td>Ringing</td>\n",
       "      <td>NaN</td>\n",
       "      <td>No</td>\n",
       "      <td>No</td>\n",
       "      <td>Select</td>\n",
       "      <td>Select</td>\n",
       "      <td>02.Medium</td>\n",
       "      <td>02.Medium</td>\n",
       "      <td>15.00</td>\n",
       "      <td>15.00</td>\n",
       "      <td>No</td>\n",
       "      <td>No</td>\n",
       "      <td>Email Opened</td>\n",
       "    </tr>\n",
       "    <tr>\n",
       "      <th>2</th>\n",
       "      <td>8cc8c611-a219-4f35-ad23-fdfd2656bd8a</td>\n",
       "      <td>660727</td>\n",
       "      <td>Landing Page Submission</td>\n",
       "      <td>Direct Traffic</td>\n",
       "      <td>No</td>\n",
       "      <td>No</td>\n",
       "      <td>1</td>\n",
       "      <td>2.00</td>\n",
       "      <td>1532</td>\n",
       "      <td>2.00</td>\n",
       "      <td>Email Opened</td>\n",
       "      <td>India</td>\n",
       "      <td>Business Administration</td>\n",
       "      <td>Select</td>\n",
       "      <td>Student</td>\n",
       "      <td>Better Career Prospects</td>\n",
       "      <td>No</td>\n",
       "      <td>No</td>\n",
       "      <td>No</td>\n",
       "      <td>No</td>\n",
       "      <td>No</td>\n",
       "      <td>No</td>\n",
       "      <td>No</td>\n",
       "      <td>No</td>\n",
       "      <td>Will revert after reading the email</td>\n",
       "      <td>Might be</td>\n",
       "      <td>No</td>\n",
       "      <td>No</td>\n",
       "      <td>Potential Lead</td>\n",
       "      <td>Mumbai</td>\n",
       "      <td>02.Medium</td>\n",
       "      <td>01.High</td>\n",
       "      <td>14.00</td>\n",
       "      <td>20.00</td>\n",
       "      <td>No</td>\n",
       "      <td>Yes</td>\n",
       "      <td>Email Opened</td>\n",
       "    </tr>\n",
       "    <tr>\n",
       "      <th>3</th>\n",
       "      <td>0cc2df48-7cf4-4e39-9de9-19797f9b38cc</td>\n",
       "      <td>660719</td>\n",
       "      <td>Landing Page Submission</td>\n",
       "      <td>Direct Traffic</td>\n",
       "      <td>No</td>\n",
       "      <td>No</td>\n",
       "      <td>0</td>\n",
       "      <td>1.00</td>\n",
       "      <td>305</td>\n",
       "      <td>1.00</td>\n",
       "      <td>Unreachable</td>\n",
       "      <td>India</td>\n",
       "      <td>Media and Advertising</td>\n",
       "      <td>Word Of Mouth</td>\n",
       "      <td>Unemployed</td>\n",
       "      <td>Better Career Prospects</td>\n",
       "      <td>No</td>\n",
       "      <td>No</td>\n",
       "      <td>No</td>\n",
       "      <td>No</td>\n",
       "      <td>No</td>\n",
       "      <td>No</td>\n",
       "      <td>No</td>\n",
       "      <td>No</td>\n",
       "      <td>Ringing</td>\n",
       "      <td>Not Sure</td>\n",
       "      <td>No</td>\n",
       "      <td>No</td>\n",
       "      <td>Select</td>\n",
       "      <td>Mumbai</td>\n",
       "      <td>02.Medium</td>\n",
       "      <td>01.High</td>\n",
       "      <td>13.00</td>\n",
       "      <td>17.00</td>\n",
       "      <td>No</td>\n",
       "      <td>No</td>\n",
       "      <td>Modified</td>\n",
       "    </tr>\n",
       "    <tr>\n",
       "      <th>4</th>\n",
       "      <td>3256f628-e534-4826-9d63-4a8b88782852</td>\n",
       "      <td>660681</td>\n",
       "      <td>Landing Page Submission</td>\n",
       "      <td>Google</td>\n",
       "      <td>No</td>\n",
       "      <td>No</td>\n",
       "      <td>1</td>\n",
       "      <td>2.00</td>\n",
       "      <td>1428</td>\n",
       "      <td>1.00</td>\n",
       "      <td>Converted to Lead</td>\n",
       "      <td>India</td>\n",
       "      <td>Select</td>\n",
       "      <td>Other</td>\n",
       "      <td>Unemployed</td>\n",
       "      <td>Better Career Prospects</td>\n",
       "      <td>No</td>\n",
       "      <td>No</td>\n",
       "      <td>No</td>\n",
       "      <td>No</td>\n",
       "      <td>No</td>\n",
       "      <td>No</td>\n",
       "      <td>No</td>\n",
       "      <td>No</td>\n",
       "      <td>Will revert after reading the email</td>\n",
       "      <td>Might be</td>\n",
       "      <td>No</td>\n",
       "      <td>No</td>\n",
       "      <td>Select</td>\n",
       "      <td>Mumbai</td>\n",
       "      <td>02.Medium</td>\n",
       "      <td>01.High</td>\n",
       "      <td>15.00</td>\n",
       "      <td>18.00</td>\n",
       "      <td>No</td>\n",
       "      <td>No</td>\n",
       "      <td>Modified</td>\n",
       "    </tr>\n",
       "  </tbody>\n",
       "</table>\n",
       "</div>"
      ],
      "text/plain": [
       "                            Prospect ID  Lead Number              Lead Origin  \\\n",
       "0  7927b2df-8bba-4d29-b9a2-b6e0beafe620       660737                      API   \n",
       "1  2a272436-5132-4136-86fa-dcc88c88f482       660728                      API   \n",
       "2  8cc8c611-a219-4f35-ad23-fdfd2656bd8a       660727  Landing Page Submission   \n",
       "3  0cc2df48-7cf4-4e39-9de9-19797f9b38cc       660719  Landing Page Submission   \n",
       "4  3256f628-e534-4826-9d63-4a8b88782852       660681  Landing Page Submission   \n",
       "\n",
       "      Lead Source Do Not Email Do Not Call  Converted  TotalVisits  \\\n",
       "0      Olark Chat           No          No          0         0.00   \n",
       "1  Organic Search           No          No          0         5.00   \n",
       "2  Direct Traffic           No          No          1         2.00   \n",
       "3  Direct Traffic           No          No          0         1.00   \n",
       "4          Google           No          No          1         2.00   \n",
       "\n",
       "   Total Time Spent on Website  Page Views Per Visit            Last Activity  \\\n",
       "0                            0                  0.00  Page Visited on Website   \n",
       "1                          674                  2.50             Email Opened   \n",
       "2                         1532                  2.00             Email Opened   \n",
       "3                          305                  1.00              Unreachable   \n",
       "4                         1428                  1.00        Converted to Lead   \n",
       "\n",
       "  Country           Specialization How did you hear about X Education  \\\n",
       "0     NaN                   Select                             Select   \n",
       "1   India                   Select                             Select   \n",
       "2   India  Business Administration                             Select   \n",
       "3   India    Media and Advertising                      Word Of Mouth   \n",
       "4   India                   Select                              Other   \n",
       "\n",
       "  What is your current occupation  \\\n",
       "0                      Unemployed   \n",
       "1                      Unemployed   \n",
       "2                         Student   \n",
       "3                      Unemployed   \n",
       "4                      Unemployed   \n",
       "\n",
       "  What matters most to you in choosing a course Search Magazine  \\\n",
       "0                       Better Career Prospects     No       No   \n",
       "1                       Better Career Prospects     No       No   \n",
       "2                       Better Career Prospects     No       No   \n",
       "3                       Better Career Prospects     No       No   \n",
       "4                       Better Career Prospects     No       No   \n",
       "\n",
       "  Newspaper Article X Education Forums Newspaper Digital Advertisement  \\\n",
       "0                No                 No        No                    No   \n",
       "1                No                 No        No                    No   \n",
       "2                No                 No        No                    No   \n",
       "3                No                 No        No                    No   \n",
       "4                No                 No        No                    No   \n",
       "\n",
       "  Through Recommendations Receive More Updates About Our Courses  \\\n",
       "0                      No                                     No   \n",
       "1                      No                                     No   \n",
       "2                      No                                     No   \n",
       "3                      No                                     No   \n",
       "4                      No                                     No   \n",
       "\n",
       "                                  Tags      Lead Quality  \\\n",
       "0          Interested in other courses  Low in Relevance   \n",
       "1                              Ringing               NaN   \n",
       "2  Will revert after reading the email          Might be   \n",
       "3                              Ringing          Not Sure   \n",
       "4  Will revert after reading the email          Might be   \n",
       "\n",
       "  Update me on Supply Chain Content Get updates on DM Content    Lead Profile  \\\n",
       "0                                No                        No          Select   \n",
       "1                                No                        No          Select   \n",
       "2                                No                        No  Potential Lead   \n",
       "3                                No                        No          Select   \n",
       "4                                No                        No          Select   \n",
       "\n",
       "     City Asymmetrique Activity Index Asymmetrique Profile Index  \\\n",
       "0  Select                   02.Medium                  02.Medium   \n",
       "1  Select                   02.Medium                  02.Medium   \n",
       "2  Mumbai                   02.Medium                    01.High   \n",
       "3  Mumbai                   02.Medium                    01.High   \n",
       "4  Mumbai                   02.Medium                    01.High   \n",
       "\n",
       "   Asymmetrique Activity Score  Asymmetrique Profile Score  \\\n",
       "0                        15.00                       15.00   \n",
       "1                        15.00                       15.00   \n",
       "2                        14.00                       20.00   \n",
       "3                        13.00                       17.00   \n",
       "4                        15.00                       18.00   \n",
       "\n",
       "  I agree to pay the amount through cheque  \\\n",
       "0                                       No   \n",
       "1                                       No   \n",
       "2                                       No   \n",
       "3                                       No   \n",
       "4                                       No   \n",
       "\n",
       "  A free copy of Mastering The Interview Last Notable Activity  \n",
       "0                                     No              Modified  \n",
       "1                                     No          Email Opened  \n",
       "2                                    Yes          Email Opened  \n",
       "3                                     No              Modified  \n",
       "4                                     No              Modified  "
      ]
     },
     "execution_count": 21,
     "metadata": {},
     "output_type": "execute_result"
    }
   ],
   "source": [
    "df_LeadData = pd.read_csv('Leads.csv')\n",
    "\n",
    "df_LeadData.head()"
   ]
  },
  {
   "cell_type": "code",
   "execution_count": 22,
   "metadata": {},
   "outputs": [
    {
     "data": {
      "text/plain": [
       "(9240, 37)"
      ]
     },
     "execution_count": 22,
     "metadata": {},
     "output_type": "execute_result"
    }
   ],
   "source": [
    "df_LeadData.shape"
   ]
  },
  {
   "cell_type": "code",
   "execution_count": 23,
   "metadata": {},
   "outputs": [
    {
     "data": {
      "text/html": [
       "<div>\n",
       "<style scoped>\n",
       "    .dataframe tbody tr th:only-of-type {\n",
       "        vertical-align: middle;\n",
       "    }\n",
       "\n",
       "    .dataframe tbody tr th {\n",
       "        vertical-align: top;\n",
       "    }\n",
       "\n",
       "    .dataframe thead th {\n",
       "        text-align: right;\n",
       "    }\n",
       "</style>\n",
       "<table border=\"1\" class=\"dataframe\">\n",
       "  <thead>\n",
       "    <tr style=\"text-align: right;\">\n",
       "      <th></th>\n",
       "      <th>Lead Number</th>\n",
       "      <th>Converted</th>\n",
       "      <th>TotalVisits</th>\n",
       "      <th>Total Time Spent on Website</th>\n",
       "      <th>Page Views Per Visit</th>\n",
       "      <th>Asymmetrique Activity Score</th>\n",
       "      <th>Asymmetrique Profile Score</th>\n",
       "    </tr>\n",
       "  </thead>\n",
       "  <tbody>\n",
       "    <tr>\n",
       "      <th>count</th>\n",
       "      <td>9240.00</td>\n",
       "      <td>9240.00</td>\n",
       "      <td>9103.00</td>\n",
       "      <td>9240.00</td>\n",
       "      <td>9103.00</td>\n",
       "      <td>5022.00</td>\n",
       "      <td>5022.00</td>\n",
       "    </tr>\n",
       "    <tr>\n",
       "      <th>mean</th>\n",
       "      <td>617188.44</td>\n",
       "      <td>0.39</td>\n",
       "      <td>3.45</td>\n",
       "      <td>487.70</td>\n",
       "      <td>2.36</td>\n",
       "      <td>14.31</td>\n",
       "      <td>16.34</td>\n",
       "    </tr>\n",
       "    <tr>\n",
       "      <th>std</th>\n",
       "      <td>23406.00</td>\n",
       "      <td>0.49</td>\n",
       "      <td>4.85</td>\n",
       "      <td>548.02</td>\n",
       "      <td>2.16</td>\n",
       "      <td>1.39</td>\n",
       "      <td>1.81</td>\n",
       "    </tr>\n",
       "    <tr>\n",
       "      <th>min</th>\n",
       "      <td>579533.00</td>\n",
       "      <td>0.00</td>\n",
       "      <td>0.00</td>\n",
       "      <td>0.00</td>\n",
       "      <td>0.00</td>\n",
       "      <td>7.00</td>\n",
       "      <td>11.00</td>\n",
       "    </tr>\n",
       "    <tr>\n",
       "      <th>25%</th>\n",
       "      <td>596484.50</td>\n",
       "      <td>0.00</td>\n",
       "      <td>1.00</td>\n",
       "      <td>12.00</td>\n",
       "      <td>1.00</td>\n",
       "      <td>14.00</td>\n",
       "      <td>15.00</td>\n",
       "    </tr>\n",
       "    <tr>\n",
       "      <th>50%</th>\n",
       "      <td>615479.00</td>\n",
       "      <td>0.00</td>\n",
       "      <td>3.00</td>\n",
       "      <td>248.00</td>\n",
       "      <td>2.00</td>\n",
       "      <td>14.00</td>\n",
       "      <td>16.00</td>\n",
       "    </tr>\n",
       "    <tr>\n",
       "      <th>75%</th>\n",
       "      <td>637387.25</td>\n",
       "      <td>1.00</td>\n",
       "      <td>5.00</td>\n",
       "      <td>936.00</td>\n",
       "      <td>3.00</td>\n",
       "      <td>15.00</td>\n",
       "      <td>18.00</td>\n",
       "    </tr>\n",
       "    <tr>\n",
       "      <th>max</th>\n",
       "      <td>660737.00</td>\n",
       "      <td>1.00</td>\n",
       "      <td>251.00</td>\n",
       "      <td>2272.00</td>\n",
       "      <td>55.00</td>\n",
       "      <td>18.00</td>\n",
       "      <td>20.00</td>\n",
       "    </tr>\n",
       "  </tbody>\n",
       "</table>\n",
       "</div>"
      ],
      "text/plain": [
       "       Lead Number  Converted  TotalVisits  Total Time Spent on Website  \\\n",
       "count      9240.00    9240.00      9103.00                      9240.00   \n",
       "mean     617188.44       0.39         3.45                       487.70   \n",
       "std       23406.00       0.49         4.85                       548.02   \n",
       "min      579533.00       0.00         0.00                         0.00   \n",
       "25%      596484.50       0.00         1.00                        12.00   \n",
       "50%      615479.00       0.00         3.00                       248.00   \n",
       "75%      637387.25       1.00         5.00                       936.00   \n",
       "max      660737.00       1.00       251.00                      2272.00   \n",
       "\n",
       "       Page Views Per Visit  Asymmetrique Activity Score  \\\n",
       "count               9103.00                      5022.00   \n",
       "mean                   2.36                        14.31   \n",
       "std                    2.16                         1.39   \n",
       "min                    0.00                         7.00   \n",
       "25%                    1.00                        14.00   \n",
       "50%                    2.00                        14.00   \n",
       "75%                    3.00                        15.00   \n",
       "max                   55.00                        18.00   \n",
       "\n",
       "       Asymmetrique Profile Score  \n",
       "count                     5022.00  \n",
       "mean                        16.34  \n",
       "std                          1.81  \n",
       "min                         11.00  \n",
       "25%                         15.00  \n",
       "50%                         16.00  \n",
       "75%                         18.00  \n",
       "max                         20.00  "
      ]
     },
     "execution_count": 23,
     "metadata": {},
     "output_type": "execute_result"
    }
   ],
   "source": [
    "df_LeadData.describe()"
   ]
  },
  {
   "cell_type": "code",
   "execution_count": 24,
   "metadata": {},
   "outputs": [
    {
     "data": {
      "text/plain": [
       "0"
      ]
     },
     "execution_count": 24,
     "metadata": {},
     "output_type": "execute_result"
    }
   ],
   "source": [
    "df_LeadData.duplicated().sum()"
   ]
  },
  {
   "cell_type": "markdown",
   "metadata": {},
   "source": [
    "No duplicate rows found"
   ]
  },
  {
   "cell_type": "code",
   "execution_count": 25,
   "metadata": {},
   "outputs": [
    {
     "name": "stdout",
     "output_type": "stream",
     "text": [
      "<class 'pandas.core.frame.DataFrame'>\n",
      "RangeIndex: 9240 entries, 0 to 9239\n",
      "Data columns (total 37 columns):\n",
      " #   Column                                         Non-Null Count  Dtype  \n",
      "---  ------                                         --------------  -----  \n",
      " 0   Prospect ID                                    9240 non-null   object \n",
      " 1   Lead Number                                    9240 non-null   int64  \n",
      " 2   Lead Origin                                    9240 non-null   object \n",
      " 3   Lead Source                                    9204 non-null   object \n",
      " 4   Do Not Email                                   9240 non-null   object \n",
      " 5   Do Not Call                                    9240 non-null   object \n",
      " 6   Converted                                      9240 non-null   int64  \n",
      " 7   TotalVisits                                    9103 non-null   float64\n",
      " 8   Total Time Spent on Website                    9240 non-null   int64  \n",
      " 9   Page Views Per Visit                           9103 non-null   float64\n",
      " 10  Last Activity                                  9137 non-null   object \n",
      " 11  Country                                        6779 non-null   object \n",
      " 12  Specialization                                 7802 non-null   object \n",
      " 13  How did you hear about X Education             7033 non-null   object \n",
      " 14  What is your current occupation                6550 non-null   object \n",
      " 15  What matters most to you in choosing a course  6531 non-null   object \n",
      " 16  Search                                         9240 non-null   object \n",
      " 17  Magazine                                       9240 non-null   object \n",
      " 18  Newspaper Article                              9240 non-null   object \n",
      " 19  X Education Forums                             9240 non-null   object \n",
      " 20  Newspaper                                      9240 non-null   object \n",
      " 21  Digital Advertisement                          9240 non-null   object \n",
      " 22  Through Recommendations                        9240 non-null   object \n",
      " 23  Receive More Updates About Our Courses         9240 non-null   object \n",
      " 24  Tags                                           5887 non-null   object \n",
      " 25  Lead Quality                                   4473 non-null   object \n",
      " 26  Update me on Supply Chain Content              9240 non-null   object \n",
      " 27  Get updates on DM Content                      9240 non-null   object \n",
      " 28  Lead Profile                                   6531 non-null   object \n",
      " 29  City                                           7820 non-null   object \n",
      " 30  Asymmetrique Activity Index                    5022 non-null   object \n",
      " 31  Asymmetrique Profile Index                     5022 non-null   object \n",
      " 32  Asymmetrique Activity Score                    5022 non-null   float64\n",
      " 33  Asymmetrique Profile Score                     5022 non-null   float64\n",
      " 34  I agree to pay the amount through cheque       9240 non-null   object \n",
      " 35  A free copy of Mastering The Interview         9240 non-null   object \n",
      " 36  Last Notable Activity                          9240 non-null   object \n",
      "dtypes: float64(4), int64(3), object(30)\n",
      "memory usage: 2.6+ MB\n"
     ]
    }
   ],
   "source": [
    "df_LeadData.info()"
   ]
  },
  {
   "cell_type": "markdown",
   "metadata": {},
   "source": [
    "1. Many columns have null values, Such columns must be dropped\n",
    "2. From Prospect ID and Lead Number , one column can be dropped, as both are unique identifiers\n",
    "3. Some Column names are longer than required, these columns must be renamed\n",
    "4. Some columns have 'select' as entry, These should be changed to null. "
   ]
  },
  {
   "cell_type": "markdown",
   "metadata": {},
   "source": [
    "## Data Cleaning"
   ]
  },
  {
   "cell_type": "markdown",
   "metadata": {},
   "source": [
    "### Rename Column Name"
   ]
  },
  {
   "cell_type": "code",
   "execution_count": 26,
   "metadata": {},
   "outputs": [
    {
     "data": {
      "text/plain": [
       "Index(['prospect_id', 'lead_number', 'lead_origin', 'lead_source',\n",
       "       'do_not_email', 'do_not_call', 'converted', 'totalvisits',\n",
       "       'total_time_spent_on_website', 'page_views_per_visit', 'last_activity',\n",
       "       'country', 'specialization', 'how_did_you_hear_about_x_education',\n",
       "       'what_is_your_current_occupation',\n",
       "       'what_matters_most_to_you_in_choosing_a_course', 'search', 'magazine',\n",
       "       'newspaper_article', 'x_education_forums', 'newspaper',\n",
       "       'digital_advertisement', 'through_recommendations',\n",
       "       'receive_more_updates_about_our_courses', 'tags', 'lead_quality',\n",
       "       'update_me_on_supply_chain_content', 'get_updates_on_dm_content',\n",
       "       'lead_profile', 'city', 'asymmetrique_activity_index',\n",
       "       'asymmetrique_profile_index', 'asymmetrique_activity_score',\n",
       "       'asymmetrique_profile_score',\n",
       "       'i_agree_to_pay_the_amount_through_cheque',\n",
       "       'a_free_copy_of_mastering_the_interview', 'last_notable_activity'],\n",
       "      dtype='object')"
      ]
     },
     "execution_count": 26,
     "metadata": {},
     "output_type": "execute_result"
    }
   ],
   "source": [
    "df_LeadData.columns = df_LeadData.columns.str.replace(' ', '_').str.lower()\n",
    "\n",
    "df_LeadData.columns"
   ]
  },
  {
   "cell_type": "code",
   "execution_count": 27,
   "metadata": {},
   "outputs": [
    {
     "data": {
      "text/html": [
       "<div>\n",
       "<style scoped>\n",
       "    .dataframe tbody tr th:only-of-type {\n",
       "        vertical-align: middle;\n",
       "    }\n",
       "\n",
       "    .dataframe tbody tr th {\n",
       "        vertical-align: top;\n",
       "    }\n",
       "\n",
       "    .dataframe thead th {\n",
       "        text-align: right;\n",
       "    }\n",
       "</style>\n",
       "<table border=\"1\" class=\"dataframe\">\n",
       "  <thead>\n",
       "    <tr style=\"text-align: right;\">\n",
       "      <th></th>\n",
       "      <th>prospect_id</th>\n",
       "      <th>lead_number</th>\n",
       "      <th>lead_origin</th>\n",
       "      <th>lead_source</th>\n",
       "      <th>do_not_email</th>\n",
       "      <th>do_not_call</th>\n",
       "      <th>converted</th>\n",
       "      <th>total_visits</th>\n",
       "      <th>time_on_website</th>\n",
       "      <th>page_views_per_visit</th>\n",
       "      <th>last_activity</th>\n",
       "      <th>country</th>\n",
       "      <th>specialization</th>\n",
       "      <th>source</th>\n",
       "      <th>occupation</th>\n",
       "      <th>course_selection_reason</th>\n",
       "      <th>search</th>\n",
       "      <th>magazine</th>\n",
       "      <th>newspaper_article</th>\n",
       "      <th>x_education_forums</th>\n",
       "      <th>newspaper</th>\n",
       "      <th>digital_advertisement</th>\n",
       "      <th>through_recommendations</th>\n",
       "      <th>courses_updates</th>\n",
       "      <th>tags</th>\n",
       "      <th>lead_quality</th>\n",
       "      <th>supply_chain_content_updates</th>\n",
       "      <th>dm_content_updates</th>\n",
       "      <th>lead_profile</th>\n",
       "      <th>city</th>\n",
       "      <th>asymmetrique_activity_index</th>\n",
       "      <th>asymmetrique_profile_index</th>\n",
       "      <th>asymmetrique_activity_score</th>\n",
       "      <th>asymmetrique_profile_score</th>\n",
       "      <th>cheque_payment</th>\n",
       "      <th>mastering_interview</th>\n",
       "      <th>last_notable_activity</th>\n",
       "    </tr>\n",
       "  </thead>\n",
       "  <tbody>\n",
       "    <tr>\n",
       "      <th>0</th>\n",
       "      <td>7927b2df-8bba-4d29-b9a2-b6e0beafe620</td>\n",
       "      <td>660737</td>\n",
       "      <td>API</td>\n",
       "      <td>Olark Chat</td>\n",
       "      <td>No</td>\n",
       "      <td>No</td>\n",
       "      <td>0</td>\n",
       "      <td>0.00</td>\n",
       "      <td>0</td>\n",
       "      <td>0.00</td>\n",
       "      <td>Page Visited on Website</td>\n",
       "      <td>NaN</td>\n",
       "      <td>Select</td>\n",
       "      <td>Select</td>\n",
       "      <td>Unemployed</td>\n",
       "      <td>Better Career Prospects</td>\n",
       "      <td>No</td>\n",
       "      <td>No</td>\n",
       "      <td>No</td>\n",
       "      <td>No</td>\n",
       "      <td>No</td>\n",
       "      <td>No</td>\n",
       "      <td>No</td>\n",
       "      <td>No</td>\n",
       "      <td>Interested in other courses</td>\n",
       "      <td>Low in Relevance</td>\n",
       "      <td>No</td>\n",
       "      <td>No</td>\n",
       "      <td>Select</td>\n",
       "      <td>Select</td>\n",
       "      <td>02.Medium</td>\n",
       "      <td>02.Medium</td>\n",
       "      <td>15.00</td>\n",
       "      <td>15.00</td>\n",
       "      <td>No</td>\n",
       "      <td>No</td>\n",
       "      <td>Modified</td>\n",
       "    </tr>\n",
       "  </tbody>\n",
       "</table>\n",
       "</div>"
      ],
      "text/plain": [
       "                            prospect_id  lead_number lead_origin lead_source  \\\n",
       "0  7927b2df-8bba-4d29-b9a2-b6e0beafe620       660737         API  Olark Chat   \n",
       "\n",
       "  do_not_email do_not_call  converted  total_visits  time_on_website  \\\n",
       "0           No          No          0          0.00                0   \n",
       "\n",
       "   page_views_per_visit            last_activity country specialization  \\\n",
       "0                  0.00  Page Visited on Website     NaN         Select   \n",
       "\n",
       "   source  occupation  course_selection_reason search magazine  \\\n",
       "0  Select  Unemployed  Better Career Prospects     No       No   \n",
       "\n",
       "  newspaper_article x_education_forums newspaper digital_advertisement  \\\n",
       "0                No                 No        No                    No   \n",
       "\n",
       "  through_recommendations courses_updates                         tags  \\\n",
       "0                      No              No  Interested in other courses   \n",
       "\n",
       "       lead_quality supply_chain_content_updates dm_content_updates  \\\n",
       "0  Low in Relevance                           No                 No   \n",
       "\n",
       "  lead_profile    city asymmetrique_activity_index asymmetrique_profile_index  \\\n",
       "0       Select  Select                   02.Medium                  02.Medium   \n",
       "\n",
       "   asymmetrique_activity_score  asymmetrique_profile_score cheque_payment  \\\n",
       "0                        15.00                       15.00             No   \n",
       "\n",
       "  mastering_interview last_notable_activity  \n",
       "0                  No              Modified  "
      ]
     },
     "execution_count": 27,
     "metadata": {},
     "output_type": "execute_result"
    }
   ],
   "source": [
    "#shorten Column Names\n",
    "df_LeadData.rename(columns = {'totalvisits': 'total_visits', 'total_time_spent_on_website': 'time_on_website', \n",
    "                    'how_did_you_hear_about_x_education': 'source', 'what_is_your_current_occupation': 'occupation',\n",
    "                    'what_matters_most_to_you_in_choosing_a_course' : 'course_selection_reason', \n",
    "                    'receive_more_updates_about_our_courses': 'courses_updates', \n",
    "                     'update_me_on_supply_chain_content': 'supply_chain_content_updates',\n",
    "                    'get_updates_on_dm_content': 'dm_content_updates',\n",
    "                    'i_agree_to_pay_the_amount_through_cheque': 'cheque_payment',\n",
    "                    'a_free_copy_of_mastering_the_interview': 'mastering_interview'}, inplace = True)\n",
    "df_LeadData.head(1)"
   ]
  },
  {
   "cell_type": "markdown",
   "metadata": {},
   "source": [
    "### Drop 'Prospect_Id' Column"
   ]
  },
  {
   "cell_type": "code",
   "execution_count": 28,
   "metadata": {},
   "outputs": [],
   "source": [
    "df_LeadData.drop('prospect_id', axis = 1, inplace = True)"
   ]
  },
  {
   "cell_type": "markdown",
   "metadata": {},
   "source": [
    "### Replace 'Select' with null"
   ]
  },
  {
   "cell_type": "code",
   "execution_count": 29,
   "metadata": {},
   "outputs": [
    {
     "name": "stdout",
     "output_type": "stream",
     "text": [
      "['specialization', 'source', 'lead_profile', 'city']\n"
     ]
    }
   ],
   "source": [
    "# Check which columns have 'select' value\n",
    "df_obj = df_LeadData.select_dtypes(include='object')\n",
    "\n",
    "# Find out columns that have \"Select\"\n",
    "s = lambda x: x.str.contains('Select', na=False)\n",
    "l = df_obj.columns[df_obj.apply(s).any()].tolist()\n",
    "print (l)"
   ]
  },
  {
   "cell_type": "markdown",
   "metadata": {},
   "source": [
    "4 Columns have 'select' value"
   ]
  },
  {
   "cell_type": "code",
   "execution_count": 30,
   "metadata": {},
   "outputs": [],
   "source": [
    "#replace select value with null\n",
    "sel_cols = ['specialization', 'source', 'lead_profile', 'city']\n",
    "\n",
    "# replace values\n",
    "df_LeadData[sel_cols] = df_LeadData[sel_cols].replace('Select', np.NaN)"
   ]
  },
  {
   "cell_type": "markdown",
   "metadata": {},
   "source": [
    "### Handle null values"
   ]
  },
  {
   "cell_type": "code",
   "execution_count": 31,
   "metadata": {},
   "outputs": [
    {
     "data": {
      "text/plain": [
       "lead_number                        0\n",
       "lead_origin                        0\n",
       "lead_source                       36\n",
       "do_not_email                       0\n",
       "do_not_call                        0\n",
       "converted                          0\n",
       "total_visits                     137\n",
       "time_on_website                    0\n",
       "page_views_per_visit             137\n",
       "last_activity                    103\n",
       "country                         2461\n",
       "specialization                  3380\n",
       "source                          7250\n",
       "occupation                      2690\n",
       "course_selection_reason         2709\n",
       "search                             0\n",
       "magazine                           0\n",
       "newspaper_article                  0\n",
       "x_education_forums                 0\n",
       "newspaper                          0\n",
       "digital_advertisement              0\n",
       "through_recommendations            0\n",
       "courses_updates                    0\n",
       "tags                            3353\n",
       "lead_quality                    4767\n",
       "supply_chain_content_updates       0\n",
       "dm_content_updates                 0\n",
       "lead_profile                    6855\n",
       "city                            3669\n",
       "asymmetrique_activity_index     4218\n",
       "asymmetrique_profile_index      4218\n",
       "asymmetrique_activity_score     4218\n",
       "asymmetrique_profile_score      4218\n",
       "cheque_payment                     0\n",
       "mastering_interview                0\n",
       "last_notable_activity              0\n",
       "dtype: int64"
      ]
     },
     "execution_count": 31,
     "metadata": {},
     "output_type": "execute_result"
    }
   ],
   "source": [
    "#null value count\n",
    "df_LeadData.isnull().sum()"
   ]
  },
  {
   "cell_type": "code",
   "execution_count": 32,
   "metadata": {},
   "outputs": [
    {
     "data": {
      "text/plain": [
       "lead_number                     0.00\n",
       "lead_origin                     0.00\n",
       "lead_source                     0.39\n",
       "do_not_email                    0.00\n",
       "do_not_call                     0.00\n",
       "converted                       0.00\n",
       "total_visits                    1.48\n",
       "time_on_website                 0.00\n",
       "page_views_per_visit            1.48\n",
       "last_activity                   1.11\n",
       "country                        26.63\n",
       "specialization                 36.58\n",
       "source                         78.46\n",
       "occupation                     29.11\n",
       "course_selection_reason        29.32\n",
       "search                          0.00\n",
       "magazine                        0.00\n",
       "newspaper_article               0.00\n",
       "x_education_forums              0.00\n",
       "newspaper                       0.00\n",
       "digital_advertisement           0.00\n",
       "through_recommendations         0.00\n",
       "courses_updates                 0.00\n",
       "tags                           36.29\n",
       "lead_quality                   51.59\n",
       "supply_chain_content_updates    0.00\n",
       "dm_content_updates              0.00\n",
       "lead_profile                   74.19\n",
       "city                           39.71\n",
       "asymmetrique_activity_index    45.65\n",
       "asymmetrique_profile_index     45.65\n",
       "asymmetrique_activity_score    45.65\n",
       "asymmetrique_profile_score     45.65\n",
       "cheque_payment                  0.00\n",
       "mastering_interview             0.00\n",
       "last_notable_activity           0.00\n",
       "dtype: float64"
      ]
     },
     "execution_count": 32,
     "metadata": {},
     "output_type": "execute_result"
    }
   ],
   "source": [
    "#null value percentage\n",
    "(df_LeadData.isnull().sum() / df_LeadData.shape[0]) * 100"
   ]
  },
  {
   "cell_type": "code",
   "execution_count": 33,
   "metadata": {},
   "outputs": [
    {
     "data": {
      "text/html": [
       "<div>\n",
       "<style scoped>\n",
       "    .dataframe tbody tr th:only-of-type {\n",
       "        vertical-align: middle;\n",
       "    }\n",
       "\n",
       "    .dataframe tbody tr th {\n",
       "        vertical-align: top;\n",
       "    }\n",
       "\n",
       "    .dataframe thead th {\n",
       "        text-align: right;\n",
       "    }\n",
       "</style>\n",
       "<table border=\"1\" class=\"dataframe\">\n",
       "  <thead>\n",
       "    <tr style=\"text-align: right;\">\n",
       "      <th></th>\n",
       "      <th>lead_number</th>\n",
       "      <th>lead_origin</th>\n",
       "      <th>lead_source</th>\n",
       "      <th>do_not_email</th>\n",
       "      <th>do_not_call</th>\n",
       "      <th>converted</th>\n",
       "      <th>total_visits</th>\n",
       "      <th>time_on_website</th>\n",
       "      <th>page_views_per_visit</th>\n",
       "      <th>country</th>\n",
       "      <th>specialization</th>\n",
       "      <th>occupation</th>\n",
       "      <th>course_selection_reason</th>\n",
       "      <th>search</th>\n",
       "      <th>magazine</th>\n",
       "      <th>newspaper_article</th>\n",
       "      <th>x_education_forums</th>\n",
       "      <th>newspaper</th>\n",
       "      <th>digital_advertisement</th>\n",
       "      <th>through_recommendations</th>\n",
       "      <th>courses_updates</th>\n",
       "      <th>supply_chain_content_updates</th>\n",
       "      <th>dm_content_updates</th>\n",
       "      <th>city</th>\n",
       "      <th>cheque_payment</th>\n",
       "      <th>mastering_interview</th>\n",
       "    </tr>\n",
       "  </thead>\n",
       "  <tbody>\n",
       "    <tr>\n",
       "      <th>0</th>\n",
       "      <td>660737</td>\n",
       "      <td>API</td>\n",
       "      <td>Olark Chat</td>\n",
       "      <td>No</td>\n",
       "      <td>No</td>\n",
       "      <td>0</td>\n",
       "      <td>0.00</td>\n",
       "      <td>0</td>\n",
       "      <td>0.00</td>\n",
       "      <td>NaN</td>\n",
       "      <td>NaN</td>\n",
       "      <td>Unemployed</td>\n",
       "      <td>Better Career Prospects</td>\n",
       "      <td>No</td>\n",
       "      <td>No</td>\n",
       "      <td>No</td>\n",
       "      <td>No</td>\n",
       "      <td>No</td>\n",
       "      <td>No</td>\n",
       "      <td>No</td>\n",
       "      <td>No</td>\n",
       "      <td>No</td>\n",
       "      <td>No</td>\n",
       "      <td>NaN</td>\n",
       "      <td>No</td>\n",
       "      <td>No</td>\n",
       "    </tr>\n",
       "  </tbody>\n",
       "</table>\n",
       "</div>"
      ],
      "text/plain": [
       "   lead_number lead_origin lead_source do_not_email do_not_call  converted  \\\n",
       "0       660737         API  Olark Chat           No          No          0   \n",
       "\n",
       "   total_visits  time_on_website  page_views_per_visit country specialization  \\\n",
       "0          0.00                0                  0.00     NaN            NaN   \n",
       "\n",
       "   occupation  course_selection_reason search magazine newspaper_article  \\\n",
       "0  Unemployed  Better Career Prospects     No       No                No   \n",
       "\n",
       "  x_education_forums newspaper digital_advertisement through_recommendations  \\\n",
       "0                 No        No                    No                      No   \n",
       "\n",
       "  courses_updates supply_chain_content_updates dm_content_updates city  \\\n",
       "0              No                           No                 No  NaN   \n",
       "\n",
       "  cheque_payment mastering_interview  \n",
       "0             No                  No  "
      ]
     },
     "execution_count": 33,
     "metadata": {},
     "output_type": "execute_result"
    }
   ],
   "source": [
    "# drop columns having null values more than 40%\n",
    "df_LeadData.drop(['source', 'lead_quality', 'lead_profile', 'asymmetrique_activity_index', \n",
    "                      'asymmetrique_profile_index', 'asymmetrique_activity_score', 'asymmetrique_profile_score',\n",
    "        'tags', 'last_activity', 'last_notable_activity'], \n",
    "        axis = 1, inplace = True)\n",
    "\n",
    "df_LeadData.head(1)"
   ]
  },
  {
   "cell_type": "code",
   "execution_count": 34,
   "metadata": {},
   "outputs": [
    {
     "data": {
      "text/plain": [
       "lead_number                     0.00\n",
       "lead_origin                     0.00\n",
       "lead_source                     0.39\n",
       "do_not_email                    0.00\n",
       "do_not_call                     0.00\n",
       "converted                       0.00\n",
       "total_visits                    1.48\n",
       "time_on_website                 0.00\n",
       "page_views_per_visit            1.48\n",
       "country                        26.63\n",
       "specialization                 36.58\n",
       "occupation                     29.11\n",
       "course_selection_reason        29.32\n",
       "search                          0.00\n",
       "magazine                        0.00\n",
       "newspaper_article               0.00\n",
       "x_education_forums              0.00\n",
       "newspaper                       0.00\n",
       "digital_advertisement           0.00\n",
       "through_recommendations         0.00\n",
       "courses_updates                 0.00\n",
       "supply_chain_content_updates    0.00\n",
       "dm_content_updates              0.00\n",
       "city                           39.71\n",
       "cheque_payment                  0.00\n",
       "mastering_interview             0.00\n",
       "dtype: float64"
      ]
     },
     "execution_count": 34,
     "metadata": {},
     "output_type": "execute_result"
    }
   ],
   "source": [
    "(df_LeadData.isnull().sum() / df_LeadData.shape[0]) * 100"
   ]
  },
  {
   "cell_type": "markdown",
   "metadata": {},
   "source": [
    "There are 5 columns still have large number of null values\n",
    "i. Country\n",
    "ii. specialization\n",
    "iii. occupation\n",
    "iv. course_selection_reason\n",
    "v. city"
   ]
  },
  {
   "cell_type": "markdown",
   "metadata": {},
   "source": [
    "i. Country Column"
   ]
  },
  {
   "cell_type": "code",
   "execution_count": 35,
   "metadata": {},
   "outputs": [
    {
     "data": {
      "text/plain": [
       "India                  70.26\n",
       "NaN                    26.63\n",
       "United States           0.75\n",
       "United Arab Emirates    0.57\n",
       "Singapore               0.26\n",
       "Saudi Arabia            0.23\n",
       "United Kingdom          0.16\n",
       "Australia               0.14\n",
       "Qatar                   0.11\n",
       "Bahrain                 0.08\n",
       "Hong Kong               0.08\n",
       "Oman                    0.06\n",
       "France                  0.06\n",
       "unknown                 0.05\n",
       "Kuwait                  0.04\n",
       "South Africa            0.04\n",
       "Canada                  0.04\n",
       "Nigeria                 0.04\n",
       "Germany                 0.04\n",
       "Sweden                  0.03\n",
       "Philippines             0.02\n",
       "Uganda                  0.02\n",
       "Italy                   0.02\n",
       "Bangladesh              0.02\n",
       "Netherlands             0.02\n",
       "Asia/Pacific Region     0.02\n",
       "China                   0.02\n",
       "Belgium                 0.02\n",
       "Ghana                   0.02\n",
       "Kenya                   0.01\n",
       "Sri Lanka               0.01\n",
       "Tanzania                0.01\n",
       "Malaysia                0.01\n",
       "Liberia                 0.01\n",
       "Switzerland             0.01\n",
       "Denmark                 0.01\n",
       "Russia                  0.01\n",
       "Vietnam                 0.01\n",
       "Indonesia               0.01\n",
       "Name: country, dtype: float64"
      ]
     },
     "execution_count": 35,
     "metadata": {},
     "output_type": "execute_result"
    }
   ],
   "source": [
    "df_LeadData.country.value_counts(normalize = True, dropna = False) * 100"
   ]
  },
  {
   "cell_type": "code",
   "execution_count": 36,
   "metadata": {},
   "outputs": [],
   "source": [
    "# more than 97% values are either India or NaN. This column should be dropped\n",
    "df_LeadData.drop('country', axis = 1, inplace = True)"
   ]
  },
  {
   "cell_type": "markdown",
   "metadata": {},
   "source": [
    "ii. specialization   "
   ]
  },
  {
   "cell_type": "code",
   "execution_count": 37,
   "metadata": {},
   "outputs": [
    {
     "data": {
      "text/plain": [
       "NaN                                 36.58\n",
       "Finance Management                  10.56\n",
       "Human Resource Management            9.18\n",
       "Marketing Management                 9.07\n",
       "Operations Management                5.44\n",
       "Business Administration              4.36\n",
       "IT Projects Management               3.96\n",
       "Supply Chain Management              3.78\n",
       "Banking, Investment And Insurance    3.66\n",
       "Travel and Tourism                   2.20\n",
       "Media and Advertising                2.20\n",
       "International Business               1.93\n",
       "Healthcare Management                1.72\n",
       "Hospitality Management               1.23\n",
       "E-COMMERCE                           1.21\n",
       "Retail Management                    1.08\n",
       "Rural and Agribusiness               0.79\n",
       "E-Business                           0.62\n",
       "Services Excellence                  0.43\n",
       "Name: specialization, dtype: float64"
      ]
     },
     "execution_count": 37,
     "metadata": {},
     "output_type": "execute_result"
    }
   ],
   "source": [
    "df_LeadData.specialization.value_counts(normalize = True, dropna = False) * 100"
   ]
  },
  {
   "cell_type": "code",
   "execution_count": 38,
   "metadata": {},
   "outputs": [],
   "source": [
    "# categorize all management courses\n",
    "df_LeadData.loc[(df_LeadData.specialization == 'Finance Management') | (df_LeadData.specialization == 'Human Resource Management') | \n",
    "       (df_LeadData.specialization == 'Marketing Management') |  (df_LeadData.specialization == 'Operations Management') |\n",
    "       (df_LeadData.specialization == 'IT Projects Management') | (df_LeadData.specialization == 'Supply Chain Management') |\n",
    "       (df_LeadData.specialization == 'Healthcare Management') | (df_LeadData.specialization == 'Hospitality Management') |\n",
    "       (df_LeadData.specialization == 'Retail Management') , 'specialization'] = 'Management Specializations'\n",
    "\n",
    "# categorize all busines courses\n",
    "df_LeadData.loc[(df_LeadData.specialization == 'Business Administration') | (df_LeadData.specialization == 'International Business') | \n",
    "       (df_LeadData.specialization == 'Rural and Agribusiness') | (df_LeadData.specialization == 'E-Business') \n",
    "        , 'specialization'] = 'Business Specializations'\n",
    "\n",
    "# categorize all industry courses\n",
    "df_LeadData.loc[(df_LeadData.specialization == 'Banking, Investment And Insurance') | (df_LeadData.specialization == 'Media and Advertising') |\n",
    "       (df_LeadData.specialization == 'Travel and Tourism') | (df_LeadData.specialization == 'Services Excellence') |\n",
    "       (df_LeadData.specialization == 'E-COMMERCE'), 'specialization'] = 'Industry Specializations'"
   ]
  },
  {
   "cell_type": "code",
   "execution_count": 39,
   "metadata": {},
   "outputs": [
    {
     "data": {
      "text/plain": [
       "Management Specializations   46.03\n",
       "NaN                          36.58\n",
       "Industry Specializations      9.70\n",
       "Business Specializations      7.69\n",
       "Name: specialization, dtype: float64"
      ]
     },
     "execution_count": 39,
     "metadata": {},
     "output_type": "execute_result"
    }
   ],
   "source": [
    "df_LeadData.specialization.value_counts(normalize = True, dropna = False) * 100"
   ]
  },
  {
   "cell_type": "code",
   "execution_count": 41,
   "metadata": {},
   "outputs": [
    {
     "data": {
      "text/plain": [
       "Management Specializations   0.46\n",
       "NaN                          0.37\n",
       "Industry Specializations     0.10\n",
       "Business Specializations     0.08\n",
       "Name: specialization, dtype: float64"
      ]
     },
     "execution_count": 41,
     "metadata": {},
     "output_type": "execute_result"
    }
   ],
   "source": [
    "df_LeadData.specialization.value_counts(normalize = True, dropna = False) "
   ]
  },
  {
   "cell_type": "markdown",
   "metadata": {},
   "source": [
    "iii. occupation"
   ]
  },
  {
   "cell_type": "code",
   "execution_count": 42,
   "metadata": {},
   "outputs": [
    {
     "data": {
      "text/plain": [
       "Unemployed             60.61\n",
       "NaN                    29.11\n",
       "Working Professional    7.64\n",
       "Student                 2.27\n",
       "Other                   0.17\n",
       "Housewife               0.11\n",
       "Businessman             0.09\n",
       "Name: occupation, dtype: float64"
      ]
     },
     "execution_count": 42,
     "metadata": {},
     "output_type": "execute_result"
    }
   ],
   "source": [
    "df_LeadData.occupation.value_counts(normalize = True, dropna = False) * 100"
   ]
  },
  {
   "cell_type": "code",
   "execution_count": 43,
   "metadata": {},
   "outputs": [],
   "source": [
    "# combine low representing categories\n",
    "df_LeadData.loc[(df_LeadData.occupation == 'Student') | (df_LeadData.occupation == 'Other') | (df_LeadData.occupation == 'Housewife') | \n",
    "       (df_LeadData.occupation == 'Businessman') , 'occupation'] = 'Student and Others'"
   ]
  },
  {
   "cell_type": "code",
   "execution_count": 44,
   "metadata": {},
   "outputs": [
    {
     "data": {
      "text/plain": [
       "Unemployed             0.61\n",
       "NaN                    0.29\n",
       "Working Professional   0.08\n",
       "Student and Others     0.03\n",
       "Name: occupation, dtype: float64"
      ]
     },
     "execution_count": 44,
     "metadata": {},
     "output_type": "execute_result"
    }
   ],
   "source": [
    "df_LeadData.occupation.value_counts(normalize = True, dropna = False) "
   ]
  },
  {
   "cell_type": "markdown",
   "metadata": {},
   "source": [
    "iv. course_selection_reason"
   ]
  },
  {
   "cell_type": "code",
   "execution_count": 46,
   "metadata": {},
   "outputs": [
    {
     "data": {
      "text/plain": [
       "Better Career Prospects     70.65\n",
       "NaN                         29.32\n",
       "Flexibility & Convenience    0.02\n",
       "Other                        0.01\n",
       "Name: course_selection_reason, dtype: float64"
      ]
     },
     "execution_count": 46,
     "metadata": {},
     "output_type": "execute_result"
    }
   ],
   "source": [
    "df_LeadData.course_selection_reason.value_counts(normalize = True, dropna = False) * 100"
   ]
  },
  {
   "cell_type": "markdown",
   "metadata": {},
   "source": [
    "This column should be dropped as Better Career Prospects and null values contribution is more than 99%"
   ]
  },
  {
   "cell_type": "code",
   "execution_count": 47,
   "metadata": {},
   "outputs": [],
   "source": [
    "df_LeadData.drop('course_selection_reason', axis = 1, inplace = True)"
   ]
  },
  {
   "cell_type": "markdown",
   "metadata": {},
   "source": [
    "v. city"
   ]
  },
  {
   "cell_type": "code",
   "execution_count": 48,
   "metadata": {},
   "outputs": [
    {
     "data": {
      "text/plain": [
       "NaN                           39.71\n",
       "Mumbai                        34.87\n",
       "Thane & Outskirts              8.14\n",
       "Other Cities                   7.42\n",
       "Other Cities of Maharashtra    4.95\n",
       "Other Metro Cities             4.11\n",
       "Tier II Cities                 0.80\n",
       "Name: city, dtype: float64"
      ]
     },
     "execution_count": 48,
     "metadata": {},
     "output_type": "execute_result"
    }
   ],
   "source": [
    "df_LeadData.city.value_counts(normalize = True, dropna = False) * 100"
   ]
  },
  {
   "cell_type": "code",
   "execution_count": 49,
   "metadata": {},
   "outputs": [],
   "source": [
    "# categorize all non-mumbai, but Maharashtra cities\n",
    "df_LeadData.loc[(df_LeadData.city == 'Thane & Outskirts') | (df_LeadData.city == 'Other Cities of Maharashtra'), \n",
    "       'city'] = 'Non-Mumbai Maharashtra Cities'\n",
    "\n",
    "# categorize all other cities\n",
    "df_LeadData.loc[(df_LeadData.city == 'Other Cities') | (df_LeadData.city == 'Other Metro Cities') | (df_LeadData.city == 'Tier II Cities') , \n",
    "       'city'] = 'Non-Maharashtra Cities'"
   ]
  },
  {
   "cell_type": "code",
   "execution_count": 50,
   "metadata": {},
   "outputs": [
    {
     "data": {
      "text/plain": [
       "NaN                             39.71\n",
       "Mumbai                          34.87\n",
       "Non-Mumbai Maharashtra Cities   13.08\n",
       "Non-Maharashtra Cities          12.34\n",
       "Name: city, dtype: float64"
      ]
     },
     "execution_count": 50,
     "metadata": {},
     "output_type": "execute_result"
    }
   ],
   "source": [
    "df_LeadData.city.value_counts(normalize = True, dropna = False) * 100"
   ]
  },
  {
   "cell_type": "markdown",
   "metadata": {},
   "source": [
    "### Handle missing values in categorical column"
   ]
  },
  {
   "cell_type": "code",
   "execution_count": 52,
   "metadata": {},
   "outputs": [
    {
     "data": {
      "text/plain": [
       "lead_number                     0.00\n",
       "lead_origin                     0.00\n",
       "lead_source                     0.39\n",
       "do_not_email                    0.00\n",
       "do_not_call                     0.00\n",
       "converted                       0.00\n",
       "total_visits                    1.48\n",
       "time_on_website                 0.00\n",
       "page_views_per_visit            1.48\n",
       "specialization                 36.58\n",
       "occupation                     29.11\n",
       "search                          0.00\n",
       "magazine                        0.00\n",
       "newspaper_article               0.00\n",
       "x_education_forums              0.00\n",
       "newspaper                       0.00\n",
       "digital_advertisement           0.00\n",
       "through_recommendations         0.00\n",
       "courses_updates                 0.00\n",
       "supply_chain_content_updates    0.00\n",
       "dm_content_updates              0.00\n",
       "city                           39.71\n",
       "cheque_payment                  0.00\n",
       "mastering_interview             0.00\n",
       "dtype: float64"
      ]
     },
     "execution_count": 52,
     "metadata": {},
     "output_type": "execute_result"
    }
   ],
   "source": [
    "(df_LeadData.isnull().sum() / df_LeadData.shape[0]) * 100"
   ]
  },
  {
   "cell_type": "code",
   "execution_count": 53,
   "metadata": {},
   "outputs": [
    {
     "name": "stdout",
     "output_type": "stream",
     "text": [
      "lead_origin = 5\n",
      "lead_source = 21\n",
      "do_not_email = 2\n",
      "do_not_call = 2\n",
      "specialization = 3\n",
      "occupation = 3\n",
      "search = 2\n",
      "magazine = 1\n",
      "newspaper_article = 2\n",
      "x_education_forums = 2\n",
      "newspaper = 2\n",
      "digital_advertisement = 2\n",
      "through_recommendations = 2\n",
      "courses_updates = 1\n",
      "supply_chain_content_updates = 1\n",
      "dm_content_updates = 1\n",
      "city = 3\n",
      "cheque_payment = 1\n",
      "mastering_interview = 2\n"
     ]
    }
   ],
   "source": [
    "# determine unique values for all object datatype columns\n",
    "for k, v in df_LeadData.select_dtypes(include='object').nunique().to_dict().items():\n",
    "    print('{} = {}'.format(k,v))"
   ]
  },
  {
   "cell_type": "markdown",
   "metadata": {},
   "source": [
    "lead_origin and lead_source have more number of unique values"
   ]
  },
  {
   "cell_type": "markdown",
   "metadata": {},
   "source": [
    "i. lead_origin column"
   ]
  },
  {
   "cell_type": "code",
   "execution_count": 54,
   "metadata": {},
   "outputs": [
    {
     "data": {
      "text/plain": [
       "Landing Page Submission   52.88\n",
       "API                       38.74\n",
       "Lead Add Form              7.77\n",
       "Lead Import                0.60\n",
       "Quick Add Form             0.01\n",
       "Name: lead_origin, dtype: float64"
      ]
     },
     "execution_count": 54,
     "metadata": {},
     "output_type": "execute_result"
    }
   ],
   "source": [
    "df_LeadData.lead_origin.value_counts(normalize = True, dropna = False) * 100"
   ]
  },
  {
   "cell_type": "code",
   "execution_count": 55,
   "metadata": {},
   "outputs": [],
   "source": [
    "# smaller values must be grouped together\n",
    "df_LeadData.loc[(df_LeadData.lead_origin == 'Lead Import') | (df_LeadData.lead_origin == 'Quick Add Form') | (df_LeadData.lead_origin == 'Lead Add Form')\n",
    "       , 'lead_origin'] = 'Lead Add Form and Others'"
   ]
  },
  {
   "cell_type": "markdown",
   "metadata": {},
   "source": [
    "ii. lead_source column"
   ]
  },
  {
   "cell_type": "code",
   "execution_count": 56,
   "metadata": {},
   "outputs": [
    {
     "data": {
      "text/plain": [
       "Google              31.04\n",
       "Direct Traffic      27.52\n",
       "Olark Chat          18.99\n",
       "Organic Search      12.49\n",
       "Reference            5.78\n",
       "Welingak Website     1.54\n",
       "Referral Sites       1.35\n",
       "Facebook             0.60\n",
       "NaN                  0.39\n",
       "bing                 0.06\n",
       "google               0.05\n",
       "Click2call           0.04\n",
       "Press_Release        0.02\n",
       "Social Media         0.02\n",
       "Live Chat            0.02\n",
       "youtubechannel       0.01\n",
       "testone              0.01\n",
       "Pay per Click Ads    0.01\n",
       "welearnblog_Home     0.01\n",
       "WeLearn              0.01\n",
       "blog                 0.01\n",
       "NC_EDM               0.01\n",
       "Name: lead_source, dtype: float64"
      ]
     },
     "execution_count": 56,
     "metadata": {},
     "output_type": "execute_result"
    }
   ],
   "source": [
    "df_LeadData.lead_source.value_counts(normalize = True, dropna = False) * 100"
   ]
  },
  {
   "cell_type": "code",
   "execution_count": 57,
   "metadata": {},
   "outputs": [],
   "source": [
    "# Impute NA values with mode i.e 'Google'\n",
    "df_LeadData.lead_source.fillna(df_LeadData.lead_source.mode()[0], inplace=True)"
   ]
  },
  {
   "cell_type": "code",
   "execution_count": 58,
   "metadata": {},
   "outputs": [],
   "source": [
    "#also group values\n",
    "df_LeadData['lead_source'] = df_LeadData['lead_source'].apply(lambda x: x if \n",
    "                                            ((x== 'Google') | (x=='Direct Traffic') | (x=='Olark Chat') | \n",
    "                                             (x=='Organic Search') | (x=='Reference')) \n",
    "                                            else 'Other Social Sites')"
   ]
  },
  {
   "cell_type": "markdown",
   "metadata": {},
   "source": [
    "### Clean Binary Columns"
   ]
  },
  {
   "cell_type": "code",
   "execution_count": 59,
   "metadata": {},
   "outputs": [
    {
     "name": "stdout",
     "output_type": "stream",
     "text": [
      "magazine = 1\n",
      "courses_updates = 1\n",
      "supply_chain_content_updates = 1\n",
      "dm_content_updates = 1\n",
      "cheque_payment = 1\n"
     ]
    }
   ],
   "source": [
    "# Check columns havng only one unique value\n",
    "for k, v in df_LeadData.select_dtypes(include='object').nunique().to_dict().items():\n",
    "    if v==1:\n",
    "        print('{} = {}'.format(k,v))"
   ]
  },
  {
   "cell_type": "markdown",
   "metadata": {},
   "source": [
    "Above columns must be dropped"
   ]
  },
  {
   "cell_type": "code",
   "execution_count": 60,
   "metadata": {},
   "outputs": [],
   "source": [
    "drop_bin = ['magazine', 'courses_updates', 'supply_chain_content_updates', 'dm_content_updates', \n",
    "           'cheque_payment']\n",
    "\n",
    "df_LeadData.drop(drop_bin, axis = 1, inplace = True)"
   ]
  },
  {
   "cell_type": "code",
   "execution_count": 61,
   "metadata": {},
   "outputs": [
    {
     "name": "stdout",
     "output_type": "stream",
     "text": [
      "No    92.06\n",
      "Yes    7.94\n",
      "Name: do_not_email, dtype: float64\n",
      "\n",
      "No    99.98\n",
      "Yes    0.02\n",
      "Name: do_not_call, dtype: float64\n",
      "\n",
      "No    99.85\n",
      "Yes    0.15\n",
      "Name: search, dtype: float64\n",
      "\n",
      "No    99.98\n",
      "Yes    0.02\n",
      "Name: newspaper_article, dtype: float64\n",
      "\n",
      "No    99.99\n",
      "Yes    0.01\n",
      "Name: x_education_forums, dtype: float64\n",
      "\n",
      "No    99.99\n",
      "Yes    0.01\n",
      "Name: newspaper, dtype: float64\n",
      "\n",
      "No    99.96\n",
      "Yes    0.04\n",
      "Name: digital_advertisement, dtype: float64\n",
      "\n",
      "No    99.92\n",
      "Yes    0.08\n",
      "Name: through_recommendations, dtype: float64\n",
      "\n",
      "No    68.74\n",
      "Yes   31.26\n",
      "Name: mastering_interview, dtype: float64\n",
      "\n"
     ]
    }
   ],
   "source": [
    "# Check data imbalance for other binary columns\n",
    "df_bin = df_LeadData[['do_not_email', 'do_not_call', 'search', 'newspaper_article', 'x_education_forums', \n",
    "           'newspaper', 'digital_advertisement', 'through_recommendations', 'mastering_interview']]\n",
    "\n",
    "# see value counts for each of the columns\n",
    "for i in df_bin.columns:\n",
    "    x = (df_bin[i].value_counts(normalize = True)) * 100\n",
    "    print(x)\n",
    "    print()"
   ]
  },
  {
   "cell_type": "markdown",
   "metadata": {},
   "source": [
    "following columns have heavy imbalance of data and must be dropped\n",
    "1. do_not_call\n",
    "2. search\n",
    "3. newspaper_article\n",
    "4. x_education_forums\n",
    "5. newspaper\n",
    "6. digital_advertisement\n",
    "7. through_recommendations"
   ]
  },
  {
   "cell_type": "code",
   "execution_count": 62,
   "metadata": {},
   "outputs": [],
   "source": [
    "drop_bin = ['do_not_call', 'search', 'newspaper_article', 'x_education_forums', \n",
    "           'newspaper', 'digital_advertisement', 'through_recommendations']\n",
    "\n",
    "df_LeadData.drop(drop_bin, axis = 1, inplace = True)"
   ]
  },
  {
   "cell_type": "markdown",
   "metadata": {},
   "source": [
    "### Clean Numerical Columns"
   ]
  },
  {
   "cell_type": "code",
   "execution_count": 63,
   "metadata": {},
   "outputs": [
    {
     "name": "stdout",
     "output_type": "stream",
     "text": [
      "<class 'pandas.core.frame.DataFrame'>\n",
      "RangeIndex: 9240 entries, 0 to 9239\n",
      "Data columns (total 12 columns):\n",
      " #   Column                Non-Null Count  Dtype  \n",
      "---  ------                --------------  -----  \n",
      " 0   lead_number           9240 non-null   int64  \n",
      " 1   lead_origin           9240 non-null   object \n",
      " 2   lead_source           9240 non-null   object \n",
      " 3   do_not_email          9240 non-null   object \n",
      " 4   converted             9240 non-null   int64  \n",
      " 5   total_visits          9103 non-null   float64\n",
      " 6   time_on_website       9240 non-null   int64  \n",
      " 7   page_views_per_visit  9103 non-null   float64\n",
      " 8   specialization        5860 non-null   object \n",
      " 9   occupation            6550 non-null   object \n",
      " 10  city                  5571 non-null   object \n",
      " 11  mastering_interview   9240 non-null   object \n",
      "dtypes: float64(2), int64(3), object(7)\n",
      "memory usage: 866.4+ KB\n"
     ]
    }
   ],
   "source": [
    "df_LeadData.info()"
   ]
  },
  {
   "cell_type": "code",
   "execution_count": 64,
   "metadata": {},
   "outputs": [],
   "source": [
    "# lead_number column should be of object type\n",
    "df_LeadData.lead_number = df_LeadData.lead_number.astype('object')"
   ]
  },
  {
   "cell_type": "code",
   "execution_count": 65,
   "metadata": {},
   "outputs": [],
   "source": [
    "# total visit column - fill NA with median and change datatype to integer\n",
    "df_LeadData.total_visits.fillna(df_LeadData.total_visits.median(), inplace=True)\n",
    "df_LeadData.total_visits = df_LeadData.total_visits.astype('int')"
   ]
  },
  {
   "cell_type": "code",
   "execution_count": 66,
   "metadata": {},
   "outputs": [],
   "source": [
    "# page_views_per_visit column - fill NA with median\n",
    "df_LeadData.page_views_per_visit.fillna(df_LeadData.page_views_per_visit.median(), inplace=True)"
   ]
  },
  {
   "cell_type": "code",
   "execution_count": 67,
   "metadata": {},
   "outputs": [
    {
     "name": "stdout",
     "output_type": "stream",
     "text": [
      "<class 'pandas.core.frame.DataFrame'>\n",
      "RangeIndex: 9240 entries, 0 to 9239\n",
      "Data columns (total 12 columns):\n",
      " #   Column                Non-Null Count  Dtype  \n",
      "---  ------                --------------  -----  \n",
      " 0   lead_number           9240 non-null   object \n",
      " 1   lead_origin           9240 non-null   object \n",
      " 2   lead_source           9240 non-null   object \n",
      " 3   do_not_email          9240 non-null   object \n",
      " 4   converted             9240 non-null   int64  \n",
      " 5   total_visits          9240 non-null   int32  \n",
      " 6   time_on_website       9240 non-null   int64  \n",
      " 7   page_views_per_visit  9240 non-null   float64\n",
      " 8   specialization        5860 non-null   object \n",
      " 9   occupation            6550 non-null   object \n",
      " 10  city                  5571 non-null   object \n",
      " 11  mastering_interview   9240 non-null   object \n",
      "dtypes: float64(1), int32(1), int64(2), object(8)\n",
      "memory usage: 830.3+ KB\n"
     ]
    }
   ],
   "source": [
    "df_LeadData.info()"
   ]
  },
  {
   "cell_type": "markdown",
   "metadata": {},
   "source": [
    "## Exploratory Data Analysis"
   ]
  },
  {
   "cell_type": "markdown",
   "metadata": {},
   "source": [
    "Numerical Columns"
   ]
  },
  {
   "cell_type": "code",
   "execution_count": 68,
   "metadata": {},
   "outputs": [
    {
     "data": {
      "image/png": "[encoded data removed]",
      "text/plain": [
       "<Figure size 1008x720 with 3 Axes>"
      ]
     },
     "metadata": {},
     "output_type": "display_data"
    }
   ],
   "source": [
    "### Numerical Columns\n",
    "# Set style\n",
    "plt.style.use('ggplot')\n",
    "\n",
    "# See distribution of each of these columns\n",
    "fig = plt.figure(figsize = (14, 10))\n",
    "plt.subplot(2, 2, 1)\n",
    "plt.hist(df_LeadData.total_visits, bins = 10)\n",
    "plt.title('Total website visits')\n",
    "\n",
    "plt.subplot(2, 2, 2)\n",
    "plt.hist(df_LeadData.time_on_website, bins = 10)\n",
    "plt.title('Time spent on website')\n",
    "\n",
    "plt.subplot(2, 2, 3)\n",
    "plt.hist(df_LeadData.page_views_per_visit, bins = 10)\n",
    "plt.title('Average number of page views per visit')\n",
    "\n",
    "plt.show()"
   ]
  },
  {
   "cell_type": "markdown",
   "metadata": {},
   "source": [
    "There might be outliers in these columns"
   ]
  },
  {
   "cell_type": "code",
   "execution_count": 69,
   "metadata": {},
   "outputs": [
    {
     "data": {
      "image/png": "[encoded data removed]",
      "text/plain": [
       "<Figure size 720x720 with 2 Axes>"
      ]
     },
     "metadata": {},
     "output_type": "display_data"
    }
   ],
   "source": [
    "plt.figure(figsize = (10,10))\n",
    "sns.heatmap(df_LeadData[['total_visits', 'time_on_website', 'page_views_per_visit']].corr(), cmap=\"YlGnBu\", annot = True)\n",
    "plt.show()"
   ]
  },
  {
   "cell_type": "markdown",
   "metadata": {},
   "source": [
    "No significant correlation found"
   ]
  },
  {
   "cell_type": "code",
   "execution_count": 70,
   "metadata": {},
   "outputs": [
    {
     "data": {
      "image/png": "[encoded data removed]",
      "text/plain": [
       "<Figure size 720x1008 with 3 Axes>"
      ]
     },
     "metadata": {},
     "output_type": "display_data"
    }
   ],
   "source": [
    "plt.figure(figsize = (10, 14))\n",
    "\n",
    "plt.subplot(3,1,1)\n",
    "sns.boxplot(df_LeadData.total_visits)\n",
    "\n",
    "plt.subplot(3,1,2)\n",
    "sns.boxplot(df_LeadData.time_on_website)\n",
    "\n",
    "plt.subplot(3,1,3)\n",
    "sns.boxplot(df_LeadData.page_views_per_visit)\n",
    "plt.show()"
   ]
  },
  {
   "cell_type": "markdown",
   "metadata": {},
   "source": [
    "total_visits and page_views_per_visit columns have upper bound outliers\n",
    "data can be capped to 99 percentile"
   ]
  },
  {
   "cell_type": "code",
   "execution_count": 71,
   "metadata": {},
   "outputs": [],
   "source": [
    "# capping at 99 percentile\n",
    "df_LeadData.total_visits.loc[df_LeadData.total_visits >= df_LeadData.total_visits.quantile(0.99)] = df_LeadData.total_visits.quantile(0.99)\n",
    "df_LeadData.page_views_per_visit.loc[df_LeadData.page_views_per_visit >= \n",
    "                            df_LeadData.page_views_per_visit.quantile(0.99)] = df_LeadData.page_views_per_visit.quantile(0.99)"
   ]
  },
  {
   "cell_type": "markdown",
   "metadata": {},
   "source": [
    "Categorical Column"
   ]
  },
  {
   "cell_type": "code",
   "execution_count": 72,
   "metadata": {},
   "outputs": [
    {
     "data": {
      "image/png": "[encoded data removed]",
      "text/plain": [
       "<Figure size 720x288 with 1 Axes>"
      ]
     },
     "metadata": {},
     "output_type": "display_data"
    }
   ],
   "source": [
    "#lead_origin\n",
    "plt.figure(figsize = (10, 4))\n",
    "df_LeadData.groupby('lead_origin')['lead_number'].count().sort_values(ascending = False).plot(kind= 'barh', width = 0.8, \n",
    "                                                            edgecolor = 'black', \n",
    "                                                            color = plt.cm.Paired(np.arange(len(df_LeadData))))\n",
    "plt.show()"
   ]
  },
  {
   "cell_type": "code",
   "execution_count": 73,
   "metadata": {},
   "outputs": [
    {
     "data": {
      "image/png": "[encoded data removed]",
      "text/plain": [
       "<Figure size 720x288 with 1 Axes>"
      ]
     },
     "metadata": {},
     "output_type": "display_data"
    }
   ],
   "source": [
    "#lead_source\n",
    "plt.figure(figsize = (10, 4))\n",
    "\n",
    "df_LeadData.groupby('lead_source')['lead_number'].count().sort_values(ascending = False).plot(kind= 'barh', width = 0.8, \n",
    "                                                            edgecolor = 'black', \n",
    "                                                            color = plt.cm.Paired(np.arange(len(df_LeadData))))\n",
    "plt.show()"
   ]
  },
  {
   "cell_type": "code",
   "execution_count": 74,
   "metadata": {},
   "outputs": [
    {
     "data": {
      "image/png": "[encoded data removed]",
      "text/plain": [
       "<Figure size 720x288 with 1 Axes>"
      ]
     },
     "metadata": {},
     "output_type": "display_data"
    }
   ],
   "source": [
    "#specialization\n",
    "plt.figure(figsize = (10, 4))\n",
    "\n",
    "df_LeadData.groupby('specialization')['lead_number'].count().sort_values(ascending = False).plot(kind= 'barh', width = 0.8, \n",
    "                                                            edgecolor = 'black', \n",
    "                                                            color = plt.cm.Paired(np.arange(len(df_LeadData))))\n",
    "plt.show()"
   ]
  },
  {
   "cell_type": "markdown",
   "metadata": {},
   "source": [
    "Most of the specialization taken are Management Specialization"
   ]
  },
  {
   "cell_type": "code",
   "execution_count": 75,
   "metadata": {},
   "outputs": [
    {
     "data": {
      "image/png": "[encoded data removed]",
      "text/plain": [
       "<Figure size 720x288 with 1 Axes>"
      ]
     },
     "metadata": {},
     "output_type": "display_data"
    }
   ],
   "source": [
    "plt.figure(figsize = (10, 4))\n",
    "\n",
    "df_LeadData.groupby('occupation')['lead_number'].count().sort_values(ascending = False).plot(kind= 'barh', width = 0.8, \n",
    "                                                            edgecolor = 'black', \n",
    "                                                            color = plt.cm.Paired(np.arange(len(df_LeadData))))\n",
    "plt.show()"
   ]
  },
  {
   "cell_type": "markdown",
   "metadata": {},
   "source": [
    "Unemployed users are the most significant leads"
   ]
  },
  {
   "cell_type": "code",
   "execution_count": 76,
   "metadata": {},
   "outputs": [
    {
     "data": {
      "image/png": "[encoded data removed]",
      "text/plain": [
       "<Figure size 720x288 with 1 Axes>"
      ]
     },
     "metadata": {},
     "output_type": "display_data"
    }
   ],
   "source": [
    "plt.figure(figsize = (10, 4))\n",
    "\n",
    "df_LeadData.groupby('city')['lead_number'].count().sort_values(ascending = False).plot(kind= 'barh', width = 0.8, \n",
    "                                                            edgecolor = 'black', \n",
    "                                                            color = plt.cm.Paired(np.arange(len(df_LeadData))))\n",
    "plt.show()"
   ]
  },
  {
   "cell_type": "markdown",
   "metadata": {},
   "source": [
    "Candidates from Mumbai and Maharashtra are prominant leads"
   ]
  },
  {
   "cell_type": "code",
   "execution_count": 77,
   "metadata": {},
   "outputs": [
    {
     "data": {
      "image/png": "[encoded data removed]",
      "text/plain": [
       "<Figure size 720x288 with 1 Axes>"
      ]
     },
     "metadata": {},
     "output_type": "display_data"
    }
   ],
   "source": [
    "# do_not_email\n",
    "plt.figure(figsize = (10, 4))\n",
    "\n",
    "df_LeadData.groupby('do_not_email')['lead_number'].count().sort_values(ascending = False).plot(kind= 'barh', width = 0.8, \n",
    "                                                            edgecolor = 'black', \n",
    "                                                            color = plt.cm.Paired(np.arange(len(df_LeadData))))\n",
    "plt.show()"
   ]
  },
  {
   "cell_type": "markdown",
   "metadata": {},
   "source": [
    "## Data Preparation"
   ]
  },
  {
   "cell_type": "markdown",
   "metadata": {},
   "source": [
    "conversion of binary YES/NO to 1/0"
   ]
  },
  {
   "cell_type": "code",
   "execution_count": 78,
   "metadata": {},
   "outputs": [
    {
     "name": "stdout",
     "output_type": "stream",
     "text": [
      "do_not_email = 2\n",
      "mastering_interview = 2\n"
     ]
    }
   ],
   "source": [
    "for k, v in df_LeadData.select_dtypes(include='object').nunique().to_dict().items():\n",
    "    if v==2:\n",
    "        print('{} = {}'.format(k,v))"
   ]
  },
  {
   "cell_type": "markdown",
   "metadata": {},
   "source": [
    "There are two binary columns do_not_email and mastering_interview"
   ]
  },
  {
   "cell_type": "code",
   "execution_count": 79,
   "metadata": {},
   "outputs": [
    {
     "data": {
      "text/html": [
       "<div>\n",
       "<style scoped>\n",
       "    .dataframe tbody tr th:only-of-type {\n",
       "        vertical-align: middle;\n",
       "    }\n",
       "\n",
       "    .dataframe tbody tr th {\n",
       "        vertical-align: top;\n",
       "    }\n",
       "\n",
       "    .dataframe thead th {\n",
       "        text-align: right;\n",
       "    }\n",
       "</style>\n",
       "<table border=\"1\" class=\"dataframe\">\n",
       "  <thead>\n",
       "    <tr style=\"text-align: right;\">\n",
       "      <th></th>\n",
       "      <th>lead_number</th>\n",
       "      <th>lead_origin</th>\n",
       "      <th>lead_source</th>\n",
       "      <th>do_not_email</th>\n",
       "      <th>converted</th>\n",
       "      <th>total_visits</th>\n",
       "      <th>time_on_website</th>\n",
       "      <th>page_views_per_visit</th>\n",
       "      <th>specialization</th>\n",
       "      <th>occupation</th>\n",
       "      <th>city</th>\n",
       "      <th>mastering_interview</th>\n",
       "    </tr>\n",
       "  </thead>\n",
       "  <tbody>\n",
       "    <tr>\n",
       "      <th>0</th>\n",
       "      <td>660737</td>\n",
       "      <td>API</td>\n",
       "      <td>Olark Chat</td>\n",
       "      <td>0</td>\n",
       "      <td>0</td>\n",
       "      <td>0</td>\n",
       "      <td>0</td>\n",
       "      <td>0.00</td>\n",
       "      <td>NaN</td>\n",
       "      <td>Unemployed</td>\n",
       "      <td>NaN</td>\n",
       "      <td>0</td>\n",
       "    </tr>\n",
       "    <tr>\n",
       "      <th>1</th>\n",
       "      <td>660728</td>\n",
       "      <td>API</td>\n",
       "      <td>Organic Search</td>\n",
       "      <td>0</td>\n",
       "      <td>0</td>\n",
       "      <td>5</td>\n",
       "      <td>674</td>\n",
       "      <td>2.50</td>\n",
       "      <td>NaN</td>\n",
       "      <td>Unemployed</td>\n",
       "      <td>NaN</td>\n",
       "      <td>0</td>\n",
       "    </tr>\n",
       "    <tr>\n",
       "      <th>2</th>\n",
       "      <td>660727</td>\n",
       "      <td>Landing Page Submission</td>\n",
       "      <td>Direct Traffic</td>\n",
       "      <td>0</td>\n",
       "      <td>1</td>\n",
       "      <td>2</td>\n",
       "      <td>1532</td>\n",
       "      <td>2.00</td>\n",
       "      <td>Business Specializations</td>\n",
       "      <td>Student and Others</td>\n",
       "      <td>Mumbai</td>\n",
       "      <td>1</td>\n",
       "    </tr>\n",
       "    <tr>\n",
       "      <th>3</th>\n",
       "      <td>660719</td>\n",
       "      <td>Landing Page Submission</td>\n",
       "      <td>Direct Traffic</td>\n",
       "      <td>0</td>\n",
       "      <td>0</td>\n",
       "      <td>1</td>\n",
       "      <td>305</td>\n",
       "      <td>1.00</td>\n",
       "      <td>Industry Specializations</td>\n",
       "      <td>Unemployed</td>\n",
       "      <td>Mumbai</td>\n",
       "      <td>0</td>\n",
       "    </tr>\n",
       "    <tr>\n",
       "      <th>4</th>\n",
       "      <td>660681</td>\n",
       "      <td>Landing Page Submission</td>\n",
       "      <td>Google</td>\n",
       "      <td>0</td>\n",
       "      <td>1</td>\n",
       "      <td>2</td>\n",
       "      <td>1428</td>\n",
       "      <td>1.00</td>\n",
       "      <td>NaN</td>\n",
       "      <td>Unemployed</td>\n",
       "      <td>Mumbai</td>\n",
       "      <td>0</td>\n",
       "    </tr>\n",
       "  </tbody>\n",
       "</table>\n",
       "</div>"
      ],
      "text/plain": [
       "  lead_number              lead_origin     lead_source  do_not_email  \\\n",
       "0      660737                      API      Olark Chat             0   \n",
       "1      660728                      API  Organic Search             0   \n",
       "2      660727  Landing Page Submission  Direct Traffic             0   \n",
       "3      660719  Landing Page Submission  Direct Traffic             0   \n",
       "4      660681  Landing Page Submission          Google             0   \n",
       "\n",
       "   converted  total_visits  time_on_website  page_views_per_visit  \\\n",
       "0          0             0                0                  0.00   \n",
       "1          0             5              674                  2.50   \n",
       "2          1             2             1532                  2.00   \n",
       "3          0             1              305                  1.00   \n",
       "4          1             2             1428                  1.00   \n",
       "\n",
       "             specialization          occupation    city  mastering_interview  \n",
       "0                       NaN          Unemployed     NaN                    0  \n",
       "1                       NaN          Unemployed     NaN                    0  \n",
       "2  Business Specializations  Student and Others  Mumbai                    1  \n",
       "3  Industry Specializations          Unemployed  Mumbai                    0  \n",
       "4                       NaN          Unemployed  Mumbai                    0  "
      ]
     },
     "execution_count": 79,
     "metadata": {},
     "output_type": "execute_result"
    }
   ],
   "source": [
    "binlist = ['do_not_email', 'mastering_interview']\n",
    "# Defining the map function\n",
    "def binary_map(x):\n",
    "    return x.map({'Yes': 1, \"No\": 0})\n",
    "# Applying the function to the housing list\n",
    "df_LeadData[binlist] = df_LeadData[binlist].apply(binary_map)\n",
    "df_LeadData.head()"
   ]
  },
  {
   "cell_type": "code",
   "execution_count": 80,
   "metadata": {},
   "outputs": [],
   "source": [
    "# Creating a dummy variable for some of the categorical variables and dropping the first one.\n",
    "dummy1 = pd.get_dummies(df_LeadData[['lead_origin', 'lead_source', 'specialization', 'occupation', 'city']], drop_first = True)\n",
    "\n",
    "# Adding the results to the master dataframe\n",
    "leads = pd.concat([df_LeadData, dummy1], axis=1)"
   ]
  },
  {
   "cell_type": "code",
   "execution_count": 81,
   "metadata": {},
   "outputs": [
    {
     "data": {
      "text/html": [
       "<div>\n",
       "<style scoped>\n",
       "    .dataframe tbody tr th:only-of-type {\n",
       "        vertical-align: middle;\n",
       "    }\n",
       "\n",
       "    .dataframe tbody tr th {\n",
       "        vertical-align: top;\n",
       "    }\n",
       "\n",
       "    .dataframe thead th {\n",
       "        text-align: right;\n",
       "    }\n",
       "</style>\n",
       "<table border=\"1\" class=\"dataframe\">\n",
       "  <thead>\n",
       "    <tr style=\"text-align: right;\">\n",
       "      <th></th>\n",
       "      <th>lead_number</th>\n",
       "      <th>do_not_email</th>\n",
       "      <th>converted</th>\n",
       "      <th>total_visits</th>\n",
       "      <th>time_on_website</th>\n",
       "      <th>page_views_per_visit</th>\n",
       "      <th>mastering_interview</th>\n",
       "      <th>lead_origin_Landing Page Submission</th>\n",
       "      <th>lead_origin_Lead Add Form and Others</th>\n",
       "      <th>lead_source_Google</th>\n",
       "      <th>lead_source_Olark Chat</th>\n",
       "      <th>lead_source_Organic Search</th>\n",
       "      <th>lead_source_Other Social Sites</th>\n",
       "      <th>lead_source_Reference</th>\n",
       "      <th>specialization_Industry Specializations</th>\n",
       "      <th>specialization_Management Specializations</th>\n",
       "      <th>occupation_Unemployed</th>\n",
       "      <th>occupation_Working Professional</th>\n",
       "      <th>city_Non-Maharashtra Cities</th>\n",
       "      <th>city_Non-Mumbai Maharashtra Cities</th>\n",
       "    </tr>\n",
       "  </thead>\n",
       "  <tbody>\n",
       "    <tr>\n",
       "      <th>0</th>\n",
       "      <td>660737</td>\n",
       "      <td>0</td>\n",
       "      <td>0</td>\n",
       "      <td>0</td>\n",
       "      <td>0</td>\n",
       "      <td>0.00</td>\n",
       "      <td>0</td>\n",
       "      <td>0</td>\n",
       "      <td>0</td>\n",
       "      <td>0</td>\n",
       "      <td>1</td>\n",
       "      <td>0</td>\n",
       "      <td>0</td>\n",
       "      <td>0</td>\n",
       "      <td>0</td>\n",
       "      <td>0</td>\n",
       "      <td>1</td>\n",
       "      <td>0</td>\n",
       "      <td>0</td>\n",
       "      <td>0</td>\n",
       "    </tr>\n",
       "    <tr>\n",
       "      <th>1</th>\n",
       "      <td>660728</td>\n",
       "      <td>0</td>\n",
       "      <td>0</td>\n",
       "      <td>5</td>\n",
       "      <td>674</td>\n",
       "      <td>2.50</td>\n",
       "      <td>0</td>\n",
       "      <td>0</td>\n",
       "      <td>0</td>\n",
       "      <td>0</td>\n",
       "      <td>0</td>\n",
       "      <td>1</td>\n",
       "      <td>0</td>\n",
       "      <td>0</td>\n",
       "      <td>0</td>\n",
       "      <td>0</td>\n",
       "      <td>1</td>\n",
       "      <td>0</td>\n",
       "      <td>0</td>\n",
       "      <td>0</td>\n",
       "    </tr>\n",
       "    <tr>\n",
       "      <th>2</th>\n",
       "      <td>660727</td>\n",
       "      <td>0</td>\n",
       "      <td>1</td>\n",
       "      <td>2</td>\n",
       "      <td>1532</td>\n",
       "      <td>2.00</td>\n",
       "      <td>1</td>\n",
       "      <td>1</td>\n",
       "      <td>0</td>\n",
       "      <td>0</td>\n",
       "      <td>0</td>\n",
       "      <td>0</td>\n",
       "      <td>0</td>\n",
       "      <td>0</td>\n",
       "      <td>0</td>\n",
       "      <td>0</td>\n",
       "      <td>0</td>\n",
       "      <td>0</td>\n",
       "      <td>0</td>\n",
       "      <td>0</td>\n",
       "    </tr>\n",
       "    <tr>\n",
       "      <th>3</th>\n",
       "      <td>660719</td>\n",
       "      <td>0</td>\n",
       "      <td>0</td>\n",
       "      <td>1</td>\n",
       "      <td>305</td>\n",
       "      <td>1.00</td>\n",
       "      <td>0</td>\n",
       "      <td>1</td>\n",
       "      <td>0</td>\n",
       "      <td>0</td>\n",
       "      <td>0</td>\n",
       "      <td>0</td>\n",
       "      <td>0</td>\n",
       "      <td>0</td>\n",
       "      <td>1</td>\n",
       "      <td>0</td>\n",
       "      <td>1</td>\n",
       "      <td>0</td>\n",
       "      <td>0</td>\n",
       "      <td>0</td>\n",
       "    </tr>\n",
       "    <tr>\n",
       "      <th>4</th>\n",
       "      <td>660681</td>\n",
       "      <td>0</td>\n",
       "      <td>1</td>\n",
       "      <td>2</td>\n",
       "      <td>1428</td>\n",
       "      <td>1.00</td>\n",
       "      <td>0</td>\n",
       "      <td>1</td>\n",
       "      <td>0</td>\n",
       "      <td>1</td>\n",
       "      <td>0</td>\n",
       "      <td>0</td>\n",
       "      <td>0</td>\n",
       "      <td>0</td>\n",
       "      <td>0</td>\n",
       "      <td>0</td>\n",
       "      <td>1</td>\n",
       "      <td>0</td>\n",
       "      <td>0</td>\n",
       "      <td>0</td>\n",
       "    </tr>\n",
       "  </tbody>\n",
       "</table>\n",
       "</div>"
      ],
      "text/plain": [
       "  lead_number  do_not_email  converted  total_visits  time_on_website  \\\n",
       "0      660737             0          0             0                0   \n",
       "1      660728             0          0             5              674   \n",
       "2      660727             0          1             2             1532   \n",
       "3      660719             0          0             1              305   \n",
       "4      660681             0          1             2             1428   \n",
       "\n",
       "   page_views_per_visit  mastering_interview  \\\n",
       "0                  0.00                    0   \n",
       "1                  2.50                    0   \n",
       "2                  2.00                    1   \n",
       "3                  1.00                    0   \n",
       "4                  1.00                    0   \n",
       "\n",
       "   lead_origin_Landing Page Submission  lead_origin_Lead Add Form and Others  \\\n",
       "0                                    0                                     0   \n",
       "1                                    0                                     0   \n",
       "2                                    1                                     0   \n",
       "3                                    1                                     0   \n",
       "4                                    1                                     0   \n",
       "\n",
       "   lead_source_Google  lead_source_Olark Chat  lead_source_Organic Search  \\\n",
       "0                   0                       1                           0   \n",
       "1                   0                       0                           1   \n",
       "2                   0                       0                           0   \n",
       "3                   0                       0                           0   \n",
       "4                   1                       0                           0   \n",
       "\n",
       "   lead_source_Other Social Sites  lead_source_Reference  \\\n",
       "0                               0                      0   \n",
       "1                               0                      0   \n",
       "2                               0                      0   \n",
       "3                               0                      0   \n",
       "4                               0                      0   \n",
       "\n",
       "   specialization_Industry Specializations  \\\n",
       "0                                        0   \n",
       "1                                        0   \n",
       "2                                        0   \n",
       "3                                        1   \n",
       "4                                        0   \n",
       "\n",
       "   specialization_Management Specializations  occupation_Unemployed  \\\n",
       "0                                          0                      1   \n",
       "1                                          0                      1   \n",
       "2                                          0                      0   \n",
       "3                                          0                      1   \n",
       "4                                          0                      1   \n",
       "\n",
       "   occupation_Working Professional  city_Non-Maharashtra Cities  \\\n",
       "0                                0                            0   \n",
       "1                                0                            0   \n",
       "2                                0                            0   \n",
       "3                                0                            0   \n",
       "4                                0                            0   \n",
       "\n",
       "   city_Non-Mumbai Maharashtra Cities  \n",
       "0                                   0  \n",
       "1                                   0  \n",
       "2                                   0  \n",
       "3                                   0  \n",
       "4                                   0  "
      ]
     },
     "execution_count": 81,
     "metadata": {},
     "output_type": "execute_result"
    }
   ],
   "source": [
    "# Dropping the columns for which dummies have been created\n",
    "leads.drop(['lead_origin', 'lead_source', 'specialization', 'occupation', 'city'], axis = 1, inplace = True)\n",
    "\n",
    "leads.head()"
   ]
  },
  {
   "cell_type": "markdown",
   "metadata": {},
   "source": [
    "## Creation of test and train Sets"
   ]
  },
  {
   "cell_type": "markdown",
   "metadata": {},
   "source": [
    "Test-Train Split"
   ]
  },
  {
   "cell_type": "code",
   "execution_count": 82,
   "metadata": {},
   "outputs": [],
   "source": [
    "categorical_cols = ['lead_origin', 'lead_source', 'specialization','occupation','city']\n",
    "numerical_cols = ['total_visits','time_on_website','page_views_per_visit']"
   ]
  },
  {
   "cell_type": "code",
   "execution_count": 83,
   "metadata": {},
   "outputs": [],
   "source": [
    "df_train, df_test = train_test_split(leads, train_size = 0.7, random_state = 100)"
   ]
  },
  {
   "cell_type": "code",
   "execution_count": 84,
   "metadata": {},
   "outputs": [
    {
     "data": {
      "text/html": [
       "<div>\n",
       "<style scoped>\n",
       "    .dataframe tbody tr th:only-of-type {\n",
       "        vertical-align: middle;\n",
       "    }\n",
       "\n",
       "    .dataframe tbody tr th {\n",
       "        vertical-align: top;\n",
       "    }\n",
       "\n",
       "    .dataframe thead th {\n",
       "        text-align: right;\n",
       "    }\n",
       "</style>\n",
       "<table border=\"1\" class=\"dataframe\">\n",
       "  <thead>\n",
       "    <tr style=\"text-align: right;\">\n",
       "      <th></th>\n",
       "      <th>lead_number</th>\n",
       "      <th>do_not_email</th>\n",
       "      <th>converted</th>\n",
       "      <th>total_visits</th>\n",
       "      <th>time_on_website</th>\n",
       "      <th>page_views_per_visit</th>\n",
       "      <th>mastering_interview</th>\n",
       "      <th>lead_origin_Landing Page Submission</th>\n",
       "      <th>lead_origin_Lead Add Form and Others</th>\n",
       "      <th>lead_source_Google</th>\n",
       "      <th>lead_source_Olark Chat</th>\n",
       "      <th>lead_source_Organic Search</th>\n",
       "      <th>lead_source_Other Social Sites</th>\n",
       "      <th>lead_source_Reference</th>\n",
       "      <th>specialization_Industry Specializations</th>\n",
       "      <th>specialization_Management Specializations</th>\n",
       "      <th>occupation_Unemployed</th>\n",
       "      <th>occupation_Working Professional</th>\n",
       "      <th>city_Non-Maharashtra Cities</th>\n",
       "      <th>city_Non-Mumbai Maharashtra Cities</th>\n",
       "    </tr>\n",
       "  </thead>\n",
       "  <tbody>\n",
       "    <tr>\n",
       "      <th>1871</th>\n",
       "      <td>641410</td>\n",
       "      <td>0</td>\n",
       "      <td>0</td>\n",
       "      <td>0.00</td>\n",
       "      <td>0.00</td>\n",
       "      <td>0.00</td>\n",
       "      <td>0</td>\n",
       "      <td>0</td>\n",
       "      <td>0</td>\n",
       "      <td>0</td>\n",
       "      <td>1</td>\n",
       "      <td>0</td>\n",
       "      <td>0</td>\n",
       "      <td>0</td>\n",
       "      <td>0</td>\n",
       "      <td>1</td>\n",
       "      <td>1</td>\n",
       "      <td>0</td>\n",
       "      <td>0</td>\n",
       "      <td>0</td>\n",
       "    </tr>\n",
       "    <tr>\n",
       "      <th>6795</th>\n",
       "      <td>597687</td>\n",
       "      <td>0</td>\n",
       "      <td>0</td>\n",
       "      <td>0.24</td>\n",
       "      <td>0.21</td>\n",
       "      <td>0.15</td>\n",
       "      <td>1</td>\n",
       "      <td>1</td>\n",
       "      <td>0</td>\n",
       "      <td>0</td>\n",
       "      <td>0</td>\n",
       "      <td>0</td>\n",
       "      <td>0</td>\n",
       "      <td>0</td>\n",
       "      <td>0</td>\n",
       "      <td>0</td>\n",
       "      <td>1</td>\n",
       "      <td>0</td>\n",
       "      <td>1</td>\n",
       "      <td>0</td>\n",
       "    </tr>\n",
       "    <tr>\n",
       "      <th>3516</th>\n",
       "      <td>626825</td>\n",
       "      <td>0</td>\n",
       "      <td>0</td>\n",
       "      <td>0.29</td>\n",
       "      <td>0.05</td>\n",
       "      <td>0.28</td>\n",
       "      <td>0</td>\n",
       "      <td>0</td>\n",
       "      <td>0</td>\n",
       "      <td>0</td>\n",
       "      <td>1</td>\n",
       "      <td>0</td>\n",
       "      <td>0</td>\n",
       "      <td>0</td>\n",
       "      <td>0</td>\n",
       "      <td>0</td>\n",
       "      <td>1</td>\n",
       "      <td>0</td>\n",
       "      <td>0</td>\n",
       "      <td>0</td>\n",
       "    </tr>\n",
       "    <tr>\n",
       "      <th>8105</th>\n",
       "      <td>587928</td>\n",
       "      <td>0</td>\n",
       "      <td>0</td>\n",
       "      <td>0.29</td>\n",
       "      <td>0.54</td>\n",
       "      <td>0.56</td>\n",
       "      <td>0</td>\n",
       "      <td>1</td>\n",
       "      <td>0</td>\n",
       "      <td>1</td>\n",
       "      <td>0</td>\n",
       "      <td>0</td>\n",
       "      <td>0</td>\n",
       "      <td>0</td>\n",
       "      <td>1</td>\n",
       "      <td>0</td>\n",
       "      <td>1</td>\n",
       "      <td>0</td>\n",
       "      <td>0</td>\n",
       "      <td>0</td>\n",
       "    </tr>\n",
       "    <tr>\n",
       "      <th>3934</th>\n",
       "      <td>622366</td>\n",
       "      <td>0</td>\n",
       "      <td>0</td>\n",
       "      <td>0.00</td>\n",
       "      <td>0.00</td>\n",
       "      <td>0.00</td>\n",
       "      <td>0</td>\n",
       "      <td>0</td>\n",
       "      <td>0</td>\n",
       "      <td>0</td>\n",
       "      <td>1</td>\n",
       "      <td>0</td>\n",
       "      <td>0</td>\n",
       "      <td>0</td>\n",
       "      <td>0</td>\n",
       "      <td>0</td>\n",
       "      <td>1</td>\n",
       "      <td>0</td>\n",
       "      <td>0</td>\n",
       "      <td>0</td>\n",
       "    </tr>\n",
       "  </tbody>\n",
       "</table>\n",
       "</div>"
      ],
      "text/plain": [
       "     lead_number  do_not_email  converted  total_visits  time_on_website  \\\n",
       "1871      641410             0          0          0.00             0.00   \n",
       "6795      597687             0          0          0.24             0.21   \n",
       "3516      626825             0          0          0.29             0.05   \n",
       "8105      587928             0          0          0.29             0.54   \n",
       "3934      622366             0          0          0.00             0.00   \n",
       "\n",
       "      page_views_per_visit  mastering_interview  \\\n",
       "1871                  0.00                    0   \n",
       "6795                  0.15                    1   \n",
       "3516                  0.28                    0   \n",
       "8105                  0.56                    0   \n",
       "3934                  0.00                    0   \n",
       "\n",
       "      lead_origin_Landing Page Submission  \\\n",
       "1871                                    0   \n",
       "6795                                    1   \n",
       "3516                                    0   \n",
       "8105                                    1   \n",
       "3934                                    0   \n",
       "\n",
       "      lead_origin_Lead Add Form and Others  lead_source_Google  \\\n",
       "1871                                     0                   0   \n",
       "6795                                     0                   0   \n",
       "3516                                     0                   0   \n",
       "8105                                     0                   1   \n",
       "3934                                     0                   0   \n",
       "\n",
       "      lead_source_Olark Chat  lead_source_Organic Search  \\\n",
       "1871                       1                           0   \n",
       "6795                       0                           0   \n",
       "3516                       1                           0   \n",
       "8105                       0                           0   \n",
       "3934                       1                           0   \n",
       "\n",
       "      lead_source_Other Social Sites  lead_source_Reference  \\\n",
       "1871                               0                      0   \n",
       "6795                               0                      0   \n",
       "3516                               0                      0   \n",
       "8105                               0                      0   \n",
       "3934                               0                      0   \n",
       "\n",
       "      specialization_Industry Specializations  \\\n",
       "1871                                        0   \n",
       "6795                                        0   \n",
       "3516                                        0   \n",
       "8105                                        1   \n",
       "3934                                        0   \n",
       "\n",
       "      specialization_Management Specializations  occupation_Unemployed  \\\n",
       "1871                                          1                      1   \n",
       "6795                                          0                      1   \n",
       "3516                                          0                      1   \n",
       "8105                                          0                      1   \n",
       "3934                                          0                      1   \n",
       "\n",
       "      occupation_Working Professional  city_Non-Maharashtra Cities  \\\n",
       "1871                                0                            0   \n",
       "6795                                0                            1   \n",
       "3516                                0                            0   \n",
       "8105                                0                            0   \n",
       "3934                                0                            0   \n",
       "\n",
       "      city_Non-Mumbai Maharashtra Cities  \n",
       "1871                                   0  \n",
       "6795                                   0  \n",
       "3516                                   0  \n",
       "8105                                   0  \n",
       "3934                                   0  "
      ]
     },
     "execution_count": 84,
     "metadata": {},
     "output_type": "execute_result"
    }
   ],
   "source": [
    "scaler = MinMaxScaler()\n",
    "df_train[numerical_cols] = scaler.fit_transform(df_train[numerical_cols])\n",
    "df_train.head()"
   ]
  },
  {
   "cell_type": "code",
   "execution_count": 85,
   "metadata": {},
   "outputs": [
    {
     "data": {
      "text/html": [
       "<div>\n",
       "<style scoped>\n",
       "    .dataframe tbody tr th:only-of-type {\n",
       "        vertical-align: middle;\n",
       "    }\n",
       "\n",
       "    .dataframe tbody tr th {\n",
       "        vertical-align: top;\n",
       "    }\n",
       "\n",
       "    .dataframe thead th {\n",
       "        text-align: right;\n",
       "    }\n",
       "</style>\n",
       "<table border=\"1\" class=\"dataframe\">\n",
       "  <thead>\n",
       "    <tr style=\"text-align: right;\">\n",
       "      <th></th>\n",
       "      <th>do_not_email</th>\n",
       "      <th>converted</th>\n",
       "      <th>total_visits</th>\n",
       "      <th>time_on_website</th>\n",
       "      <th>page_views_per_visit</th>\n",
       "      <th>mastering_interview</th>\n",
       "      <th>lead_origin_Landing Page Submission</th>\n",
       "      <th>lead_origin_Lead Add Form and Others</th>\n",
       "      <th>lead_source_Google</th>\n",
       "      <th>lead_source_Olark Chat</th>\n",
       "      <th>lead_source_Organic Search</th>\n",
       "      <th>lead_source_Other Social Sites</th>\n",
       "      <th>lead_source_Reference</th>\n",
       "      <th>specialization_Industry Specializations</th>\n",
       "      <th>specialization_Management Specializations</th>\n",
       "      <th>occupation_Unemployed</th>\n",
       "      <th>occupation_Working Professional</th>\n",
       "      <th>city_Non-Maharashtra Cities</th>\n",
       "      <th>city_Non-Mumbai Maharashtra Cities</th>\n",
       "    </tr>\n",
       "  </thead>\n",
       "  <tbody>\n",
       "    <tr>\n",
       "      <th>count</th>\n",
       "      <td>6468.00</td>\n",
       "      <td>6468.00</td>\n",
       "      <td>6468.00</td>\n",
       "      <td>6468.00</td>\n",
       "      <td>6468.00</td>\n",
       "      <td>6468.00</td>\n",
       "      <td>6468.00</td>\n",
       "      <td>6468.00</td>\n",
       "      <td>6468.00</td>\n",
       "      <td>6468.00</td>\n",
       "      <td>6468.00</td>\n",
       "      <td>6468.00</td>\n",
       "      <td>6468.00</td>\n",
       "      <td>6468.00</td>\n",
       "      <td>6468.00</td>\n",
       "      <td>6468.00</td>\n",
       "      <td>6468.00</td>\n",
       "      <td>6468.00</td>\n",
       "      <td>6468.00</td>\n",
       "    </tr>\n",
       "    <tr>\n",
       "      <th>mean</th>\n",
       "      <td>0.08</td>\n",
       "      <td>0.38</td>\n",
       "      <td>0.20</td>\n",
       "      <td>0.21</td>\n",
       "      <td>0.26</td>\n",
       "      <td>0.31</td>\n",
       "      <td>0.53</td>\n",
       "      <td>0.08</td>\n",
       "      <td>0.32</td>\n",
       "      <td>0.19</td>\n",
       "      <td>0.12</td>\n",
       "      <td>0.04</td>\n",
       "      <td>0.06</td>\n",
       "      <td>0.09</td>\n",
       "      <td>0.46</td>\n",
       "      <td>0.61</td>\n",
       "      <td>0.08</td>\n",
       "      <td>0.13</td>\n",
       "      <td>0.13</td>\n",
       "    </tr>\n",
       "    <tr>\n",
       "      <th>std</th>\n",
       "      <td>0.27</td>\n",
       "      <td>0.49</td>\n",
       "      <td>0.19</td>\n",
       "      <td>0.24</td>\n",
       "      <td>0.22</td>\n",
       "      <td>0.46</td>\n",
       "      <td>0.50</td>\n",
       "      <td>0.28</td>\n",
       "      <td>0.47</td>\n",
       "      <td>0.39</td>\n",
       "      <td>0.33</td>\n",
       "      <td>0.19</td>\n",
       "      <td>0.24</td>\n",
       "      <td>0.29</td>\n",
       "      <td>0.50</td>\n",
       "      <td>0.49</td>\n",
       "      <td>0.27</td>\n",
       "      <td>0.33</td>\n",
       "      <td>0.34</td>\n",
       "    </tr>\n",
       "    <tr>\n",
       "      <th>min</th>\n",
       "      <td>0.00</td>\n",
       "      <td>0.00</td>\n",
       "      <td>0.00</td>\n",
       "      <td>0.00</td>\n",
       "      <td>0.00</td>\n",
       "      <td>0.00</td>\n",
       "      <td>0.00</td>\n",
       "      <td>0.00</td>\n",
       "      <td>0.00</td>\n",
       "      <td>0.00</td>\n",
       "      <td>0.00</td>\n",
       "      <td>0.00</td>\n",
       "      <td>0.00</td>\n",
       "      <td>0.00</td>\n",
       "      <td>0.00</td>\n",
       "      <td>0.00</td>\n",
       "      <td>0.00</td>\n",
       "      <td>0.00</td>\n",
       "      <td>0.00</td>\n",
       "    </tr>\n",
       "    <tr>\n",
       "      <th>25%</th>\n",
       "      <td>0.00</td>\n",
       "      <td>0.00</td>\n",
       "      <td>0.06</td>\n",
       "      <td>0.01</td>\n",
       "      <td>0.11</td>\n",
       "      <td>0.00</td>\n",
       "      <td>0.00</td>\n",
       "      <td>0.00</td>\n",
       "      <td>0.00</td>\n",
       "      <td>0.00</td>\n",
       "      <td>0.00</td>\n",
       "      <td>0.00</td>\n",
       "      <td>0.00</td>\n",
       "      <td>0.00</td>\n",
       "      <td>0.00</td>\n",
       "      <td>0.00</td>\n",
       "      <td>0.00</td>\n",
       "      <td>0.00</td>\n",
       "      <td>0.00</td>\n",
       "    </tr>\n",
       "    <tr>\n",
       "      <th>50%</th>\n",
       "      <td>0.00</td>\n",
       "      <td>0.00</td>\n",
       "      <td>0.18</td>\n",
       "      <td>0.11</td>\n",
       "      <td>0.22</td>\n",
       "      <td>0.00</td>\n",
       "      <td>1.00</td>\n",
       "      <td>0.00</td>\n",
       "      <td>0.00</td>\n",
       "      <td>0.00</td>\n",
       "      <td>0.00</td>\n",
       "      <td>0.00</td>\n",
       "      <td>0.00</td>\n",
       "      <td>0.00</td>\n",
       "      <td>0.00</td>\n",
       "      <td>1.00</td>\n",
       "      <td>0.00</td>\n",
       "      <td>0.00</td>\n",
       "      <td>0.00</td>\n",
       "    </tr>\n",
       "    <tr>\n",
       "      <th>75%</th>\n",
       "      <td>0.00</td>\n",
       "      <td>1.00</td>\n",
       "      <td>0.29</td>\n",
       "      <td>0.41</td>\n",
       "      <td>0.33</td>\n",
       "      <td>1.00</td>\n",
       "      <td>1.00</td>\n",
       "      <td>0.00</td>\n",
       "      <td>1.00</td>\n",
       "      <td>0.00</td>\n",
       "      <td>0.00</td>\n",
       "      <td>0.00</td>\n",
       "      <td>0.00</td>\n",
       "      <td>0.00</td>\n",
       "      <td>1.00</td>\n",
       "      <td>1.00</td>\n",
       "      <td>0.00</td>\n",
       "      <td>0.00</td>\n",
       "      <td>0.00</td>\n",
       "    </tr>\n",
       "    <tr>\n",
       "      <th>max</th>\n",
       "      <td>1.00</td>\n",
       "      <td>1.00</td>\n",
       "      <td>1.00</td>\n",
       "      <td>1.00</td>\n",
       "      <td>1.00</td>\n",
       "      <td>1.00</td>\n",
       "      <td>1.00</td>\n",
       "      <td>1.00</td>\n",
       "      <td>1.00</td>\n",
       "      <td>1.00</td>\n",
       "      <td>1.00</td>\n",
       "      <td>1.00</td>\n",
       "      <td>1.00</td>\n",
       "      <td>1.00</td>\n",
       "      <td>1.00</td>\n",
       "      <td>1.00</td>\n",
       "      <td>1.00</td>\n",
       "      <td>1.00</td>\n",
       "      <td>1.00</td>\n",
       "    </tr>\n",
       "  </tbody>\n",
       "</table>\n",
       "</div>"
      ],
      "text/plain": [
       "       do_not_email  converted  total_visits  time_on_website  \\\n",
       "count       6468.00    6468.00       6468.00          6468.00   \n",
       "mean           0.08       0.38          0.20             0.21   \n",
       "std            0.27       0.49          0.19             0.24   \n",
       "min            0.00       0.00          0.00             0.00   \n",
       "25%            0.00       0.00          0.06             0.01   \n",
       "50%            0.00       0.00          0.18             0.11   \n",
       "75%            0.00       1.00          0.29             0.41   \n",
       "max            1.00       1.00          1.00             1.00   \n",
       "\n",
       "       page_views_per_visit  mastering_interview  \\\n",
       "count               6468.00              6468.00   \n",
       "mean                   0.26                 0.31   \n",
       "std                    0.22                 0.46   \n",
       "min                    0.00                 0.00   \n",
       "25%                    0.11                 0.00   \n",
       "50%                    0.22                 0.00   \n",
       "75%                    0.33                 1.00   \n",
       "max                    1.00                 1.00   \n",
       "\n",
       "       lead_origin_Landing Page Submission  \\\n",
       "count                              6468.00   \n",
       "mean                                  0.53   \n",
       "std                                   0.50   \n",
       "min                                   0.00   \n",
       "25%                                   0.00   \n",
       "50%                                   1.00   \n",
       "75%                                   1.00   \n",
       "max                                   1.00   \n",
       "\n",
       "       lead_origin_Lead Add Form and Others  lead_source_Google  \\\n",
       "count                               6468.00             6468.00   \n",
       "mean                                   0.08                0.32   \n",
       "std                                    0.28                0.47   \n",
       "min                                    0.00                0.00   \n",
       "25%                                    0.00                0.00   \n",
       "50%                                    0.00                0.00   \n",
       "75%                                    0.00                1.00   \n",
       "max                                    1.00                1.00   \n",
       "\n",
       "       lead_source_Olark Chat  lead_source_Organic Search  \\\n",
       "count                 6468.00                     6468.00   \n",
       "mean                     0.19                        0.12   \n",
       "std                      0.39                        0.33   \n",
       "min                      0.00                        0.00   \n",
       "25%                      0.00                        0.00   \n",
       "50%                      0.00                        0.00   \n",
       "75%                      0.00                        0.00   \n",
       "max                      1.00                        1.00   \n",
       "\n",
       "       lead_source_Other Social Sites  lead_source_Reference  \\\n",
       "count                         6468.00                6468.00   \n",
       "mean                             0.04                   0.06   \n",
       "std                              0.19                   0.24   \n",
       "min                              0.00                   0.00   \n",
       "25%                              0.00                   0.00   \n",
       "50%                              0.00                   0.00   \n",
       "75%                              0.00                   0.00   \n",
       "max                              1.00                   1.00   \n",
       "\n",
       "       specialization_Industry Specializations  \\\n",
       "count                                  6468.00   \n",
       "mean                                      0.09   \n",
       "std                                       0.29   \n",
       "min                                       0.00   \n",
       "25%                                       0.00   \n",
       "50%                                       0.00   \n",
       "75%                                       0.00   \n",
       "max                                       1.00   \n",
       "\n",
       "       specialization_Management Specializations  occupation_Unemployed  \\\n",
       "count                                    6468.00                6468.00   \n",
       "mean                                        0.46                   0.61   \n",
       "std                                         0.50                   0.49   \n",
       "min                                         0.00                   0.00   \n",
       "25%                                         0.00                   0.00   \n",
       "50%                                         0.00                   1.00   \n",
       "75%                                         1.00                   1.00   \n",
       "max                                         1.00                   1.00   \n",
       "\n",
       "       occupation_Working Professional  city_Non-Maharashtra Cities  \\\n",
       "count                          6468.00                      6468.00   \n",
       "mean                              0.08                         0.13   \n",
       "std                               0.27                         0.33   \n",
       "min                               0.00                         0.00   \n",
       "25%                               0.00                         0.00   \n",
       "50%                               0.00                         0.00   \n",
       "75%                               0.00                         0.00   \n",
       "max                               1.00                         1.00   \n",
       "\n",
       "       city_Non-Mumbai Maharashtra Cities  \n",
       "count                             6468.00  \n",
       "mean                                 0.13  \n",
       "std                                  0.34  \n",
       "min                                  0.00  \n",
       "25%                                  0.00  \n",
       "50%                                  0.00  \n",
       "75%                                  0.00  \n",
       "max                                  1.00  "
      ]
     },
     "execution_count": 85,
     "metadata": {},
     "output_type": "execute_result"
    }
   ],
   "source": [
    "df_train.describe()"
   ]
  },
  {
   "cell_type": "code",
   "execution_count": 88,
   "metadata": {},
   "outputs": [],
   "source": [
    "y_train = df_train.converted\n",
    "X_train = df_train.drop(['converted'],axis =1)"
   ]
  },
  {
   "cell_type": "code",
   "execution_count": 89,
   "metadata": {},
   "outputs": [
    {
     "data": {
      "text/plain": [
       "(6468, 19)"
      ]
     },
     "execution_count": 89,
     "metadata": {},
     "output_type": "execute_result"
    }
   ],
   "source": [
    "X_train.shape"
   ]
  },
  {
   "cell_type": "code",
   "execution_count": 90,
   "metadata": {},
   "outputs": [
    {
     "data": {
      "text/plain": [
       "(6468,)"
      ]
     },
     "execution_count": 90,
     "metadata": {},
     "output_type": "execute_result"
    }
   ],
   "source": [
    "y_train.shape"
   ]
  },
  {
   "cell_type": "code",
   "execution_count": 93,
   "metadata": {},
   "outputs": [],
   "source": [
    "y_test = df_test.converted\n",
    "X_test = df_test.drop(['converted'],axis =1)"
   ]
  },
  {
   "cell_type": "code",
   "execution_count": 94,
   "metadata": {},
   "outputs": [
    {
     "data": {
      "text/plain": [
       "(2772, 19)"
      ]
     },
     "execution_count": 94,
     "metadata": {},
     "output_type": "execute_result"
    }
   ],
   "source": [
    "X_test.shape"
   ]
  },
  {
   "cell_type": "code",
   "execution_count": 95,
   "metadata": {},
   "outputs": [
    {
     "data": {
      "text/plain": [
       "(2772,)"
      ]
     },
     "execution_count": 95,
     "metadata": {},
     "output_type": "execute_result"
    }
   ],
   "source": [
    "y_test.shape"
   ]
  },
  {
   "cell_type": "code",
   "execution_count": 96,
   "metadata": {},
   "outputs": [
    {
     "data": {
      "image/png": "[encoded data removed]",
      "text/plain": [
       "<Figure size 1440x1440 with 2 Axes>"
      ]
     },
     "metadata": {},
     "output_type": "display_data"
    }
   ],
   "source": [
    "corr = X_train.corr()\n",
    "\n",
    "plt.figure(figsize = [20,20])\n",
    "sns.heatmap(corr, annot = True, square = True, cmap = 'Blues')\n",
    "plt.show()"
   ]
  },
  {
   "cell_type": "markdown",
   "metadata": {},
   "source": [
    "There is high multicollinearity. Columns causing multicollinearity must be dropped."
   ]
  },
  {
   "cell_type": "code",
   "execution_count": 101,
   "metadata": {},
   "outputs": [],
   "source": [
    "drop_cols = ['lead_origin_Landing Page Submission','total_visits',\n",
    "             'mastering_interview','lead_origin_Lead Add Form and Others','lead_source_Organic Search']"
   ]
  },
  {
   "cell_type": "code",
   "execution_count": 102,
   "metadata": {},
   "outputs": [],
   "source": [
    "# Dropping the columns to overcome multicollinearity\n",
    "\n",
    "X_train.drop(drop_cols, axis = 1, inplace = True)"
   ]
  },
  {
   "cell_type": "code",
   "execution_count": 103,
   "metadata": {},
   "outputs": [
    {
     "data": {
      "image/png": "[encoded data removed]",
      "text/plain": [
       "<Figure size 1440x1440 with 2 Axes>"
      ]
     },
     "metadata": {},
     "output_type": "display_data"
    }
   ],
   "source": [
    "corr = X_train.corr()\n",
    "\n",
    "plt.figure(figsize = [20,20])\n",
    "sns.heatmap(corr, annot = True, square = True, cmap = 'Blues')\n",
    "plt.show()"
   ]
  },
  {
   "cell_type": "markdown",
   "metadata": {},
   "source": [
    "## Model Building"
   ]
  },
  {
   "cell_type": "code",
   "execution_count": 113,
   "metadata": {},
   "outputs": [
    {
     "data": {
      "text/html": [
       "<table class=\"simpletable\">\n",
       "<caption>Generalized Linear Model Regression Results</caption>\n",
       "<tr>\n",
       "  <th>Dep. Variable:</th>       <td>converted</td>    <th>  No. Observations:  </th>  <td>  6468</td> \n",
       "</tr>\n",
       "<tr>\n",
       "  <th>Model:</th>                  <td>GLM</td>       <th>  Df Residuals:      </th>  <td>  6453</td> \n",
       "</tr>\n",
       "<tr>\n",
       "  <th>Model Family:</th>        <td>Binomial</td>     <th>  Df Model:          </th>  <td>    14</td> \n",
       "</tr>\n",
       "<tr>\n",
       "  <th>Link Function:</th>         <td>logit</td>      <th>  Scale:             </th> <td>  1.0000</td>\n",
       "</tr>\n",
       "<tr>\n",
       "  <th>Method:</th>                <td>IRLS</td>       <th>  Log-Likelihood:    </th> <td> -3015.9</td>\n",
       "</tr>\n",
       "<tr>\n",
       "  <th>Date:</th>            <td>Sat, 12 Mar 2022</td> <th>  Deviance:          </th> <td>  6031.9</td>\n",
       "</tr>\n",
       "<tr>\n",
       "  <th>Time:</th>                <td>12:20:27</td>     <th>  Pearson chi2:      </th> <td>7.38e+03</td>\n",
       "</tr>\n",
       "<tr>\n",
       "  <th>No. Iterations:</th>          <td>6</td>        <th>                     </th>     <td> </td>   \n",
       "</tr>\n",
       "<tr>\n",
       "  <th>Covariance Type:</th>     <td>nonrobust</td>    <th>                     </th>     <td> </td>   \n",
       "</tr>\n",
       "</table>\n",
       "<table class=\"simpletable\">\n",
       "<tr>\n",
       "                      <td></td>                         <th>coef</th>     <th>std err</th>      <th>z</th>      <th>P>|z|</th>  <th>[0.025</th>    <th>0.975]</th>  \n",
       "</tr>\n",
       "<tr>\n",
       "  <th>const</th>                                     <td>   -3.5748</td> <td>    0.878</td> <td>   -4.073</td> <td> 0.000</td> <td>   -5.295</td> <td>   -1.855</td>\n",
       "</tr>\n",
       "<tr>\n",
       "  <th>lead_number</th>                               <td> 9.544e-07</td> <td> 1.42e-06</td> <td>    0.672</td> <td> 0.501</td> <td>-1.83e-06</td> <td> 3.74e-06</td>\n",
       "</tr>\n",
       "<tr>\n",
       "  <th>do_not_email</th>                              <td>   -1.1416</td> <td>    0.151</td> <td>   -7.575</td> <td> 0.000</td> <td>   -1.437</td> <td>   -0.846</td>\n",
       "</tr>\n",
       "<tr>\n",
       "  <th>time_on_website</th>                           <td>    4.2702</td> <td>    0.155</td> <td>   27.503</td> <td> 0.000</td> <td>    3.966</td> <td>    4.575</td>\n",
       "</tr>\n",
       "<tr>\n",
       "  <th>page_views_per_visit</th>                      <td>   -0.6278</td> <td>    0.195</td> <td>   -3.221</td> <td> 0.001</td> <td>   -1.010</td> <td>   -0.246</td>\n",
       "</tr>\n",
       "<tr>\n",
       "  <th>lead_source_Google</th>                        <td>    0.3762</td> <td>    0.078</td> <td>    4.800</td> <td> 0.000</td> <td>    0.223</td> <td>    0.530</td>\n",
       "</tr>\n",
       "<tr>\n",
       "  <th>lead_source_Olark Chat</th>                    <td>    1.0140</td> <td>    0.122</td> <td>    8.343</td> <td> 0.000</td> <td>    0.776</td> <td>    1.252</td>\n",
       "</tr>\n",
       "<tr>\n",
       "  <th>lead_source_Other Social Sites</th>            <td>    1.7105</td> <td>    0.166</td> <td>   10.303</td> <td> 0.000</td> <td>    1.385</td> <td>    2.036</td>\n",
       "</tr>\n",
       "<tr>\n",
       "  <th>lead_source_Reference</th>                     <td>    3.5387</td> <td>    0.211</td> <td>   16.753</td> <td> 0.000</td> <td>    3.125</td> <td>    3.953</td>\n",
       "</tr>\n",
       "<tr>\n",
       "  <th>specialization_Industry Specializations</th>   <td>    0.4627</td> <td>    0.123</td> <td>    3.747</td> <td> 0.000</td> <td>    0.221</td> <td>    0.705</td>\n",
       "</tr>\n",
       "<tr>\n",
       "  <th>specialization_Management Specializations</th> <td>    0.2593</td> <td>    0.080</td> <td>    3.244</td> <td> 0.001</td> <td>    0.103</td> <td>    0.416</td>\n",
       "</tr>\n",
       "<tr>\n",
       "  <th>occupation_Unemployed</th>                     <td>    1.1944</td> <td>    0.077</td> <td>   15.543</td> <td> 0.000</td> <td>    1.044</td> <td>    1.345</td>\n",
       "</tr>\n",
       "<tr>\n",
       "  <th>occupation_Working Professional</th>           <td>    3.6042</td> <td>    0.190</td> <td>   18.997</td> <td> 0.000</td> <td>    3.232</td> <td>    3.976</td>\n",
       "</tr>\n",
       "<tr>\n",
       "  <th>city_Non-Maharashtra Cities</th>               <td>    0.0791</td> <td>    0.101</td> <td>    0.780</td> <td> 0.435</td> <td>   -0.120</td> <td>    0.278</td>\n",
       "</tr>\n",
       "<tr>\n",
       "  <th>city_Non-Mumbai Maharashtra Cities</th>        <td>    0.0333</td> <td>    0.099</td> <td>    0.335</td> <td> 0.737</td> <td>   -0.161</td> <td>    0.228</td>\n",
       "</tr>\n",
       "</table>"
      ],
      "text/plain": [
       "<class 'statsmodels.iolib.summary.Summary'>\n",
       "\"\"\"\n",
       "                 Generalized Linear Model Regression Results                  \n",
       "==============================================================================\n",
       "Dep. Variable:              converted   No. Observations:                 6468\n",
       "Model:                            GLM   Df Residuals:                     6453\n",
       "Model Family:                Binomial   Df Model:                           14\n",
       "Link Function:                  logit   Scale:                          1.0000\n",
       "Method:                          IRLS   Log-Likelihood:                -3015.9\n",
       "Date:                Sat, 12 Mar 2022   Deviance:                       6031.9\n",
       "Time:                        12:20:27   Pearson chi2:                 7.38e+03\n",
       "No. Iterations:                     6                                         \n",
       "Covariance Type:            nonrobust                                         \n",
       "=============================================================================================================\n",
       "                                                coef    std err          z      P>|z|      [0.025      0.975]\n",
       "-------------------------------------------------------------------------------------------------------------\n",
       "const                                        -3.5748      0.878     -4.073      0.000      -5.295      -1.855\n",
       "lead_number                                9.544e-07   1.42e-06      0.672      0.501   -1.83e-06    3.74e-06\n",
       "do_not_email                                 -1.1416      0.151     -7.575      0.000      -1.437      -0.846\n",
       "time_on_website                               4.2702      0.155     27.503      0.000       3.966       4.575\n",
       "page_views_per_visit                         -0.6278      0.195     -3.221      0.001      -1.010      -0.246\n",
       "lead_source_Google                            0.3762      0.078      4.800      0.000       0.223       0.530\n",
       "lead_source_Olark Chat                        1.0140      0.122      8.343      0.000       0.776       1.252\n",
       "lead_source_Other Social Sites                1.7105      0.166     10.303      0.000       1.385       2.036\n",
       "lead_source_Reference                         3.5387      0.211     16.753      0.000       3.125       3.953\n",
       "specialization_Industry Specializations       0.4627      0.123      3.747      0.000       0.221       0.705\n",
       "specialization_Management Specializations     0.2593      0.080      3.244      0.001       0.103       0.416\n",
       "occupation_Unemployed                         1.1944      0.077     15.543      0.000       1.044       1.345\n",
       "occupation_Working Professional               3.6042      0.190     18.997      0.000       3.232       3.976\n",
       "city_Non-Maharashtra Cities                   0.0791      0.101      0.780      0.435      -0.120       0.278\n",
       "city_Non-Mumbai Maharashtra Cities            0.0333      0.099      0.335      0.737      -0.161       0.228\n",
       "=============================================================================================================\n",
       "\"\"\""
      ]
     },
     "execution_count": 113,
     "metadata": {},
     "output_type": "execute_result"
    }
   ],
   "source": [
    "#X_train\n",
    "logm1 = sm.GLM(y_train, (sm.add_constant(X_train.astype(float))), family = sm.families.Binomial())\n",
    "logm1.fit().summary()"
   ]
  },
  {
   "cell_type": "markdown",
   "metadata": {},
   "source": [
    "### Feature selection using RFE"
   ]
  },
  {
   "cell_type": "code",
   "execution_count": 114,
   "metadata": {},
   "outputs": [],
   "source": [
    "logreg = LogisticRegression()\n",
    "rfe = RFE(logreg,12)\n",
    "rfe = rfe.fit(X_train,y_train)"
   ]
  },
  {
   "cell_type": "code",
   "execution_count": 115,
   "metadata": {},
   "outputs": [
    {
     "data": {
      "text/plain": [
       "array([ True,  True,  True,  True, False,  True,  True,  True, False,\n",
       "        True,  True,  True,  True,  True])"
      ]
     },
     "execution_count": 115,
     "metadata": {},
     "output_type": "execute_result"
    }
   ],
   "source": [
    "rfe.support_"
   ]
  },
  {
   "cell_type": "code",
   "execution_count": 116,
   "metadata": {},
   "outputs": [
    {
     "data": {
      "text/plain": [
       "[('lead_number', True, 1),\n",
       " ('do_not_email', True, 1),\n",
       " ('time_on_website', True, 1),\n",
       " ('page_views_per_visit', True, 1),\n",
       " ('lead_source_Google', False, 3),\n",
       " ('lead_source_Olark Chat', True, 1),\n",
       " ('lead_source_Other Social Sites', True, 1),\n",
       " ('lead_source_Reference', True, 1),\n",
       " ('specialization_Industry Specializations', False, 2),\n",
       " ('specialization_Management Specializations', True, 1),\n",
       " ('occupation_Unemployed', True, 1),\n",
       " ('occupation_Working Professional', True, 1),\n",
       " ('city_Non-Maharashtra Cities', True, 1),\n",
       " ('city_Non-Mumbai Maharashtra Cities', True, 1)]"
      ]
     },
     "execution_count": 116,
     "metadata": {},
     "output_type": "execute_result"
    }
   ],
   "source": [
    "list(zip(X_train.columns, rfe.support_, rfe.ranking_))"
   ]
  },
  {
   "cell_type": "code",
   "execution_count": 117,
   "metadata": {},
   "outputs": [],
   "source": [
    "col = X_train.columns[rfe.support_]"
   ]
  },
  {
   "cell_type": "code",
   "execution_count": 118,
   "metadata": {},
   "outputs": [
    {
     "data": {
      "text/plain": [
       "Index(['lead_source_Google', 'specialization_Industry Specializations'], dtype='object')"
      ]
     },
     "execution_count": 118,
     "metadata": {},
     "output_type": "execute_result"
    }
   ],
   "source": [
    "X_train.columns[~rfe.support_]"
   ]
  },
  {
   "cell_type": "markdown",
   "metadata": {},
   "source": [
    "### Assessing the model "
   ]
  },
  {
   "cell_type": "code",
   "execution_count": 122,
   "metadata": {},
   "outputs": [
    {
     "data": {
      "text/html": [
       "<table class=\"simpletable\">\n",
       "<caption>Generalized Linear Model Regression Results</caption>\n",
       "<tr>\n",
       "  <th>Dep. Variable:</th>       <td>converted</td>    <th>  No. Observations:  </th>  <td>  6468</td> \n",
       "</tr>\n",
       "<tr>\n",
       "  <th>Model:</th>                  <td>GLM</td>       <th>  Df Residuals:      </th>  <td>  6455</td> \n",
       "</tr>\n",
       "<tr>\n",
       "  <th>Model Family:</th>        <td>Binomial</td>     <th>  Df Model:          </th>  <td>    12</td> \n",
       "</tr>\n",
       "<tr>\n",
       "  <th>Link Function:</th>         <td>logit</td>      <th>  Scale:             </th> <td>  1.0000</td>\n",
       "</tr>\n",
       "<tr>\n",
       "  <th>Method:</th>                <td>IRLS</td>       <th>  Log-Likelihood:    </th> <td> -3032.8</td>\n",
       "</tr>\n",
       "<tr>\n",
       "  <th>Date:</th>            <td>Sat, 12 Mar 2022</td> <th>  Deviance:          </th> <td>  6065.5</td>\n",
       "</tr>\n",
       "<tr>\n",
       "  <th>Time:</th>                <td>17:22:30</td>     <th>  Pearson chi2:      </th> <td>7.34e+03</td>\n",
       "</tr>\n",
       "<tr>\n",
       "  <th>No. Iterations:</th>          <td>6</td>        <th>                     </th>     <td> </td>   \n",
       "</tr>\n",
       "<tr>\n",
       "  <th>Covariance Type:</th>     <td>nonrobust</td>    <th>                     </th>     <td> </td>   \n",
       "</tr>\n",
       "</table>\n",
       "<table class=\"simpletable\">\n",
       "<tr>\n",
       "                      <td></td>                         <th>coef</th>     <th>std err</th>      <th>z</th>      <th>P>|z|</th>  <th>[0.025</th>    <th>0.975]</th>  \n",
       "</tr>\n",
       "<tr>\n",
       "  <th>const</th>                                     <td>   -3.8070</td> <td>    0.870</td> <td>   -4.376</td> <td> 0.000</td> <td>   -5.512</td> <td>   -2.102</td>\n",
       "</tr>\n",
       "<tr>\n",
       "  <th>lead_number</th>                               <td> 1.772e-06</td> <td>  1.4e-06</td> <td>    1.267</td> <td> 0.205</td> <td> -9.7e-07</td> <td> 4.51e-06</td>\n",
       "</tr>\n",
       "<tr>\n",
       "  <th>do_not_email</th>                              <td>   -1.1534</td> <td>    0.150</td> <td>   -7.693</td> <td> 0.000</td> <td>   -1.447</td> <td>   -0.860</td>\n",
       "</tr>\n",
       "<tr>\n",
       "  <th>time_on_website</th>                           <td>    4.2905</td> <td>    0.155</td> <td>   27.727</td> <td> 0.000</td> <td>    3.987</td> <td>    4.594</td>\n",
       "</tr>\n",
       "<tr>\n",
       "  <th>page_views_per_visit</th>                      <td>   -0.5505</td> <td>    0.191</td> <td>   -2.889</td> <td> 0.004</td> <td>   -0.924</td> <td>   -0.177</td>\n",
       "</tr>\n",
       "<tr>\n",
       "  <th>lead_source_Olark Chat</th>                    <td>    0.7619</td> <td>    0.112</td> <td>    6.833</td> <td> 0.000</td> <td>    0.543</td> <td>    0.980</td>\n",
       "</tr>\n",
       "<tr>\n",
       "  <th>lead_source_Other Social Sites</th>            <td>    1.4332</td> <td>    0.158</td> <td>    9.094</td> <td> 0.000</td> <td>    1.124</td> <td>    1.742</td>\n",
       "</tr>\n",
       "<tr>\n",
       "  <th>lead_source_Reference</th>                     <td>    3.3389</td> <td>    0.207</td> <td>   16.162</td> <td> 0.000</td> <td>    2.934</td> <td>    3.744</td>\n",
       "</tr>\n",
       "<tr>\n",
       "  <th>specialization_Management Specializations</th> <td>    0.1161</td> <td>    0.071</td> <td>    1.626</td> <td> 0.104</td> <td>   -0.024</td> <td>    0.256</td>\n",
       "</tr>\n",
       "<tr>\n",
       "  <th>occupation_Unemployed</th>                     <td>    1.2076</td> <td>    0.077</td> <td>   15.743</td> <td> 0.000</td> <td>    1.057</td> <td>    1.358</td>\n",
       "</tr>\n",
       "<tr>\n",
       "  <th>occupation_Working Professional</th>           <td>    3.6437</td> <td>    0.189</td> <td>   19.242</td> <td> 0.000</td> <td>    3.273</td> <td>    4.015</td>\n",
       "</tr>\n",
       "<tr>\n",
       "  <th>city_Non-Maharashtra Cities</th>               <td>    0.0388</td> <td>    0.098</td> <td>    0.395</td> <td> 0.693</td> <td>   -0.154</td> <td>    0.231</td>\n",
       "</tr>\n",
       "<tr>\n",
       "  <th>city_Non-Mumbai Maharashtra Cities</th>        <td>    0.0588</td> <td>    0.098</td> <td>    0.599</td> <td> 0.549</td> <td>   -0.134</td> <td>    0.251</td>\n",
       "</tr>\n",
       "</table>"
      ],
      "text/plain": [
       "<class 'statsmodels.iolib.summary.Summary'>\n",
       "\"\"\"\n",
       "                 Generalized Linear Model Regression Results                  \n",
       "==============================================================================\n",
       "Dep. Variable:              converted   No. Observations:                 6468\n",
       "Model:                            GLM   Df Residuals:                     6455\n",
       "Model Family:                Binomial   Df Model:                           12\n",
       "Link Function:                  logit   Scale:                          1.0000\n",
       "Method:                          IRLS   Log-Likelihood:                -3032.8\n",
       "Date:                Sat, 12 Mar 2022   Deviance:                       6065.5\n",
       "Time:                        17:22:30   Pearson chi2:                 7.34e+03\n",
       "No. Iterations:                     6                                         \n",
       "Covariance Type:            nonrobust                                         \n",
       "=============================================================================================================\n",
       "                                                coef    std err          z      P>|z|      [0.025      0.975]\n",
       "-------------------------------------------------------------------------------------------------------------\n",
       "const                                        -3.8070      0.870     -4.376      0.000      -5.512      -2.102\n",
       "lead_number                                1.772e-06    1.4e-06      1.267      0.205    -9.7e-07    4.51e-06\n",
       "do_not_email                                 -1.1534      0.150     -7.693      0.000      -1.447      -0.860\n",
       "time_on_website                               4.2905      0.155     27.727      0.000       3.987       4.594\n",
       "page_views_per_visit                         -0.5505      0.191     -2.889      0.004      -0.924      -0.177\n",
       "lead_source_Olark Chat                        0.7619      0.112      6.833      0.000       0.543       0.980\n",
       "lead_source_Other Social Sites                1.4332      0.158      9.094      0.000       1.124       1.742\n",
       "lead_source_Reference                         3.3389      0.207     16.162      0.000       2.934       3.744\n",
       "specialization_Management Specializations     0.1161      0.071      1.626      0.104      -0.024       0.256\n",
       "occupation_Unemployed                         1.2076      0.077     15.743      0.000       1.057       1.358\n",
       "occupation_Working Professional               3.6437      0.189     19.242      0.000       3.273       4.015\n",
       "city_Non-Maharashtra Cities                   0.0388      0.098      0.395      0.693      -0.154       0.231\n",
       "city_Non-Mumbai Maharashtra Cities            0.0588      0.098      0.599      0.549      -0.134       0.251\n",
       "=============================================================================================================\n",
       "\"\"\""
      ]
     },
     "execution_count": 122,
     "metadata": {},
     "output_type": "execute_result"
    }
   ],
   "source": [
    "X_train_sm = sm.add_constant(X_train[col].astype(float))\n",
    "\n",
    "logm2 = sm.GLM(y_train,X_train_sm, family = sm.families.Binomial())\n",
    "logm2.fit().summary()"
   ]
  },
  {
   "cell_type": "code",
   "execution_count": 123,
   "metadata": {},
   "outputs": [],
   "source": [
    "# drop the column with highest p value\n",
    "col = col.drop('city_Non-Mumbai Maharashtra Cities')"
   ]
  },
  {
   "cell_type": "code",
   "execution_count": 125,
   "metadata": {},
   "outputs": [
    {
     "data": {
      "text/html": [
       "<table class=\"simpletable\">\n",
       "<caption>Generalized Linear Model Regression Results</caption>\n",
       "<tr>\n",
       "  <th>Dep. Variable:</th>       <td>converted</td>    <th>  No. Observations:  </th>  <td>  6468</td> \n",
       "</tr>\n",
       "<tr>\n",
       "  <th>Model:</th>                  <td>GLM</td>       <th>  Df Residuals:      </th>  <td>  6456</td> \n",
       "</tr>\n",
       "<tr>\n",
       "  <th>Model Family:</th>        <td>Binomial</td>     <th>  Df Model:          </th>  <td>    11</td> \n",
       "</tr>\n",
       "<tr>\n",
       "  <th>Link Function:</th>         <td>logit</td>      <th>  Scale:             </th> <td>  1.0000</td>\n",
       "</tr>\n",
       "<tr>\n",
       "  <th>Method:</th>                <td>IRLS</td>       <th>  Log-Likelihood:    </th> <td> -3032.9</td>\n",
       "</tr>\n",
       "<tr>\n",
       "  <th>Date:</th>            <td>Sat, 12 Mar 2022</td> <th>  Deviance:          </th> <td>  6065.9</td>\n",
       "</tr>\n",
       "<tr>\n",
       "  <th>Time:</th>                <td>17:23:11</td>     <th>  Pearson chi2:      </th> <td>7.34e+03</td>\n",
       "</tr>\n",
       "<tr>\n",
       "  <th>No. Iterations:</th>          <td>6</td>        <th>                     </th>     <td> </td>   \n",
       "</tr>\n",
       "<tr>\n",
       "  <th>Covariance Type:</th>     <td>nonrobust</td>    <th>                     </th>     <td> </td>   \n",
       "</tr>\n",
       "</table>\n",
       "<table class=\"simpletable\">\n",
       "<tr>\n",
       "                      <td></td>                         <th>coef</th>     <th>std err</th>      <th>z</th>      <th>P>|z|</th>  <th>[0.025</th>    <th>0.975]</th>  \n",
       "</tr>\n",
       "<tr>\n",
       "  <th>const</th>                                     <td>   -3.8094</td> <td>    0.870</td> <td>   -4.379</td> <td> 0.000</td> <td>   -5.514</td> <td>   -2.104</td>\n",
       "</tr>\n",
       "<tr>\n",
       "  <th>lead_number</th>                               <td> 1.782e-06</td> <td>  1.4e-06</td> <td>    1.274</td> <td> 0.203</td> <td> -9.6e-07</td> <td> 4.52e-06</td>\n",
       "</tr>\n",
       "<tr>\n",
       "  <th>do_not_email</th>                              <td>   -1.1530</td> <td>    0.150</td> <td>   -7.690</td> <td> 0.000</td> <td>   -1.447</td> <td>   -0.859</td>\n",
       "</tr>\n",
       "<tr>\n",
       "  <th>time_on_website</th>                           <td>    4.2934</td> <td>    0.155</td> <td>   27.758</td> <td> 0.000</td> <td>    3.990</td> <td>    4.597</td>\n",
       "</tr>\n",
       "<tr>\n",
       "  <th>page_views_per_visit</th>                      <td>   -0.5450</td> <td>    0.190</td> <td>   -2.864</td> <td> 0.004</td> <td>   -0.918</td> <td>   -0.172</td>\n",
       "</tr>\n",
       "<tr>\n",
       "  <th>lead_source_Olark Chat</th>                    <td>    0.7593</td> <td>    0.111</td> <td>    6.816</td> <td> 0.000</td> <td>    0.541</td> <td>    0.978</td>\n",
       "</tr>\n",
       "<tr>\n",
       "  <th>lead_source_Other Social Sites</th>            <td>    1.4339</td> <td>    0.158</td> <td>    9.098</td> <td> 0.000</td> <td>    1.125</td> <td>    1.743</td>\n",
       "</tr>\n",
       "<tr>\n",
       "  <th>lead_source_Reference</th>                     <td>    3.3388</td> <td>    0.207</td> <td>   16.161</td> <td> 0.000</td> <td>    2.934</td> <td>    3.744</td>\n",
       "</tr>\n",
       "<tr>\n",
       "  <th>specialization_Management Specializations</th> <td>    0.1230</td> <td>    0.070</td> <td>    1.747</td> <td> 0.081</td> <td>   -0.015</td> <td>    0.261</td>\n",
       "</tr>\n",
       "<tr>\n",
       "  <th>occupation_Unemployed</th>                     <td>    1.2087</td> <td>    0.077</td> <td>   15.760</td> <td> 0.000</td> <td>    1.058</td> <td>    1.359</td>\n",
       "</tr>\n",
       "<tr>\n",
       "  <th>occupation_Working Professional</th>           <td>    3.6448</td> <td>    0.189</td> <td>   19.248</td> <td> 0.000</td> <td>    3.274</td> <td>    4.016</td>\n",
       "</tr>\n",
       "<tr>\n",
       "  <th>city_Non-Maharashtra Cities</th>               <td>    0.0271</td> <td>    0.096</td> <td>    0.282</td> <td> 0.778</td> <td>   -0.162</td> <td>    0.216</td>\n",
       "</tr>\n",
       "</table>"
      ],
      "text/plain": [
       "<class 'statsmodels.iolib.summary.Summary'>\n",
       "\"\"\"\n",
       "                 Generalized Linear Model Regression Results                  \n",
       "==============================================================================\n",
       "Dep. Variable:              converted   No. Observations:                 6468\n",
       "Model:                            GLM   Df Residuals:                     6456\n",
       "Model Family:                Binomial   Df Model:                           11\n",
       "Link Function:                  logit   Scale:                          1.0000\n",
       "Method:                          IRLS   Log-Likelihood:                -3032.9\n",
       "Date:                Sat, 12 Mar 2022   Deviance:                       6065.9\n",
       "Time:                        17:23:11   Pearson chi2:                 7.34e+03\n",
       "No. Iterations:                     6                                         \n",
       "Covariance Type:            nonrobust                                         \n",
       "=============================================================================================================\n",
       "                                                coef    std err          z      P>|z|      [0.025      0.975]\n",
       "-------------------------------------------------------------------------------------------------------------\n",
       "const                                        -3.8094      0.870     -4.379      0.000      -5.514      -2.104\n",
       "lead_number                                1.782e-06    1.4e-06      1.274      0.203    -9.6e-07    4.52e-06\n",
       "do_not_email                                 -1.1530      0.150     -7.690      0.000      -1.447      -0.859\n",
       "time_on_website                               4.2934      0.155     27.758      0.000       3.990       4.597\n",
       "page_views_per_visit                         -0.5450      0.190     -2.864      0.004      -0.918      -0.172\n",
       "lead_source_Olark Chat                        0.7593      0.111      6.816      0.000       0.541       0.978\n",
       "lead_source_Other Social Sites                1.4339      0.158      9.098      0.000       1.125       1.743\n",
       "lead_source_Reference                         3.3388      0.207     16.161      0.000       2.934       3.744\n",
       "specialization_Management Specializations     0.1230      0.070      1.747      0.081      -0.015       0.261\n",
       "occupation_Unemployed                         1.2087      0.077     15.760      0.000       1.058       1.359\n",
       "occupation_Working Professional               3.6448      0.189     19.248      0.000       3.274       4.016\n",
       "city_Non-Maharashtra Cities                   0.0271      0.096      0.282      0.778      -0.162       0.216\n",
       "=============================================================================================================\n",
       "\"\"\""
      ]
     },
     "execution_count": 125,
     "metadata": {},
     "output_type": "execute_result"
    }
   ],
   "source": [
    "X_train_sm = sm.add_constant(X_train[col].astype(float))\n",
    "\n",
    "logm3 = sm.GLM(y_train, X_train_sm, family = sm.families.Binomial())\n",
    "logm3.fit().summary()"
   ]
  },
  {
   "cell_type": "code",
   "execution_count": 126,
   "metadata": {},
   "outputs": [],
   "source": [
    "col = col.drop('specialization_Management Specializations')\n",
    "col = col.drop('city_Non-Maharashtra Cities')"
   ]
  },
  {
   "cell_type": "code",
   "execution_count": 128,
   "metadata": {},
   "outputs": [
    {
     "data": {
      "text/html": [
       "<table class=\"simpletable\">\n",
       "<caption>Generalized Linear Model Regression Results</caption>\n",
       "<tr>\n",
       "  <th>Dep. Variable:</th>       <td>converted</td>    <th>  No. Observations:  </th>  <td>  6468</td> \n",
       "</tr>\n",
       "<tr>\n",
       "  <th>Model:</th>                  <td>GLM</td>       <th>  Df Residuals:      </th>  <td>  6458</td> \n",
       "</tr>\n",
       "<tr>\n",
       "  <th>Model Family:</th>        <td>Binomial</td>     <th>  Df Model:          </th>  <td>     9</td> \n",
       "</tr>\n",
       "<tr>\n",
       "  <th>Link Function:</th>         <td>logit</td>      <th>  Scale:             </th> <td>  1.0000</td>\n",
       "</tr>\n",
       "<tr>\n",
       "  <th>Method:</th>                <td>IRLS</td>       <th>  Log-Likelihood:    </th> <td> -3034.6</td>\n",
       "</tr>\n",
       "<tr>\n",
       "  <th>Date:</th>            <td>Sat, 12 Mar 2022</td> <th>  Deviance:          </th> <td>  6069.1</td>\n",
       "</tr>\n",
       "<tr>\n",
       "  <th>Time:</th>                <td>17:24:39</td>     <th>  Pearson chi2:      </th> <td>7.31e+03</td>\n",
       "</tr>\n",
       "<tr>\n",
       "  <th>No. Iterations:</th>          <td>6</td>        <th>                     </th>     <td> </td>   \n",
       "</tr>\n",
       "<tr>\n",
       "  <th>Covariance Type:</th>     <td>nonrobust</td>    <th>                     </th>     <td> </td>   \n",
       "</tr>\n",
       "</table>\n",
       "<table class=\"simpletable\">\n",
       "<tr>\n",
       "                 <td></td>                    <th>coef</th>     <th>std err</th>      <th>z</th>      <th>P>|z|</th>  <th>[0.025</th>    <th>0.975]</th>  \n",
       "</tr>\n",
       "<tr>\n",
       "  <th>const</th>                           <td>   -3.6886</td> <td>    0.867</td> <td>   -4.256</td> <td> 0.000</td> <td>   -5.387</td> <td>   -1.990</td>\n",
       "</tr>\n",
       "<tr>\n",
       "  <th>lead_number</th>                     <td> 1.668e-06</td> <td>  1.4e-06</td> <td>    1.194</td> <td> 0.232</td> <td>-1.07e-06</td> <td>  4.4e-06</td>\n",
       "</tr>\n",
       "<tr>\n",
       "  <th>do_not_email</th>                    <td>   -1.1544</td> <td>    0.150</td> <td>   -7.700</td> <td> 0.000</td> <td>   -1.448</td> <td>   -0.861</td>\n",
       "</tr>\n",
       "<tr>\n",
       "  <th>time_on_website</th>                 <td>    4.3108</td> <td>    0.154</td> <td>   27.905</td> <td> 0.000</td> <td>    4.008</td> <td>    4.614</td>\n",
       "</tr>\n",
       "<tr>\n",
       "  <th>page_views_per_visit</th>            <td>   -0.5147</td> <td>    0.189</td> <td>   -2.720</td> <td> 0.007</td> <td>   -0.886</td> <td>   -0.144</td>\n",
       "</tr>\n",
       "<tr>\n",
       "  <th>lead_source_Olark Chat</th>          <td>    0.7164</td> <td>    0.109</td> <td>    6.601</td> <td> 0.000</td> <td>    0.504</td> <td>    0.929</td>\n",
       "</tr>\n",
       "<tr>\n",
       "  <th>lead_source_Other Social Sites</th>  <td>    1.3923</td> <td>    0.156</td> <td>    8.946</td> <td> 0.000</td> <td>    1.087</td> <td>    1.697</td>\n",
       "</tr>\n",
       "<tr>\n",
       "  <th>lead_source_Reference</th>           <td>    3.3412</td> <td>    0.206</td> <td>   16.188</td> <td> 0.000</td> <td>    2.937</td> <td>    3.746</td>\n",
       "</tr>\n",
       "<tr>\n",
       "  <th>occupation_Unemployed</th>           <td>    1.2179</td> <td>    0.076</td> <td>   15.923</td> <td> 0.000</td> <td>    1.068</td> <td>    1.368</td>\n",
       "</tr>\n",
       "<tr>\n",
       "  <th>occupation_Working Professional</th> <td>    3.6845</td> <td>    0.188</td> <td>   19.577</td> <td> 0.000</td> <td>    3.316</td> <td>    4.053</td>\n",
       "</tr>\n",
       "</table>"
      ],
      "text/plain": [
       "<class 'statsmodels.iolib.summary.Summary'>\n",
       "\"\"\"\n",
       "                 Generalized Linear Model Regression Results                  \n",
       "==============================================================================\n",
       "Dep. Variable:              converted   No. Observations:                 6468\n",
       "Model:                            GLM   Df Residuals:                     6458\n",
       "Model Family:                Binomial   Df Model:                            9\n",
       "Link Function:                  logit   Scale:                          1.0000\n",
       "Method:                          IRLS   Log-Likelihood:                -3034.6\n",
       "Date:                Sat, 12 Mar 2022   Deviance:                       6069.1\n",
       "Time:                        17:24:39   Pearson chi2:                 7.31e+03\n",
       "No. Iterations:                     6                                         \n",
       "Covariance Type:            nonrobust                                         \n",
       "===================================================================================================\n",
       "                                      coef    std err          z      P>|z|      [0.025      0.975]\n",
       "---------------------------------------------------------------------------------------------------\n",
       "const                              -3.6886      0.867     -4.256      0.000      -5.387      -1.990\n",
       "lead_number                      1.668e-06    1.4e-06      1.194      0.232   -1.07e-06     4.4e-06\n",
       "do_not_email                       -1.1544      0.150     -7.700      0.000      -1.448      -0.861\n",
       "time_on_website                     4.3108      0.154     27.905      0.000       4.008       4.614\n",
       "page_views_per_visit               -0.5147      0.189     -2.720      0.007      -0.886      -0.144\n",
       "lead_source_Olark Chat              0.7164      0.109      6.601      0.000       0.504       0.929\n",
       "lead_source_Other Social Sites      1.3923      0.156      8.946      0.000       1.087       1.697\n",
       "lead_source_Reference               3.3412      0.206     16.188      0.000       2.937       3.746\n",
       "occupation_Unemployed               1.2179      0.076     15.923      0.000       1.068       1.368\n",
       "occupation_Working Professional     3.6845      0.188     19.577      0.000       3.316       4.053\n",
       "===================================================================================================\n",
       "\"\"\""
      ]
     },
     "execution_count": 128,
     "metadata": {},
     "output_type": "execute_result"
    }
   ],
   "source": [
    "X_train_sm = sm.add_constant(X_train[col].astype(float))\n",
    "\n",
    "logm4 = sm.GLM(y_train, X_train_sm, family = sm.families.Binomial())\n",
    "logm4.fit().summary()"
   ]
  },
  {
   "cell_type": "markdown",
   "metadata": {},
   "source": [
    "p-values are all below 0.05"
   ]
  },
  {
   "cell_type": "code",
   "execution_count": 132,
   "metadata": {},
   "outputs": [
    {
     "data": {
      "text/html": [
       "<div>\n",
       "<style scoped>\n",
       "    .dataframe tbody tr th:only-of-type {\n",
       "        vertical-align: middle;\n",
       "    }\n",
       "\n",
       "    .dataframe tbody tr th {\n",
       "        vertical-align: top;\n",
       "    }\n",
       "\n",
       "    .dataframe thead th {\n",
       "        text-align: right;\n",
       "    }\n",
       "</style>\n",
       "<table border=\"1\" class=\"dataframe\">\n",
       "  <thead>\n",
       "    <tr style=\"text-align: right;\">\n",
       "      <th></th>\n",
       "      <th>Features</th>\n",
       "      <th>VIF</th>\n",
       "    </tr>\n",
       "  </thead>\n",
       "  <tbody>\n",
       "    <tr>\n",
       "      <th>0</th>\n",
       "      <td>lead_number</td>\n",
       "      <td>8.82</td>\n",
       "    </tr>\n",
       "    <tr>\n",
       "      <th>3</th>\n",
       "      <td>page_views_per_visit</td>\n",
       "      <td>3.99</td>\n",
       "    </tr>\n",
       "    <tr>\n",
       "      <th>7</th>\n",
       "      <td>occupation_Unemployed</td>\n",
       "      <td>3.06</td>\n",
       "    </tr>\n",
       "    <tr>\n",
       "      <th>2</th>\n",
       "      <td>time_on_website</td>\n",
       "      <td>2.23</td>\n",
       "    </tr>\n",
       "    <tr>\n",
       "      <th>4</th>\n",
       "      <td>lead_source_Olark Chat</td>\n",
       "      <td>2.14</td>\n",
       "    </tr>\n",
       "    <tr>\n",
       "      <th>8</th>\n",
       "      <td>occupation_Working Professional</td>\n",
       "      <td>1.39</td>\n",
       "    </tr>\n",
       "    <tr>\n",
       "      <th>6</th>\n",
       "      <td>lead_source_Reference</td>\n",
       "      <td>1.37</td>\n",
       "    </tr>\n",
       "    <tr>\n",
       "      <th>1</th>\n",
       "      <td>do_not_email</td>\n",
       "      <td>1.10</td>\n",
       "    </tr>\n",
       "    <tr>\n",
       "      <th>5</th>\n",
       "      <td>lead_source_Other Social Sites</td>\n",
       "      <td>1.09</td>\n",
       "    </tr>\n",
       "  </tbody>\n",
       "</table>\n",
       "</div>"
      ],
      "text/plain": [
       "                          Features  VIF\n",
       "0                      lead_number 8.82\n",
       "3             page_views_per_visit 3.99\n",
       "7            occupation_Unemployed 3.06\n",
       "2                  time_on_website 2.23\n",
       "4           lead_source_Olark Chat 2.14\n",
       "8  occupation_Working Professional 1.39\n",
       "6            lead_source_Reference 1.37\n",
       "1                     do_not_email 1.10\n",
       "5   lead_source_Other Social Sites 1.09"
      ]
     },
     "execution_count": 132,
     "metadata": {},
     "output_type": "execute_result"
    }
   ],
   "source": [
    "vif = pd.DataFrame()\n",
    "vif['Features'] = X_train[col].columns\n",
    "vif['VIF'] = [variance_inflation_factor(X_train[col].astype(float).values, i) for i in range(X_train[col].shape[1])]\n",
    "vif['VIF'] = round(vif['VIF'],2)\n",
    "\n",
    "vif = vif.sort_values(by = ['VIF'], ascending = False)\n",
    "vif"
   ]
  },
  {
   "cell_type": "markdown",
   "metadata": {},
   "source": [
    "VIF values are all below 4"
   ]
  },
  {
   "cell_type": "code",
   "execution_count": 134,
   "metadata": {},
   "outputs": [
    {
     "data": {
      "text/html": [
       "<table class=\"simpletable\">\n",
       "<caption>Generalized Linear Model Regression Results</caption>\n",
       "<tr>\n",
       "  <th>Dep. Variable:</th>       <td>converted</td>    <th>  No. Observations:  </th>  <td>  6468</td> \n",
       "</tr>\n",
       "<tr>\n",
       "  <th>Model:</th>                  <td>GLM</td>       <th>  Df Residuals:      </th>  <td>  6458</td> \n",
       "</tr>\n",
       "<tr>\n",
       "  <th>Model Family:</th>        <td>Binomial</td>     <th>  Df Model:          </th>  <td>     9</td> \n",
       "</tr>\n",
       "<tr>\n",
       "  <th>Link Function:</th>         <td>logit</td>      <th>  Scale:             </th> <td>  1.0000</td>\n",
       "</tr>\n",
       "<tr>\n",
       "  <th>Method:</th>                <td>IRLS</td>       <th>  Log-Likelihood:    </th> <td> -3034.6</td>\n",
       "</tr>\n",
       "<tr>\n",
       "  <th>Date:</th>            <td>Sat, 12 Mar 2022</td> <th>  Deviance:          </th> <td>  6069.1</td>\n",
       "</tr>\n",
       "<tr>\n",
       "  <th>Time:</th>                <td>17:27:19</td>     <th>  Pearson chi2:      </th> <td>7.31e+03</td>\n",
       "</tr>\n",
       "<tr>\n",
       "  <th>No. Iterations:</th>          <td>6</td>        <th>                     </th>     <td> </td>   \n",
       "</tr>\n",
       "<tr>\n",
       "  <th>Covariance Type:</th>     <td>nonrobust</td>    <th>                     </th>     <td> </td>   \n",
       "</tr>\n",
       "</table>\n",
       "<table class=\"simpletable\">\n",
       "<tr>\n",
       "                 <td></td>                    <th>coef</th>     <th>std err</th>      <th>z</th>      <th>P>|z|</th>  <th>[0.025</th>    <th>0.975]</th>  \n",
       "</tr>\n",
       "<tr>\n",
       "  <th>const</th>                           <td>   -3.6886</td> <td>    0.867</td> <td>   -4.256</td> <td> 0.000</td> <td>   -5.387</td> <td>   -1.990</td>\n",
       "</tr>\n",
       "<tr>\n",
       "  <th>lead_number</th>                     <td> 1.668e-06</td> <td>  1.4e-06</td> <td>    1.194</td> <td> 0.232</td> <td>-1.07e-06</td> <td>  4.4e-06</td>\n",
       "</tr>\n",
       "<tr>\n",
       "  <th>do_not_email</th>                    <td>   -1.1544</td> <td>    0.150</td> <td>   -7.700</td> <td> 0.000</td> <td>   -1.448</td> <td>   -0.861</td>\n",
       "</tr>\n",
       "<tr>\n",
       "  <th>time_on_website</th>                 <td>    4.3108</td> <td>    0.154</td> <td>   27.905</td> <td> 0.000</td> <td>    4.008</td> <td>    4.614</td>\n",
       "</tr>\n",
       "<tr>\n",
       "  <th>page_views_per_visit</th>            <td>   -0.5147</td> <td>    0.189</td> <td>   -2.720</td> <td> 0.007</td> <td>   -0.886</td> <td>   -0.144</td>\n",
       "</tr>\n",
       "<tr>\n",
       "  <th>lead_source_Olark Chat</th>          <td>    0.7164</td> <td>    0.109</td> <td>    6.601</td> <td> 0.000</td> <td>    0.504</td> <td>    0.929</td>\n",
       "</tr>\n",
       "<tr>\n",
       "  <th>lead_source_Other Social Sites</th>  <td>    1.3923</td> <td>    0.156</td> <td>    8.946</td> <td> 0.000</td> <td>    1.087</td> <td>    1.697</td>\n",
       "</tr>\n",
       "<tr>\n",
       "  <th>lead_source_Reference</th>           <td>    3.3412</td> <td>    0.206</td> <td>   16.188</td> <td> 0.000</td> <td>    2.937</td> <td>    3.746</td>\n",
       "</tr>\n",
       "<tr>\n",
       "  <th>occupation_Unemployed</th>           <td>    1.2179</td> <td>    0.076</td> <td>   15.923</td> <td> 0.000</td> <td>    1.068</td> <td>    1.368</td>\n",
       "</tr>\n",
       "<tr>\n",
       "  <th>occupation_Working Professional</th> <td>    3.6845</td> <td>    0.188</td> <td>   19.577</td> <td> 0.000</td> <td>    3.316</td> <td>    4.053</td>\n",
       "</tr>\n",
       "</table>"
      ],
      "text/plain": [
       "<class 'statsmodels.iolib.summary.Summary'>\n",
       "\"\"\"\n",
       "                 Generalized Linear Model Regression Results                  \n",
       "==============================================================================\n",
       "Dep. Variable:              converted   No. Observations:                 6468\n",
       "Model:                            GLM   Df Residuals:                     6458\n",
       "Model Family:                Binomial   Df Model:                            9\n",
       "Link Function:                  logit   Scale:                          1.0000\n",
       "Method:                          IRLS   Log-Likelihood:                -3034.6\n",
       "Date:                Sat, 12 Mar 2022   Deviance:                       6069.1\n",
       "Time:                        17:27:19   Pearson chi2:                 7.31e+03\n",
       "No. Iterations:                     6                                         \n",
       "Covariance Type:            nonrobust                                         \n",
       "===================================================================================================\n",
       "                                      coef    std err          z      P>|z|      [0.025      0.975]\n",
       "---------------------------------------------------------------------------------------------------\n",
       "const                              -3.6886      0.867     -4.256      0.000      -5.387      -1.990\n",
       "lead_number                      1.668e-06    1.4e-06      1.194      0.232   -1.07e-06     4.4e-06\n",
       "do_not_email                       -1.1544      0.150     -7.700      0.000      -1.448      -0.861\n",
       "time_on_website                     4.3108      0.154     27.905      0.000       4.008       4.614\n",
       "page_views_per_visit               -0.5147      0.189     -2.720      0.007      -0.886      -0.144\n",
       "lead_source_Olark Chat              0.7164      0.109      6.601      0.000       0.504       0.929\n",
       "lead_source_Other Social Sites      1.3923      0.156      8.946      0.000       1.087       1.697\n",
       "lead_source_Reference               3.3412      0.206     16.188      0.000       2.937       3.746\n",
       "occupation_Unemployed               1.2179      0.076     15.923      0.000       1.068       1.368\n",
       "occupation_Working Professional     3.6845      0.188     19.577      0.000       3.316       4.053\n",
       "===================================================================================================\n",
       "\"\"\""
      ]
     },
     "execution_count": 134,
     "metadata": {},
     "output_type": "execute_result"
    }
   ],
   "source": [
    "X_train_sm = sm.add_constant(X_train[col].astype(float))\n",
    "res = sm.GLM(y_train, X_train_sm, family = sm.families.Binomial()).fit()\n",
    "res.summary()"
   ]
  },
  {
   "cell_type": "code",
   "execution_count": 135,
   "metadata": {},
   "outputs": [
    {
     "data": {
      "text/plain": [
       "1871   0.34\n",
       "6795   0.35\n",
       "3516   0.34\n",
       "8105   0.64\n",
       "3934   0.33\n",
       "4844   0.98\n",
       "3297   0.19\n",
       "8071   0.99\n",
       "987    0.57\n",
       "7423   0.80\n",
       "dtype: float64"
      ]
     },
     "execution_count": 135,
     "metadata": {},
     "output_type": "execute_result"
    }
   ],
   "source": [
    "y_train_pred = res.predict(X_train_sm)\n",
    "y_train_pred[:10]"
   ]
  },
  {
   "cell_type": "code",
   "execution_count": 136,
   "metadata": {},
   "outputs": [
    {
     "data": {
      "text/plain": [
       "array([0.33524437, 0.3484323 , 0.34282535, 0.63590644, 0.32820348,\n",
       "       0.97712518, 0.18824711, 0.99223537, 0.56862178, 0.80176921])"
      ]
     },
     "execution_count": 136,
     "metadata": {},
     "output_type": "execute_result"
    }
   ],
   "source": [
    "y_train_pred = y_train_pred.values.reshape(-1)\n",
    "y_train_pred[:10]"
   ]
  },
  {
   "cell_type": "code",
   "execution_count": 137,
   "metadata": {},
   "outputs": [
    {
     "data": {
      "text/html": [
       "<div>\n",
       "<style scoped>\n",
       "    .dataframe tbody tr th:only-of-type {\n",
       "        vertical-align: middle;\n",
       "    }\n",
       "\n",
       "    .dataframe tbody tr th {\n",
       "        vertical-align: top;\n",
       "    }\n",
       "\n",
       "    .dataframe thead th {\n",
       "        text-align: right;\n",
       "    }\n",
       "</style>\n",
       "<table border=\"1\" class=\"dataframe\">\n",
       "  <thead>\n",
       "    <tr style=\"text-align: right;\">\n",
       "      <th></th>\n",
       "      <th>Hot_Lead</th>\n",
       "      <th>Hot_Lead_Prob</th>\n",
       "      <th>Cust_ID</th>\n",
       "    </tr>\n",
       "  </thead>\n",
       "  <tbody>\n",
       "    <tr>\n",
       "      <th>0</th>\n",
       "      <td>0</td>\n",
       "      <td>0.34</td>\n",
       "      <td>1871</td>\n",
       "    </tr>\n",
       "    <tr>\n",
       "      <th>1</th>\n",
       "      <td>0</td>\n",
       "      <td>0.35</td>\n",
       "      <td>6795</td>\n",
       "    </tr>\n",
       "    <tr>\n",
       "      <th>2</th>\n",
       "      <td>0</td>\n",
       "      <td>0.34</td>\n",
       "      <td>3516</td>\n",
       "    </tr>\n",
       "    <tr>\n",
       "      <th>3</th>\n",
       "      <td>0</td>\n",
       "      <td>0.64</td>\n",
       "      <td>8105</td>\n",
       "    </tr>\n",
       "    <tr>\n",
       "      <th>4</th>\n",
       "      <td>0</td>\n",
       "      <td>0.33</td>\n",
       "      <td>3934</td>\n",
       "    </tr>\n",
       "  </tbody>\n",
       "</table>\n",
       "</div>"
      ],
      "text/plain": [
       "   Hot_Lead  Hot_Lead_Prob  Cust_ID\n",
       "0         0           0.34     1871\n",
       "1         0           0.35     6795\n",
       "2         0           0.34     3516\n",
       "3         0           0.64     8105\n",
       "4         0           0.33     3934"
      ]
     },
     "execution_count": 137,
     "metadata": {},
     "output_type": "execute_result"
    }
   ],
   "source": [
    "y_train_pred_final = pd.DataFrame({'Hot_Lead':y_train.values, 'Hot_Lead_Prob': y_train_pred})\n",
    "y_train_pred_final['Cust_ID'] = y_train.index\n",
    "y_train_pred_final.head()"
   ]
  },
  {
   "cell_type": "markdown",
   "metadata": {},
   "source": [
    "### ROC Curve"
   ]
  },
  {
   "cell_type": "code",
   "execution_count": 138,
   "metadata": {},
   "outputs": [
    {
     "data": {
      "image/png": "[encoded data removed]",
      "text/plain": [
       "<Figure size 360x360 with 1 Axes>"
      ]
     },
     "metadata": {},
     "output_type": "display_data"
    }
   ],
   "source": [
    "def draw_roc( actual, probs ):\n",
    "    fpr, tpr, thresholds = metrics.roc_curve( actual, probs,\n",
    "                                              drop_intermediate = False )\n",
    "    auc_score = metrics.roc_auc_score( actual, probs )\n",
    "    plt.figure(figsize=(5, 5))\n",
    "    plt.plot( fpr, tpr, label='ROC curve (area = %0.2f)' % auc_score )\n",
    "    plt.plot([0, 1], [0, 1], 'k--')\n",
    "    plt.xlim([0.0, 1.0])\n",
    "    plt.ylim([0.0, 1.05])\n",
    "    plt.xlabel('False Positive Rate or [1 - True Negative Rate]')\n",
    "    plt.ylabel('True Positive Rate')\n",
    "    plt.title('Receiver operating characteristic example')\n",
    "    plt.legend(loc=\"lower right\")\n",
    "    plt.show()\n",
    "\n",
    "    return None\n",
    "\n",
    "# Calling the function\n",
    "draw_roc(y_train_pred_final.Hot_Lead, y_train_pred_final.Hot_Lead_Prob)"
   ]
  },
  {
   "cell_type": "markdown",
   "metadata": {},
   "source": [
    "### Optimum Threshold"
   ]
  },
  {
   "cell_type": "code",
   "execution_count": 139,
   "metadata": {},
   "outputs": [
    {
     "data": {
      "text/html": [
       "<div>\n",
       "<style scoped>\n",
       "    .dataframe tbody tr th:only-of-type {\n",
       "        vertical-align: middle;\n",
       "    }\n",
       "\n",
       "    .dataframe tbody tr th {\n",
       "        vertical-align: top;\n",
       "    }\n",
       "\n",
       "    .dataframe thead th {\n",
       "        text-align: right;\n",
       "    }\n",
       "</style>\n",
       "<table border=\"1\" class=\"dataframe\">\n",
       "  <thead>\n",
       "    <tr style=\"text-align: right;\">\n",
       "      <th></th>\n",
       "      <th>Hot_Lead</th>\n",
       "      <th>Hot_Lead_Prob</th>\n",
       "      <th>Cust_ID</th>\n",
       "      <th>0.0</th>\n",
       "      <th>0.1</th>\n",
       "      <th>0.2</th>\n",
       "      <th>0.3</th>\n",
       "      <th>0.4</th>\n",
       "      <th>0.5</th>\n",
       "      <th>0.6</th>\n",
       "      <th>0.7</th>\n",
       "      <th>0.8</th>\n",
       "      <th>0.9</th>\n",
       "    </tr>\n",
       "  </thead>\n",
       "  <tbody>\n",
       "    <tr>\n",
       "      <th>0</th>\n",
       "      <td>0</td>\n",
       "      <td>0.34</td>\n",
       "      <td>1871</td>\n",
       "      <td>1</td>\n",
       "      <td>1</td>\n",
       "      <td>1</td>\n",
       "      <td>1</td>\n",
       "      <td>0</td>\n",
       "      <td>0</td>\n",
       "      <td>0</td>\n",
       "      <td>0</td>\n",
       "      <td>0</td>\n",
       "      <td>0</td>\n",
       "    </tr>\n",
       "    <tr>\n",
       "      <th>1</th>\n",
       "      <td>0</td>\n",
       "      <td>0.35</td>\n",
       "      <td>6795</td>\n",
       "      <td>1</td>\n",
       "      <td>1</td>\n",
       "      <td>1</td>\n",
       "      <td>1</td>\n",
       "      <td>0</td>\n",
       "      <td>0</td>\n",
       "      <td>0</td>\n",
       "      <td>0</td>\n",
       "      <td>0</td>\n",
       "      <td>0</td>\n",
       "    </tr>\n",
       "    <tr>\n",
       "      <th>2</th>\n",
       "      <td>0</td>\n",
       "      <td>0.34</td>\n",
       "      <td>3516</td>\n",
       "      <td>1</td>\n",
       "      <td>1</td>\n",
       "      <td>1</td>\n",
       "      <td>1</td>\n",
       "      <td>0</td>\n",
       "      <td>0</td>\n",
       "      <td>0</td>\n",
       "      <td>0</td>\n",
       "      <td>0</td>\n",
       "      <td>0</td>\n",
       "    </tr>\n",
       "    <tr>\n",
       "      <th>3</th>\n",
       "      <td>0</td>\n",
       "      <td>0.64</td>\n",
       "      <td>8105</td>\n",
       "      <td>1</td>\n",
       "      <td>1</td>\n",
       "      <td>1</td>\n",
       "      <td>1</td>\n",
       "      <td>1</td>\n",
       "      <td>1</td>\n",
       "      <td>1</td>\n",
       "      <td>0</td>\n",
       "      <td>0</td>\n",
       "      <td>0</td>\n",
       "    </tr>\n",
       "    <tr>\n",
       "      <th>4</th>\n",
       "      <td>0</td>\n",
       "      <td>0.33</td>\n",
       "      <td>3934</td>\n",
       "      <td>1</td>\n",
       "      <td>1</td>\n",
       "      <td>1</td>\n",
       "      <td>1</td>\n",
       "      <td>0</td>\n",
       "      <td>0</td>\n",
       "      <td>0</td>\n",
       "      <td>0</td>\n",
       "      <td>0</td>\n",
       "      <td>0</td>\n",
       "    </tr>\n",
       "  </tbody>\n",
       "</table>\n",
       "</div>"
      ],
      "text/plain": [
       "   Hot_Lead  Hot_Lead_Prob  Cust_ID  0.0  0.1  0.2  0.3  0.4  0.5  0.6  0.7  \\\n",
       "0         0           0.34     1871    1    1    1    1    0    0    0    0   \n",
       "1         0           0.35     6795    1    1    1    1    0    0    0    0   \n",
       "2         0           0.34     3516    1    1    1    1    0    0    0    0   \n",
       "3         0           0.64     8105    1    1    1    1    1    1    1    0   \n",
       "4         0           0.33     3934    1    1    1    1    0    0    0    0   \n",
       "\n",
       "   0.8  0.9  \n",
       "0    0    0  \n",
       "1    0    0  \n",
       "2    0    0  \n",
       "3    0    0  \n",
       "4    0    0  "
      ]
     },
     "execution_count": 139,
     "metadata": {},
     "output_type": "execute_result"
    }
   ],
   "source": [
    "numbers = [float(x)/10 for x in range(10)]\n",
    "\n",
    "for i in numbers:\n",
    "    y_train_pred_final[i] = y_train_pred_final.Hot_Lead_Prob.map(lambda x: 1 if x > i else 0)\n",
    "\n",
    "y_train_pred_final.head()"
   ]
  },
  {
   "cell_type": "code",
   "execution_count": 140,
   "metadata": {},
   "outputs": [
    {
     "name": "stdout",
     "output_type": "stream",
     "text": [
      "      cutoff  accuracy  sensitivity  specificity\n",
      "0.00    0.00      0.38         1.00         0.00\n",
      "0.10    0.10      0.50         0.98         0.21\n",
      "0.20    0.20      0.67         0.91         0.53\n",
      "0.30    0.30      0.76         0.82         0.72\n",
      "0.40    0.40      0.79         0.69         0.85\n",
      "0.50    0.50      0.78         0.61         0.89\n",
      "0.60    0.60      0.77         0.54         0.92\n",
      "0.70    0.70      0.75         0.43         0.94\n",
      "0.80    0.80      0.72         0.32         0.97\n",
      "0.90    0.90      0.68         0.17         0.99\n"
     ]
    }
   ],
   "source": [
    "cutoff_df = pd.DataFrame(columns = ['cutoff','accuracy','sensitivity','specificity'])\n",
    "\n",
    "numbers = [float(x)/10 for x in range(10)]\n",
    "\n",
    "for i in numbers:\n",
    "    confusion = metrics.confusion_matrix(y_train_pred_final.Hot_Lead, y_train_pred_final[i])\n",
    "    total = sum(sum(confusion))\n",
    "    \n",
    "    accuracy = (confusion[1,1] + confusion[0,0])/total\n",
    "    sensitivity = confusion[1,1]/(confusion[1,1]+confusion[1,0])\n",
    "    specificity = confusion[0,0]/(confusion[0,0]+confusion[0,1])\n",
    "    cutoff_df.loc[i] = [i, accuracy, sensitivity, specificity]\n",
    "\n",
    "print(cutoff_df)"
   ]
  },
  {
   "cell_type": "code",
   "execution_count": 141,
   "metadata": {},
   "outputs": [
    {
     "data": {
      "text/plain": [
       "<Figure size 864x864 with 0 Axes>"
      ]
     },
     "metadata": {},
     "output_type": "display_data"
    },
    {
     "data": {
      "image/png": "[encoded data removed]",
      "text/plain": [
       "<Figure size 432x288 with 1 Axes>"
      ]
     },
     "metadata": {},
     "output_type": "display_data"
    }
   ],
   "source": [
    "plt.figure(figsize = [12,12])\n",
    "cutoff_df.plot.line(x = 'cutoff', y = ['accuracy','sensitivity','specificity'])\n",
    "plt.xticks(numbers)\n",
    "plt.show()"
   ]
  },
  {
   "cell_type": "markdown",
   "metadata": {},
   "source": [
    "Probability Threshold is 0.34 (closer to 0.3) But considering 0.3 to tradeoff sensitivity against accuracy"
   ]
  },
  {
   "cell_type": "code",
   "execution_count": 142,
   "metadata": {},
   "outputs": [],
   "source": [
    "y_train_pred_final.Predicted = y_train_pred_final.Hot_Lead_Prob.map(lambda x: 1 if x > 0.25 else 0)"
   ]
  },
  {
   "cell_type": "code",
   "execution_count": 143,
   "metadata": {},
   "outputs": [
    {
     "data": {
      "text/plain": [
       "array([[2562, 1440],\n",
       "       [ 359, 2107]], dtype=int64)"
      ]
     },
     "execution_count": 143,
     "metadata": {},
     "output_type": "execute_result"
    }
   ],
   "source": [
    "confusion = metrics.confusion_matrix(y_train_pred_final.Hot_Lead, y_train_pred_final.Predicted)\n",
    "confusion"
   ]
  },
  {
   "cell_type": "code",
   "execution_count": 144,
   "metadata": {},
   "outputs": [
    {
     "data": {
      "text/plain": [
       "85.44201135442012"
      ]
     },
     "execution_count": 144,
     "metadata": {},
     "output_type": "execute_result"
    }
   ],
   "source": [
    "sensitivity = confusion[1,1]/(confusion[1,1] + confusion[1,0])\n",
    "sensitivity*100"
   ]
  },
  {
   "cell_type": "code",
   "execution_count": 145,
   "metadata": {},
   "outputs": [
    {
     "data": {
      "text/plain": [
       "72.18614718614718"
      ]
     },
     "execution_count": 145,
     "metadata": {},
     "output_type": "execute_result"
    }
   ],
   "source": [
    "accuracy = metrics.accuracy_score(y_train_pred_final.Hot_Lead, y_train_pred_final.Predicted)\n",
    "accuracy*100"
   ]
  },
  {
   "cell_type": "code",
   "execution_count": 146,
   "metadata": {},
   "outputs": [
    {
     "data": {
      "text/plain": [
       "64.01799100449776"
      ]
     },
     "execution_count": 146,
     "metadata": {},
     "output_type": "execute_result"
    }
   ],
   "source": [
    "specificity = confusion[0,0]/(confusion[0,0]+confusion[0,1])\n",
    "specificity*100"
   ]
  },
  {
   "cell_type": "markdown",
   "metadata": {},
   "source": [
    "Sensitivity for Training Dataset - 85.44%"
   ]
  },
  {
   "cell_type": "markdown",
   "metadata": {},
   "source": [
    "### Precision and Recall"
   ]
  },
  {
   "cell_type": "code",
   "execution_count": 147,
   "metadata": {},
   "outputs": [
    {
     "data": {
      "text/plain": [
       "0.5940231181279955"
      ]
     },
     "execution_count": 147,
     "metadata": {},
     "output_type": "execute_result"
    }
   ],
   "source": [
    "precision_score(y_train_pred_final.Hot_Lead, y_train_pred_final.Predicted)"
   ]
  },
  {
   "cell_type": "code",
   "execution_count": 148,
   "metadata": {},
   "outputs": [
    {
     "data": {
      "text/plain": [
       "0.8544201135442011"
      ]
     },
     "execution_count": 148,
     "metadata": {},
     "output_type": "execute_result"
    }
   ],
   "source": [
    "recall_score(y_train_pred_final.Hot_Lead, y_train_pred_final.Predicted)"
   ]
  },
  {
   "cell_type": "markdown",
   "metadata": {},
   "source": [
    "### Precision Recall Tradeoff"
   ]
  },
  {
   "cell_type": "code",
   "execution_count": 149,
   "metadata": {},
   "outputs": [],
   "source": [
    "precision, recall, thresholds = precision_recall_curve(y_train_pred_final.Hot_Lead, y_train_pred_final.Hot_Lead_Prob)"
   ]
  },
  {
   "cell_type": "code",
   "execution_count": 150,
   "metadata": {},
   "outputs": [
    {
     "data": {
      "image/png": "[encoded data removed]",
      "text/plain": [
       "<Figure size 432x288 with 1 Axes>"
      ]
     },
     "metadata": {},
     "output_type": "display_data"
    }
   ],
   "source": [
    "plt.plot(thresholds, precision[:-1], \"g-\")\n",
    "plt.plot(thresholds, recall[:-1], \"r-\")\n",
    "plt.show()"
   ]
  },
  {
   "cell_type": "markdown",
   "metadata": {},
   "source": [
    "### Predicting on the test set"
   ]
  },
  {
   "cell_type": "code",
   "execution_count": 151,
   "metadata": {},
   "outputs": [],
   "source": [
    "numerical_cols = ['total_visits','time_on_website','page_views_per_visit']\n",
    "\n",
    "X_test[numerical_cols] = scaler.transform(X_test[numerical_cols])"
   ]
  },
  {
   "cell_type": "code",
   "execution_count": 152,
   "metadata": {},
   "outputs": [
    {
     "data": {
      "text/html": [
       "<div>\n",
       "<style scoped>\n",
       "    .dataframe tbody tr th:only-of-type {\n",
       "        vertical-align: middle;\n",
       "    }\n",
       "\n",
       "    .dataframe tbody tr th {\n",
       "        vertical-align: top;\n",
       "    }\n",
       "\n",
       "    .dataframe thead th {\n",
       "        text-align: right;\n",
       "    }\n",
       "</style>\n",
       "<table border=\"1\" class=\"dataframe\">\n",
       "  <thead>\n",
       "    <tr style=\"text-align: right;\">\n",
       "      <th></th>\n",
       "      <th>lead_number</th>\n",
       "      <th>do_not_email</th>\n",
       "      <th>time_on_website</th>\n",
       "      <th>page_views_per_visit</th>\n",
       "      <th>lead_source_Olark Chat</th>\n",
       "      <th>lead_source_Other Social Sites</th>\n",
       "      <th>lead_source_Reference</th>\n",
       "      <th>occupation_Unemployed</th>\n",
       "      <th>occupation_Working Professional</th>\n",
       "    </tr>\n",
       "  </thead>\n",
       "  <tbody>\n",
       "    <tr>\n",
       "      <th>4269</th>\n",
       "      <td>619003</td>\n",
       "      <td>0</td>\n",
       "      <td>0.44</td>\n",
       "      <td>0.89</td>\n",
       "      <td>0</td>\n",
       "      <td>0</td>\n",
       "      <td>0</td>\n",
       "      <td>0</td>\n",
       "      <td>0</td>\n",
       "    </tr>\n",
       "    <tr>\n",
       "      <th>2376</th>\n",
       "      <td>636884</td>\n",
       "      <td>0</td>\n",
       "      <td>0.00</td>\n",
       "      <td>0.00</td>\n",
       "      <td>0</td>\n",
       "      <td>0</td>\n",
       "      <td>1</td>\n",
       "      <td>1</td>\n",
       "      <td>0</td>\n",
       "    </tr>\n",
       "    <tr>\n",
       "      <th>7766</th>\n",
       "      <td>590281</td>\n",
       "      <td>0</td>\n",
       "      <td>0.03</td>\n",
       "      <td>0.56</td>\n",
       "      <td>0</td>\n",
       "      <td>0</td>\n",
       "      <td>0</td>\n",
       "      <td>0</td>\n",
       "      <td>1</td>\n",
       "    </tr>\n",
       "    <tr>\n",
       "      <th>9199</th>\n",
       "      <td>579892</td>\n",
       "      <td>0</td>\n",
       "      <td>0.00</td>\n",
       "      <td>0.00</td>\n",
       "      <td>1</td>\n",
       "      <td>0</td>\n",
       "      <td>0</td>\n",
       "      <td>1</td>\n",
       "      <td>0</td>\n",
       "    </tr>\n",
       "    <tr>\n",
       "      <th>4359</th>\n",
       "      <td>617929</td>\n",
       "      <td>0</td>\n",
       "      <td>0.00</td>\n",
       "      <td>0.00</td>\n",
       "      <td>0</td>\n",
       "      <td>0</td>\n",
       "      <td>1</td>\n",
       "      <td>1</td>\n",
       "      <td>0</td>\n",
       "    </tr>\n",
       "  </tbody>\n",
       "</table>\n",
       "</div>"
      ],
      "text/plain": [
       "     lead_number  do_not_email  time_on_website  page_views_per_visit  \\\n",
       "4269      619003             0             0.44                  0.89   \n",
       "2376      636884             0             0.00                  0.00   \n",
       "7766      590281             0             0.03                  0.56   \n",
       "9199      579892             0             0.00                  0.00   \n",
       "4359      617929             0             0.00                  0.00   \n",
       "\n",
       "      lead_source_Olark Chat  lead_source_Other Social Sites  \\\n",
       "4269                       0                               0   \n",
       "2376                       0                               0   \n",
       "7766                       0                               0   \n",
       "9199                       1                               0   \n",
       "4359                       0                               0   \n",
       "\n",
       "      lead_source_Reference  occupation_Unemployed  \\\n",
       "4269                      0                      0   \n",
       "2376                      1                      1   \n",
       "7766                      0                      0   \n",
       "9199                      0                      1   \n",
       "4359                      1                      1   \n",
       "\n",
       "      occupation_Working Professional  \n",
       "4269                                0  \n",
       "2376                                0  \n",
       "7766                                1  \n",
       "9199                                0  \n",
       "4359                                0  "
      ]
     },
     "execution_count": 152,
     "metadata": {},
     "output_type": "execute_result"
    }
   ],
   "source": [
    "X_test = X_test[col]\n",
    "X_test.head()"
   ]
  },
  {
   "cell_type": "code",
   "execution_count": 155,
   "metadata": {},
   "outputs": [],
   "source": [
    "X_test_sm = sm.add_constant(X_test)"
   ]
  },
  {
   "cell_type": "code",
   "execution_count": 157,
   "metadata": {},
   "outputs": [],
   "source": [
    "y_test_pred = res.predict(X_test_sm.astype(float))"
   ]
  },
  {
   "cell_type": "code",
   "execution_count": 158,
   "metadata": {},
   "outputs": [],
   "source": [
    "y_test_1 = pd.DataFrame(y_test_pred)\n",
    "y_test_df = pd.DataFrame(y_test)"
   ]
  },
  {
   "cell_type": "code",
   "execution_count": 159,
   "metadata": {},
   "outputs": [],
   "source": [
    "y_test_df['Cust_ID'] = y_test_df.index"
   ]
  },
  {
   "cell_type": "code",
   "execution_count": 160,
   "metadata": {},
   "outputs": [],
   "source": [
    "y_test_df.reset_index(drop = True, inplace = True)\n",
    "y_test_1.reset_index(drop = True, inplace = True)"
   ]
  },
  {
   "cell_type": "code",
   "execution_count": 161,
   "metadata": {},
   "outputs": [],
   "source": [
    "y_pred_final = pd.concat([y_test_1,y_test_df], axis = 1)"
   ]
  },
  {
   "cell_type": "code",
   "execution_count": 162,
   "metadata": {},
   "outputs": [],
   "source": [
    "y_pred_final = y_pred_final.rename(columns = {0:'Hot_Lead_Prob'})"
   ]
  },
  {
   "cell_type": "code",
   "execution_count": 163,
   "metadata": {},
   "outputs": [],
   "source": [
    "y_pred_final = y_pred_final[['Cust_ID','converted','Hot_Lead_Prob']]"
   ]
  },
  {
   "cell_type": "code",
   "execution_count": 164,
   "metadata": {},
   "outputs": [],
   "source": [
    "y_pred_final['Final_Predicted'] = y_pred_final.Hot_Lead_Prob.map(lambda x: 1 if x > 0.25 else 0)"
   ]
  },
  {
   "cell_type": "code",
   "execution_count": 165,
   "metadata": {},
   "outputs": [],
   "source": [
    "y_pred_final = y_pred_final.sort_values(by = 'Hot_Lead_Prob', ascending = False)"
   ]
  },
  {
   "cell_type": "code",
   "execution_count": 166,
   "metadata": {},
   "outputs": [
    {
     "data": {
      "text/html": [
       "<div>\n",
       "<style scoped>\n",
       "    .dataframe tbody tr th:only-of-type {\n",
       "        vertical-align: middle;\n",
       "    }\n",
       "\n",
       "    .dataframe tbody tr th {\n",
       "        vertical-align: top;\n",
       "    }\n",
       "\n",
       "    .dataframe thead th {\n",
       "        text-align: right;\n",
       "    }\n",
       "</style>\n",
       "<table border=\"1\" class=\"dataframe\">\n",
       "  <thead>\n",
       "    <tr style=\"text-align: right;\">\n",
       "      <th></th>\n",
       "      <th>Cust_ID</th>\n",
       "      <th>converted</th>\n",
       "      <th>Hot_Lead_Prob</th>\n",
       "      <th>Final_Predicted</th>\n",
       "    </tr>\n",
       "  </thead>\n",
       "  <tbody>\n",
       "    <tr>\n",
       "      <th>546</th>\n",
       "      <td>3478</td>\n",
       "      <td>1</td>\n",
       "      <td>1.00</td>\n",
       "      <td>1</td>\n",
       "    </tr>\n",
       "    <tr>\n",
       "      <th>745</th>\n",
       "      <td>6383</td>\n",
       "      <td>1</td>\n",
       "      <td>1.00</td>\n",
       "      <td>1</td>\n",
       "    </tr>\n",
       "    <tr>\n",
       "      <th>1091</th>\n",
       "      <td>818</td>\n",
       "      <td>1</td>\n",
       "      <td>1.00</td>\n",
       "      <td>1</td>\n",
       "    </tr>\n",
       "    <tr>\n",
       "      <th>2405</th>\n",
       "      <td>5921</td>\n",
       "      <td>1</td>\n",
       "      <td>1.00</td>\n",
       "      <td>1</td>\n",
       "    </tr>\n",
       "    <tr>\n",
       "      <th>835</th>\n",
       "      <td>4613</td>\n",
       "      <td>1</td>\n",
       "      <td>1.00</td>\n",
       "      <td>1</td>\n",
       "    </tr>\n",
       "    <tr>\n",
       "      <th>...</th>\n",
       "      <td>...</td>\n",
       "      <td>...</td>\n",
       "      <td>...</td>\n",
       "      <td>...</td>\n",
       "    </tr>\n",
       "    <tr>\n",
       "      <th>139</th>\n",
       "      <td>322</td>\n",
       "      <td>0</td>\n",
       "      <td>0.02</td>\n",
       "      <td>0</td>\n",
       "    </tr>\n",
       "    <tr>\n",
       "      <th>943</th>\n",
       "      <td>5164</td>\n",
       "      <td>0</td>\n",
       "      <td>0.02</td>\n",
       "      <td>0</td>\n",
       "    </tr>\n",
       "    <tr>\n",
       "      <th>1488</th>\n",
       "      <td>4249</td>\n",
       "      <td>0</td>\n",
       "      <td>0.02</td>\n",
       "      <td>0</td>\n",
       "    </tr>\n",
       "    <tr>\n",
       "      <th>166</th>\n",
       "      <td>5521</td>\n",
       "      <td>0</td>\n",
       "      <td>0.02</td>\n",
       "      <td>0</td>\n",
       "    </tr>\n",
       "    <tr>\n",
       "      <th>2415</th>\n",
       "      <td>6669</td>\n",
       "      <td>0</td>\n",
       "      <td>0.01</td>\n",
       "      <td>0</td>\n",
       "    </tr>\n",
       "  </tbody>\n",
       "</table>\n",
       "<p>2772 rows × 4 columns</p>\n",
       "</div>"
      ],
      "text/plain": [
       "      Cust_ID  converted  Hot_Lead_Prob  Final_Predicted\n",
       "546      3478          1           1.00                1\n",
       "745      6383          1           1.00                1\n",
       "1091      818          1           1.00                1\n",
       "2405     5921          1           1.00                1\n",
       "835      4613          1           1.00                1\n",
       "...       ...        ...            ...              ...\n",
       "139       322          0           0.02                0\n",
       "943      5164          0           0.02                0\n",
       "1488     4249          0           0.02                0\n",
       "166      5521          0           0.02                0\n",
       "2415     6669          0           0.01                0\n",
       "\n",
       "[2772 rows x 4 columns]"
      ]
     },
     "execution_count": 166,
     "metadata": {},
     "output_type": "execute_result"
    }
   ],
   "source": [
    "y_pred_final"
   ]
  },
  {
   "cell_type": "code",
   "execution_count": 167,
   "metadata": {},
   "outputs": [],
   "source": [
    "y_pred_final['Score'] = y_pred_final.Hot_Lead_Prob.apply(lambda x: round(x*100,2))"
   ]
  },
  {
   "cell_type": "code",
   "execution_count": 168,
   "metadata": {},
   "outputs": [
    {
     "data": {
      "text/html": [
       "<div>\n",
       "<style scoped>\n",
       "    .dataframe tbody tr th:only-of-type {\n",
       "        vertical-align: middle;\n",
       "    }\n",
       "\n",
       "    .dataframe tbody tr th {\n",
       "        vertical-align: top;\n",
       "    }\n",
       "\n",
       "    .dataframe thead th {\n",
       "        text-align: right;\n",
       "    }\n",
       "</style>\n",
       "<table border=\"1\" class=\"dataframe\">\n",
       "  <thead>\n",
       "    <tr style=\"text-align: right;\">\n",
       "      <th></th>\n",
       "      <th>Cust_ID</th>\n",
       "      <th>converted</th>\n",
       "      <th>Hot_Lead_Prob</th>\n",
       "      <th>Final_Predicted</th>\n",
       "      <th>Score</th>\n",
       "    </tr>\n",
       "  </thead>\n",
       "  <tbody>\n",
       "    <tr>\n",
       "      <th>546</th>\n",
       "      <td>3478</td>\n",
       "      <td>1</td>\n",
       "      <td>1.00</td>\n",
       "      <td>1</td>\n",
       "      <td>99.94</td>\n",
       "    </tr>\n",
       "    <tr>\n",
       "      <th>745</th>\n",
       "      <td>6383</td>\n",
       "      <td>1</td>\n",
       "      <td>1.00</td>\n",
       "      <td>1</td>\n",
       "      <td>99.94</td>\n",
       "    </tr>\n",
       "    <tr>\n",
       "      <th>1091</th>\n",
       "      <td>818</td>\n",
       "      <td>1</td>\n",
       "      <td>1.00</td>\n",
       "      <td>1</td>\n",
       "      <td>99.92</td>\n",
       "    </tr>\n",
       "    <tr>\n",
       "      <th>2405</th>\n",
       "      <td>5921</td>\n",
       "      <td>1</td>\n",
       "      <td>1.00</td>\n",
       "      <td>1</td>\n",
       "      <td>99.90</td>\n",
       "    </tr>\n",
       "    <tr>\n",
       "      <th>835</th>\n",
       "      <td>4613</td>\n",
       "      <td>1</td>\n",
       "      <td>1.00</td>\n",
       "      <td>1</td>\n",
       "      <td>99.84</td>\n",
       "    </tr>\n",
       "    <tr>\n",
       "      <th>...</th>\n",
       "      <td>...</td>\n",
       "      <td>...</td>\n",
       "      <td>...</td>\n",
       "      <td>...</td>\n",
       "      <td>...</td>\n",
       "    </tr>\n",
       "    <tr>\n",
       "      <th>139</th>\n",
       "      <td>322</td>\n",
       "      <td>0</td>\n",
       "      <td>0.02</td>\n",
       "      <td>0</td>\n",
       "      <td>1.69</td>\n",
       "    </tr>\n",
       "    <tr>\n",
       "      <th>943</th>\n",
       "      <td>5164</td>\n",
       "      <td>0</td>\n",
       "      <td>0.02</td>\n",
       "      <td>0</td>\n",
       "      <td>1.56</td>\n",
       "    </tr>\n",
       "    <tr>\n",
       "      <th>1488</th>\n",
       "      <td>4249</td>\n",
       "      <td>0</td>\n",
       "      <td>0.02</td>\n",
       "      <td>0</td>\n",
       "      <td>1.53</td>\n",
       "    </tr>\n",
       "    <tr>\n",
       "      <th>166</th>\n",
       "      <td>5521</td>\n",
       "      <td>0</td>\n",
       "      <td>0.02</td>\n",
       "      <td>0</td>\n",
       "      <td>1.52</td>\n",
       "    </tr>\n",
       "    <tr>\n",
       "      <th>2415</th>\n",
       "      <td>6669</td>\n",
       "      <td>0</td>\n",
       "      <td>0.01</td>\n",
       "      <td>0</td>\n",
       "      <td>1.48</td>\n",
       "    </tr>\n",
       "  </tbody>\n",
       "</table>\n",
       "<p>2772 rows × 5 columns</p>\n",
       "</div>"
      ],
      "text/plain": [
       "      Cust_ID  converted  Hot_Lead_Prob  Final_Predicted  Score\n",
       "546      3478          1           1.00                1  99.94\n",
       "745      6383          1           1.00                1  99.94\n",
       "1091      818          1           1.00                1  99.92\n",
       "2405     5921          1           1.00                1  99.90\n",
       "835      4613          1           1.00                1  99.84\n",
       "...       ...        ...            ...              ...    ...\n",
       "139       322          0           0.02                0   1.69\n",
       "943      5164          0           0.02                0   1.56\n",
       "1488     4249          0           0.02                0   1.53\n",
       "166      5521          0           0.02                0   1.52\n",
       "2415     6669          0           0.01                0   1.48\n",
       "\n",
       "[2772 rows x 5 columns]"
      ]
     },
     "execution_count": 168,
     "metadata": {},
     "output_type": "execute_result"
    }
   ],
   "source": [
    "y_pred_final"
   ]
  },
  {
   "cell_type": "code",
   "execution_count": 169,
   "metadata": {},
   "outputs": [
    {
     "data": {
      "text/plain": [
       "array([[1062,  615],\n",
       "       [ 148,  947]], dtype=int64)"
      ]
     },
     "execution_count": 169,
     "metadata": {},
     "output_type": "execute_result"
    }
   ],
   "source": [
    "confusion2 = metrics.confusion_matrix(y_pred_final.converted, y_pred_final.Final_Predicted)\n",
    "confusion2"
   ]
  },
  {
   "cell_type": "code",
   "execution_count": 170,
   "metadata": {},
   "outputs": [
    {
     "data": {
      "text/plain": [
       "72.47474747474747"
      ]
     },
     "execution_count": 170,
     "metadata": {},
     "output_type": "execute_result"
    }
   ],
   "source": [
    "accuracy_test = metrics.accuracy_score(y_pred_final.converted, y_pred_final.Final_Predicted)\n",
    "accuracy_test*100"
   ]
  },
  {
   "cell_type": "code",
   "execution_count": 171,
   "metadata": {},
   "outputs": [
    {
     "data": {
      "text/plain": [
       "86.48401826484017"
      ]
     },
     "execution_count": 171,
     "metadata": {},
     "output_type": "execute_result"
    }
   ],
   "source": [
    "sensitivity_test = confusion2[1,1]/(confusion2[1,1]+confusion2[1,0])\n",
    "sensitivity_test*100"
   ]
  },
  {
   "cell_type": "code",
   "execution_count": 172,
   "metadata": {},
   "outputs": [
    {
     "data": {
      "text/plain": [
       "63.327370304114496"
      ]
     },
     "execution_count": 172,
     "metadata": {},
     "output_type": "execute_result"
    }
   ],
   "source": [
    "specificity_test = confusion2[0,0]/(confusion2[0,1]+confusion2[0,0])\n",
    "specificity_test*100"
   ]
  },
  {
   "cell_type": "markdown",
   "metadata": {},
   "source": [
    "Sensitivity for Testing Dataset - 86.48%"
   ]
  },
  {
   "cell_type": "markdown",
   "metadata": {},
   "source": [
    "Difference between Sensitivity scores of Train and Test 1.04"
   ]
  },
  {
   "cell_type": "markdown",
   "metadata": {},
   "source": [
    "Features to be considered:\n",
    "\n",
    "    1. Lead with occupation/ student\n",
    "    \n",
    "    2. soure of the search is google\n",
    "    \n",
    "    3. leads from social media and through reference\n",
    "    \n",
    "    4. number of times page is visited"
   ]
  }
 ],
 "metadata": {
  "kernelspec": {
   "display_name": "Python 3",
   "language": "python",
   "name": "python3"
  },
  "language_info": {
   "codemirror_mode": {
    "name": "ipython",
    "version": 3
   },
   "file_extension": ".py",
   "mimetype": "text/x-python",
   "name": "python",
   "nbconvert_exporter": "python",
   "pygments_lexer": "ipython3",
   "version": "3.7.10"
  },
  "toc": {
   "base_numbering": 1,
   "nav_menu": {},
   "number_sections": true,
   "sideBar": true,
   "skip_h1_title": false,
   "title_cell": "Table of Contents",
   "title_sidebar": "Contents",
   "toc_cell": false,
   "toc_position": {
    "height": "calc(100% - 180px)",
    "left": "10px",
    "top": "150px",
    "width": "256px"
   },
   "toc_section_display": true,
   "toc_window_display": true
  }
 },
 "nbformat": 4,
 "nbformat_minor": 5
}
